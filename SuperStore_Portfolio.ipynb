{
 "cells": [
  {
   "cell_type": "code",
   "execution_count": 51,
   "metadata": {},
   "outputs": [
    {
     "name": "stdout",
     "output_type": "stream",
     "text": [
      "<class 'pandas.core.frame.DataFrame'>\n",
      "RangeIndex: 51290 entries, 0 to 51289\n",
      "Data columns (total 27 columns):\n",
      " #   Column          Non-Null Count  Dtype  \n",
      "---  ------          --------------  -----  \n",
      " 0   Category        51290 non-null  object \n",
      " 1   City            51290 non-null  object \n",
      " 2   Country         51290 non-null  object \n",
      " 3   Customer.ID     51290 non-null  object \n",
      " 4   Customer.Name   51290 non-null  object \n",
      " 5   Discount        51290 non-null  float64\n",
      " 6   Market          51290 non-null  object \n",
      " 7   记录数             51290 non-null  int64  \n",
      " 8   Order.Date      51290 non-null  object \n",
      " 9   Order.ID        51290 non-null  object \n",
      " 10  Order.Priority  51290 non-null  object \n",
      " 11  Product.ID      51290 non-null  object \n",
      " 12  Product.Name    51290 non-null  object \n",
      " 13  Profit          51290 non-null  float64\n",
      " 14  Quantity        51290 non-null  int64  \n",
      " 15  Region          51290 non-null  object \n",
      " 16  Row.ID          51290 non-null  int64  \n",
      " 17  Sales           51290 non-null  int64  \n",
      " 18  Segment         51290 non-null  object \n",
      " 19  Ship.Date       51290 non-null  object \n",
      " 20  Ship.Mode       51290 non-null  object \n",
      " 21  Shipping.Cost   51290 non-null  float64\n",
      " 22  State           51290 non-null  object \n",
      " 23  Sub.Category    51290 non-null  object \n",
      " 24  Year            51290 non-null  int64  \n",
      " 25  Market2         51290 non-null  object \n",
      " 26  weeknum         51290 non-null  int64  \n",
      "dtypes: float64(3), int64(6), object(18)\n",
      "memory usage: 10.6+ MB\n"
     ]
    }
   ],
   "source": [
    "import pandas as pd\n",
    "import numpy as np\n",
    "import pandas as pd\n",
    "import seaborn as sns\n",
    "import plotly.express as px\n",
    "from  plotly.subplots  import make_subplots\n",
    "import plotly.graph_objects as go\n",
    "import matplotlib.pyplot as plt\n",
    "\n",
    "df = pd.read_csv('superstore.csv')\n",
    "df.info()"
   ]
  },
  {
   "cell_type": "markdown",
   "metadata": {},
   "source": [
    "### APAC 시장 점유율 높은 5개 국가"
   ]
  },
  {
   "cell_type": "code",
   "execution_count": 52,
   "metadata": {},
   "outputs": [
    {
     "data": {
      "application/vnd.plotly.v1+json": {
       "config": {
        "plotlyServerURL": "https://plot.ly"
       },
       "data": [
        {
         "hovertemplate": "국가=Australia<br>년도=%{x}<br>시장 점유율 (%)=%{y}<extra></extra>",
         "legendgroup": "Australia",
         "line": {
          "color": "#636efa",
          "dash": "solid"
         },
         "marker": {
          "symbol": "circle"
         },
         "mode": "lines+markers",
         "name": "Australia",
         "orientation": "v",
         "showlegend": true,
         "type": "scatter",
         "x": [
          2011,
          2012,
          2013,
          2014
         ],
         "xaxis": "x",
         "y": [
          21.522563447965158,
          26.740400738913994,
          27.59747921749855,
          26.028646802457807
         ],
         "yaxis": "y"
        },
        {
         "hovertemplate": "국가=China<br>년도=%{x}<br>시장 점유율 (%)=%{y}<extra></extra>",
         "legendgroup": "China",
         "line": {
          "color": "#EF553B",
          "dash": "solid"
         },
         "marker": {
          "symbol": "circle"
         },
         "mode": "lines+markers",
         "name": "China",
         "orientation": "v",
         "showlegend": true,
         "type": "scatter",
         "x": [
          2011,
          2012,
          2013,
          2014
         ],
         "xaxis": "x",
         "y": [
          24.356290984632327,
          17.07447219960642,
          20.077712498640494,
          18.108930624126497
         ],
         "yaxis": "y"
        },
        {
         "hovertemplate": "국가=India<br>년도=%{x}<br>시장 점유율 (%)=%{y}<extra></extra>",
         "legendgroup": "India",
         "line": {
          "color": "#00cc96",
          "dash": "solid"
         },
         "marker": {
          "symbol": "circle"
         },
         "mode": "lines+markers",
         "name": "India",
         "orientation": "v",
         "showlegend": true,
         "type": "scatter",
         "x": [
          2011,
          2012,
          2013,
          2014
         ],
         "xaxis": "x",
         "y": [
          14.297223056514992,
          18.550858023890154,
          15.56897163811873,
          16.956029142994186
         ],
         "yaxis": "y"
        },
        {
         "hovertemplate": "국가=Indonesia<br>년도=%{x}<br>시장 점유율 (%)=%{y}<extra></extra>",
         "legendgroup": "Indonesia",
         "line": {
          "color": "#ab63fa",
          "dash": "solid"
         },
         "marker": {
          "symbol": "circle"
         },
         "mode": "lines+markers",
         "name": "Indonesia",
         "orientation": "v",
         "showlegend": true,
         "type": "scatter",
         "x": [
          2011,
          2012,
          2013,
          2014
         ],
         "xaxis": "x",
         "y": [
          9.738543074535716,
          12.245834431346944,
          10.659868789618086,
          12.019004143200933
         ],
         "yaxis": "y"
        },
        {
         "hovertemplate": "국가=Philippines<br>년도=%{x}<br>시장 점유율 (%)=%{y}<extra></extra>",
         "legendgroup": "Philippines",
         "line": {
          "color": "#FFA15A",
          "dash": "solid"
         },
         "marker": {
          "symbol": "circle"
         },
         "mode": "lines+markers",
         "name": "Philippines",
         "orientation": "v",
         "showlegend": true,
         "type": "scatter",
         "x": [
          2011,
          2012,
          2013,
          2014
         ],
         "xaxis": "x",
         "y": [
          5.490220003003454,
          3.7006008592693984,
          4.394234459039337,
          6.391197558736696
         ],
         "yaxis": "y"
        }
       ],
       "layout": {
        "legend": {
         "title": {
          "text": "국가"
         },
         "tracegroupgap": 0
        },
        "margin": {
         "t": 60
        },
        "plot_bgcolor": "white",
        "template": {
         "data": {
          "bar": [
           {
            "error_x": {
             "color": "#2a3f5f"
            },
            "error_y": {
             "color": "#2a3f5f"
            },
            "marker": {
             "line": {
              "color": "#E5ECF6",
              "width": 0.5
             },
             "pattern": {
              "fillmode": "overlay",
              "size": 10,
              "solidity": 0.2
             }
            },
            "type": "bar"
           }
          ],
          "barpolar": [
           {
            "marker": {
             "line": {
              "color": "#E5ECF6",
              "width": 0.5
             },
             "pattern": {
              "fillmode": "overlay",
              "size": 10,
              "solidity": 0.2
             }
            },
            "type": "barpolar"
           }
          ],
          "carpet": [
           {
            "aaxis": {
             "endlinecolor": "#2a3f5f",
             "gridcolor": "white",
             "linecolor": "white",
             "minorgridcolor": "white",
             "startlinecolor": "#2a3f5f"
            },
            "baxis": {
             "endlinecolor": "#2a3f5f",
             "gridcolor": "white",
             "linecolor": "white",
             "minorgridcolor": "white",
             "startlinecolor": "#2a3f5f"
            },
            "type": "carpet"
           }
          ],
          "choropleth": [
           {
            "colorbar": {
             "outlinewidth": 0,
             "ticks": ""
            },
            "type": "choropleth"
           }
          ],
          "contour": [
           {
            "colorbar": {
             "outlinewidth": 0,
             "ticks": ""
            },
            "colorscale": [
             [
              0,
              "#0d0887"
             ],
             [
              0.1111111111111111,
              "#46039f"
             ],
             [
              0.2222222222222222,
              "#7201a8"
             ],
             [
              0.3333333333333333,
              "#9c179e"
             ],
             [
              0.4444444444444444,
              "#bd3786"
             ],
             [
              0.5555555555555556,
              "#d8576b"
             ],
             [
              0.6666666666666666,
              "#ed7953"
             ],
             [
              0.7777777777777778,
              "#fb9f3a"
             ],
             [
              0.8888888888888888,
              "#fdca26"
             ],
             [
              1,
              "#f0f921"
             ]
            ],
            "type": "contour"
           }
          ],
          "contourcarpet": [
           {
            "colorbar": {
             "outlinewidth": 0,
             "ticks": ""
            },
            "type": "contourcarpet"
           }
          ],
          "heatmap": [
           {
            "colorbar": {
             "outlinewidth": 0,
             "ticks": ""
            },
            "colorscale": [
             [
              0,
              "#0d0887"
             ],
             [
              0.1111111111111111,
              "#46039f"
             ],
             [
              0.2222222222222222,
              "#7201a8"
             ],
             [
              0.3333333333333333,
              "#9c179e"
             ],
             [
              0.4444444444444444,
              "#bd3786"
             ],
             [
              0.5555555555555556,
              "#d8576b"
             ],
             [
              0.6666666666666666,
              "#ed7953"
             ],
             [
              0.7777777777777778,
              "#fb9f3a"
             ],
             [
              0.8888888888888888,
              "#fdca26"
             ],
             [
              1,
              "#f0f921"
             ]
            ],
            "type": "heatmap"
           }
          ],
          "heatmapgl": [
           {
            "colorbar": {
             "outlinewidth": 0,
             "ticks": ""
            },
            "colorscale": [
             [
              0,
              "#0d0887"
             ],
             [
              0.1111111111111111,
              "#46039f"
             ],
             [
              0.2222222222222222,
              "#7201a8"
             ],
             [
              0.3333333333333333,
              "#9c179e"
             ],
             [
              0.4444444444444444,
              "#bd3786"
             ],
             [
              0.5555555555555556,
              "#d8576b"
             ],
             [
              0.6666666666666666,
              "#ed7953"
             ],
             [
              0.7777777777777778,
              "#fb9f3a"
             ],
             [
              0.8888888888888888,
              "#fdca26"
             ],
             [
              1,
              "#f0f921"
             ]
            ],
            "type": "heatmapgl"
           }
          ],
          "histogram": [
           {
            "marker": {
             "pattern": {
              "fillmode": "overlay",
              "size": 10,
              "solidity": 0.2
             }
            },
            "type": "histogram"
           }
          ],
          "histogram2d": [
           {
            "colorbar": {
             "outlinewidth": 0,
             "ticks": ""
            },
            "colorscale": [
             [
              0,
              "#0d0887"
             ],
             [
              0.1111111111111111,
              "#46039f"
             ],
             [
              0.2222222222222222,
              "#7201a8"
             ],
             [
              0.3333333333333333,
              "#9c179e"
             ],
             [
              0.4444444444444444,
              "#bd3786"
             ],
             [
              0.5555555555555556,
              "#d8576b"
             ],
             [
              0.6666666666666666,
              "#ed7953"
             ],
             [
              0.7777777777777778,
              "#fb9f3a"
             ],
             [
              0.8888888888888888,
              "#fdca26"
             ],
             [
              1,
              "#f0f921"
             ]
            ],
            "type": "histogram2d"
           }
          ],
          "histogram2dcontour": [
           {
            "colorbar": {
             "outlinewidth": 0,
             "ticks": ""
            },
            "colorscale": [
             [
              0,
              "#0d0887"
             ],
             [
              0.1111111111111111,
              "#46039f"
             ],
             [
              0.2222222222222222,
              "#7201a8"
             ],
             [
              0.3333333333333333,
              "#9c179e"
             ],
             [
              0.4444444444444444,
              "#bd3786"
             ],
             [
              0.5555555555555556,
              "#d8576b"
             ],
             [
              0.6666666666666666,
              "#ed7953"
             ],
             [
              0.7777777777777778,
              "#fb9f3a"
             ],
             [
              0.8888888888888888,
              "#fdca26"
             ],
             [
              1,
              "#f0f921"
             ]
            ],
            "type": "histogram2dcontour"
           }
          ],
          "mesh3d": [
           {
            "colorbar": {
             "outlinewidth": 0,
             "ticks": ""
            },
            "type": "mesh3d"
           }
          ],
          "parcoords": [
           {
            "line": {
             "colorbar": {
              "outlinewidth": 0,
              "ticks": ""
             }
            },
            "type": "parcoords"
           }
          ],
          "pie": [
           {
            "automargin": true,
            "type": "pie"
           }
          ],
          "scatter": [
           {
            "fillpattern": {
             "fillmode": "overlay",
             "size": 10,
             "solidity": 0.2
            },
            "type": "scatter"
           }
          ],
          "scatter3d": [
           {
            "line": {
             "colorbar": {
              "outlinewidth": 0,
              "ticks": ""
             }
            },
            "marker": {
             "colorbar": {
              "outlinewidth": 0,
              "ticks": ""
             }
            },
            "type": "scatter3d"
           }
          ],
          "scattercarpet": [
           {
            "marker": {
             "colorbar": {
              "outlinewidth": 0,
              "ticks": ""
             }
            },
            "type": "scattercarpet"
           }
          ],
          "scattergeo": [
           {
            "marker": {
             "colorbar": {
              "outlinewidth": 0,
              "ticks": ""
             }
            },
            "type": "scattergeo"
           }
          ],
          "scattergl": [
           {
            "marker": {
             "colorbar": {
              "outlinewidth": 0,
              "ticks": ""
             }
            },
            "type": "scattergl"
           }
          ],
          "scattermapbox": [
           {
            "marker": {
             "colorbar": {
              "outlinewidth": 0,
              "ticks": ""
             }
            },
            "type": "scattermapbox"
           }
          ],
          "scatterpolar": [
           {
            "marker": {
             "colorbar": {
              "outlinewidth": 0,
              "ticks": ""
             }
            },
            "type": "scatterpolar"
           }
          ],
          "scatterpolargl": [
           {
            "marker": {
             "colorbar": {
              "outlinewidth": 0,
              "ticks": ""
             }
            },
            "type": "scatterpolargl"
           }
          ],
          "scatterternary": [
           {
            "marker": {
             "colorbar": {
              "outlinewidth": 0,
              "ticks": ""
             }
            },
            "type": "scatterternary"
           }
          ],
          "surface": [
           {
            "colorbar": {
             "outlinewidth": 0,
             "ticks": ""
            },
            "colorscale": [
             [
              0,
              "#0d0887"
             ],
             [
              0.1111111111111111,
              "#46039f"
             ],
             [
              0.2222222222222222,
              "#7201a8"
             ],
             [
              0.3333333333333333,
              "#9c179e"
             ],
             [
              0.4444444444444444,
              "#bd3786"
             ],
             [
              0.5555555555555556,
              "#d8576b"
             ],
             [
              0.6666666666666666,
              "#ed7953"
             ],
             [
              0.7777777777777778,
              "#fb9f3a"
             ],
             [
              0.8888888888888888,
              "#fdca26"
             ],
             [
              1,
              "#f0f921"
             ]
            ],
            "type": "surface"
           }
          ],
          "table": [
           {
            "cells": {
             "fill": {
              "color": "#EBF0F8"
             },
             "line": {
              "color": "white"
             }
            },
            "header": {
             "fill": {
              "color": "#C8D4E3"
             },
             "line": {
              "color": "white"
             }
            },
            "type": "table"
           }
          ]
         },
         "layout": {
          "annotationdefaults": {
           "arrowcolor": "#2a3f5f",
           "arrowhead": 0,
           "arrowwidth": 1
          },
          "autotypenumbers": "strict",
          "coloraxis": {
           "colorbar": {
            "outlinewidth": 0,
            "ticks": ""
           }
          },
          "colorscale": {
           "diverging": [
            [
             0,
             "#8e0152"
            ],
            [
             0.1,
             "#c51b7d"
            ],
            [
             0.2,
             "#de77ae"
            ],
            [
             0.3,
             "#f1b6da"
            ],
            [
             0.4,
             "#fde0ef"
            ],
            [
             0.5,
             "#f7f7f7"
            ],
            [
             0.6,
             "#e6f5d0"
            ],
            [
             0.7,
             "#b8e186"
            ],
            [
             0.8,
             "#7fbc41"
            ],
            [
             0.9,
             "#4d9221"
            ],
            [
             1,
             "#276419"
            ]
           ],
           "sequential": [
            [
             0,
             "#0d0887"
            ],
            [
             0.1111111111111111,
             "#46039f"
            ],
            [
             0.2222222222222222,
             "#7201a8"
            ],
            [
             0.3333333333333333,
             "#9c179e"
            ],
            [
             0.4444444444444444,
             "#bd3786"
            ],
            [
             0.5555555555555556,
             "#d8576b"
            ],
            [
             0.6666666666666666,
             "#ed7953"
            ],
            [
             0.7777777777777778,
             "#fb9f3a"
            ],
            [
             0.8888888888888888,
             "#fdca26"
            ],
            [
             1,
             "#f0f921"
            ]
           ],
           "sequentialminus": [
            [
             0,
             "#0d0887"
            ],
            [
             0.1111111111111111,
             "#46039f"
            ],
            [
             0.2222222222222222,
             "#7201a8"
            ],
            [
             0.3333333333333333,
             "#9c179e"
            ],
            [
             0.4444444444444444,
             "#bd3786"
            ],
            [
             0.5555555555555556,
             "#d8576b"
            ],
            [
             0.6666666666666666,
             "#ed7953"
            ],
            [
             0.7777777777777778,
             "#fb9f3a"
            ],
            [
             0.8888888888888888,
             "#fdca26"
            ],
            [
             1,
             "#f0f921"
            ]
           ]
          },
          "colorway": [
           "#636efa",
           "#EF553B",
           "#00cc96",
           "#ab63fa",
           "#FFA15A",
           "#19d3f3",
           "#FF6692",
           "#B6E880",
           "#FF97FF",
           "#FECB52"
          ],
          "font": {
           "color": "#2a3f5f"
          },
          "geo": {
           "bgcolor": "white",
           "lakecolor": "white",
           "landcolor": "#E5ECF6",
           "showlakes": true,
           "showland": true,
           "subunitcolor": "white"
          },
          "hoverlabel": {
           "align": "left"
          },
          "hovermode": "closest",
          "mapbox": {
           "style": "light"
          },
          "paper_bgcolor": "white",
          "plot_bgcolor": "#E5ECF6",
          "polar": {
           "angularaxis": {
            "gridcolor": "white",
            "linecolor": "white",
            "ticks": ""
           },
           "bgcolor": "#E5ECF6",
           "radialaxis": {
            "gridcolor": "white",
            "linecolor": "white",
            "ticks": ""
           }
          },
          "scene": {
           "xaxis": {
            "backgroundcolor": "#E5ECF6",
            "gridcolor": "white",
            "gridwidth": 2,
            "linecolor": "white",
            "showbackground": true,
            "ticks": "",
            "zerolinecolor": "white"
           },
           "yaxis": {
            "backgroundcolor": "#E5ECF6",
            "gridcolor": "white",
            "gridwidth": 2,
            "linecolor": "white",
            "showbackground": true,
            "ticks": "",
            "zerolinecolor": "white"
           },
           "zaxis": {
            "backgroundcolor": "#E5ECF6",
            "gridcolor": "white",
            "gridwidth": 2,
            "linecolor": "white",
            "showbackground": true,
            "ticks": "",
            "zerolinecolor": "white"
           }
          },
          "shapedefaults": {
           "line": {
            "color": "#2a3f5f"
           }
          },
          "ternary": {
           "aaxis": {
            "gridcolor": "white",
            "linecolor": "white",
            "ticks": ""
           },
           "baxis": {
            "gridcolor": "white",
            "linecolor": "white",
            "ticks": ""
           },
           "bgcolor": "#E5ECF6",
           "caxis": {
            "gridcolor": "white",
            "linecolor": "white",
            "ticks": ""
           }
          },
          "title": {
           "x": 0.05
          },
          "xaxis": {
           "automargin": true,
           "gridcolor": "white",
           "linecolor": "white",
           "ticks": "",
           "title": {
            "standoff": 15
           },
           "zerolinecolor": "white",
           "zerolinewidth": 2
          },
          "yaxis": {
           "automargin": true,
           "gridcolor": "white",
           "linecolor": "white",
           "ticks": "",
           "title": {
            "standoff": 15
           },
           "zerolinecolor": "white",
           "zerolinewidth": 2
          }
         }
        },
        "title": {
         "font": {
          "size": 20
         },
         "text": "APAC 시장의 매출 기준 시장 점유율 상위 5개 국가",
         "x": 0.5
        },
        "xaxis": {
         "anchor": "y",
         "domain": [
          0,
          1
         ],
         "dtick": 1,
         "tickfont": {
          "color": "gray"
         },
         "tickmode": "linear",
         "title": {
          "text": "년도"
         }
        },
        "yaxis": {
         "anchor": "x",
         "domain": [
          0,
          1
         ],
         "gridcolor": "lightgray",
         "gridwidth": 0.5,
         "showgrid": true,
         "tickfont": {
          "color": "gray"
         },
         "title": {
          "text": "시장 점유율 (%)"
         }
        }
       }
      }
     },
     "metadata": {},
     "output_type": "display_data"
    }
   ],
   "source": [
    "apac_sales = df[df['Market'] == 'APAC'].groupby(['Year', 'Country'], as_index=False)['Sales'].sum()\n",
    "\n",
    "apac_sales['Market Share'] = apac_sales.groupby('Year')['Sales'].transform(lambda x: (x / x.sum()) * 100)\n",
    "\n",
    "top_5_countries = apac_sales[apac_sales['Year'] == 2011].nlargest(5, 'Sales')['Country'].tolist()\n",
    "\n",
    "apac_top5_sales = apac_sales[apac_sales['Country'].isin(top_5_countries)]\n",
    "\n",
    "fig = px.line(\n",
    "    apac_top5_sales, x='Year', y='Market Share', color='Country', markers=True,\n",
    "    labels={'Market Share': '시장 점유율 (%)', 'Year': '년도', 'Country': '국가'}\n",
    ")\n",
    "\n",
    "fig.update_layout(\n",
    "    title=dict(text=\"APAC 시장의 매출 기준 시장 점유율 상위 5개 국가\",\n",
    "               x=0.5),\n",
    "    title_font_size=20,\n",
    "    plot_bgcolor='white'\n",
    ")\n",
    "\n",
    "fig.update_yaxes(showgrid=True, gridwidth=0.5, gridcolor='lightgray', tickfont=dict(color='gray'))\n",
    "fig.update_xaxes(tickmode=\"linear\", dtick=1, tickfont=dict(color='gray'))\n",
    "\n",
    "fig.show()\n"
   ]
  },
  {
   "cell_type": "markdown",
   "metadata": {},
   "source": [
    "### 호주, 중국의 연도별 매출, 이익"
   ]
  },
  {
   "cell_type": "code",
   "execution_count": 53,
   "metadata": {},
   "outputs": [
    {
     "data": {
      "application/vnd.plotly.v1+json": {
       "config": {
        "plotlyServerURL": "https://plot.ly"
       },
       "data": [
        {
         "alignmentgroup": "True",
         "hovertemplate": "Country=Australia<br>년도=%{x}<br>총 매출 ($)=%{y}<br>text=%{text}<extra></extra>",
         "legendgroup": "Australia",
         "marker": {
          "color": "#636efa",
          "pattern": {
           "shape": ""
          }
         },
         "name": "Australia",
         "offsetgroup": "Australia",
         "orientation": "v",
         "showlegend": true,
         "text": [
          "$137,586",
          "$203,960",
          "$268,970",
          "$314,741"
         ],
         "textposition": "outside",
         "type": "bar",
         "x": [
          2011,
          2012,
          2013,
          2014
         ],
         "xaxis": "x",
         "y": [
          137586,
          203960,
          268970,
          314741
         ],
         "yaxis": "y"
        },
        {
         "alignmentgroup": "True",
         "hovertemplate": "Country=China<br>년도=%{x}<br>총 매출 ($)=%{y}<br>text=%{text}<extra></extra>",
         "legendgroup": "China",
         "marker": {
          "color": "#EF553B",
          "pattern": {
           "shape": ""
          }
         },
         "name": "China",
         "offsetgroup": "China",
         "orientation": "v",
         "showlegend": true,
         "text": [
          "$155,701",
          "$130,234",
          "$195,681",
          "$218,975"
         ],
         "textposition": "outside",
         "type": "bar",
         "x": [
          2011,
          2012,
          2013,
          2014
         ],
         "xaxis": "x",
         "y": [
          155701,
          130234,
          195681,
          218975
         ],
         "yaxis": "y"
        }
       ],
       "layout": {
        "barmode": "group",
        "legend": {
         "title": {
          "text": "국가"
         },
         "tracegroupgap": 0
        },
        "margin": {
         "t": 60
        },
        "plot_bgcolor": "white",
        "template": {
         "data": {
          "bar": [
           {
            "error_x": {
             "color": "#2a3f5f"
            },
            "error_y": {
             "color": "#2a3f5f"
            },
            "marker": {
             "line": {
              "color": "#E5ECF6",
              "width": 0.5
             },
             "pattern": {
              "fillmode": "overlay",
              "size": 10,
              "solidity": 0.2
             }
            },
            "type": "bar"
           }
          ],
          "barpolar": [
           {
            "marker": {
             "line": {
              "color": "#E5ECF6",
              "width": 0.5
             },
             "pattern": {
              "fillmode": "overlay",
              "size": 10,
              "solidity": 0.2
             }
            },
            "type": "barpolar"
           }
          ],
          "carpet": [
           {
            "aaxis": {
             "endlinecolor": "#2a3f5f",
             "gridcolor": "white",
             "linecolor": "white",
             "minorgridcolor": "white",
             "startlinecolor": "#2a3f5f"
            },
            "baxis": {
             "endlinecolor": "#2a3f5f",
             "gridcolor": "white",
             "linecolor": "white",
             "minorgridcolor": "white",
             "startlinecolor": "#2a3f5f"
            },
            "type": "carpet"
           }
          ],
          "choropleth": [
           {
            "colorbar": {
             "outlinewidth": 0,
             "ticks": ""
            },
            "type": "choropleth"
           }
          ],
          "contour": [
           {
            "colorbar": {
             "outlinewidth": 0,
             "ticks": ""
            },
            "colorscale": [
             [
              0,
              "#0d0887"
             ],
             [
              0.1111111111111111,
              "#46039f"
             ],
             [
              0.2222222222222222,
              "#7201a8"
             ],
             [
              0.3333333333333333,
              "#9c179e"
             ],
             [
              0.4444444444444444,
              "#bd3786"
             ],
             [
              0.5555555555555556,
              "#d8576b"
             ],
             [
              0.6666666666666666,
              "#ed7953"
             ],
             [
              0.7777777777777778,
              "#fb9f3a"
             ],
             [
              0.8888888888888888,
              "#fdca26"
             ],
             [
              1,
              "#f0f921"
             ]
            ],
            "type": "contour"
           }
          ],
          "contourcarpet": [
           {
            "colorbar": {
             "outlinewidth": 0,
             "ticks": ""
            },
            "type": "contourcarpet"
           }
          ],
          "heatmap": [
           {
            "colorbar": {
             "outlinewidth": 0,
             "ticks": ""
            },
            "colorscale": [
             [
              0,
              "#0d0887"
             ],
             [
              0.1111111111111111,
              "#46039f"
             ],
             [
              0.2222222222222222,
              "#7201a8"
             ],
             [
              0.3333333333333333,
              "#9c179e"
             ],
             [
              0.4444444444444444,
              "#bd3786"
             ],
             [
              0.5555555555555556,
              "#d8576b"
             ],
             [
              0.6666666666666666,
              "#ed7953"
             ],
             [
              0.7777777777777778,
              "#fb9f3a"
             ],
             [
              0.8888888888888888,
              "#fdca26"
             ],
             [
              1,
              "#f0f921"
             ]
            ],
            "type": "heatmap"
           }
          ],
          "heatmapgl": [
           {
            "colorbar": {
             "outlinewidth": 0,
             "ticks": ""
            },
            "colorscale": [
             [
              0,
              "#0d0887"
             ],
             [
              0.1111111111111111,
              "#46039f"
             ],
             [
              0.2222222222222222,
              "#7201a8"
             ],
             [
              0.3333333333333333,
              "#9c179e"
             ],
             [
              0.4444444444444444,
              "#bd3786"
             ],
             [
              0.5555555555555556,
              "#d8576b"
             ],
             [
              0.6666666666666666,
              "#ed7953"
             ],
             [
              0.7777777777777778,
              "#fb9f3a"
             ],
             [
              0.8888888888888888,
              "#fdca26"
             ],
             [
              1,
              "#f0f921"
             ]
            ],
            "type": "heatmapgl"
           }
          ],
          "histogram": [
           {
            "marker": {
             "pattern": {
              "fillmode": "overlay",
              "size": 10,
              "solidity": 0.2
             }
            },
            "type": "histogram"
           }
          ],
          "histogram2d": [
           {
            "colorbar": {
             "outlinewidth": 0,
             "ticks": ""
            },
            "colorscale": [
             [
              0,
              "#0d0887"
             ],
             [
              0.1111111111111111,
              "#46039f"
             ],
             [
              0.2222222222222222,
              "#7201a8"
             ],
             [
              0.3333333333333333,
              "#9c179e"
             ],
             [
              0.4444444444444444,
              "#bd3786"
             ],
             [
              0.5555555555555556,
              "#d8576b"
             ],
             [
              0.6666666666666666,
              "#ed7953"
             ],
             [
              0.7777777777777778,
              "#fb9f3a"
             ],
             [
              0.8888888888888888,
              "#fdca26"
             ],
             [
              1,
              "#f0f921"
             ]
            ],
            "type": "histogram2d"
           }
          ],
          "histogram2dcontour": [
           {
            "colorbar": {
             "outlinewidth": 0,
             "ticks": ""
            },
            "colorscale": [
             [
              0,
              "#0d0887"
             ],
             [
              0.1111111111111111,
              "#46039f"
             ],
             [
              0.2222222222222222,
              "#7201a8"
             ],
             [
              0.3333333333333333,
              "#9c179e"
             ],
             [
              0.4444444444444444,
              "#bd3786"
             ],
             [
              0.5555555555555556,
              "#d8576b"
             ],
             [
              0.6666666666666666,
              "#ed7953"
             ],
             [
              0.7777777777777778,
              "#fb9f3a"
             ],
             [
              0.8888888888888888,
              "#fdca26"
             ],
             [
              1,
              "#f0f921"
             ]
            ],
            "type": "histogram2dcontour"
           }
          ],
          "mesh3d": [
           {
            "colorbar": {
             "outlinewidth": 0,
             "ticks": ""
            },
            "type": "mesh3d"
           }
          ],
          "parcoords": [
           {
            "line": {
             "colorbar": {
              "outlinewidth": 0,
              "ticks": ""
             }
            },
            "type": "parcoords"
           }
          ],
          "pie": [
           {
            "automargin": true,
            "type": "pie"
           }
          ],
          "scatter": [
           {
            "fillpattern": {
             "fillmode": "overlay",
             "size": 10,
             "solidity": 0.2
            },
            "type": "scatter"
           }
          ],
          "scatter3d": [
           {
            "line": {
             "colorbar": {
              "outlinewidth": 0,
              "ticks": ""
             }
            },
            "marker": {
             "colorbar": {
              "outlinewidth": 0,
              "ticks": ""
             }
            },
            "type": "scatter3d"
           }
          ],
          "scattercarpet": [
           {
            "marker": {
             "colorbar": {
              "outlinewidth": 0,
              "ticks": ""
             }
            },
            "type": "scattercarpet"
           }
          ],
          "scattergeo": [
           {
            "marker": {
             "colorbar": {
              "outlinewidth": 0,
              "ticks": ""
             }
            },
            "type": "scattergeo"
           }
          ],
          "scattergl": [
           {
            "marker": {
             "colorbar": {
              "outlinewidth": 0,
              "ticks": ""
             }
            },
            "type": "scattergl"
           }
          ],
          "scattermapbox": [
           {
            "marker": {
             "colorbar": {
              "outlinewidth": 0,
              "ticks": ""
             }
            },
            "type": "scattermapbox"
           }
          ],
          "scatterpolar": [
           {
            "marker": {
             "colorbar": {
              "outlinewidth": 0,
              "ticks": ""
             }
            },
            "type": "scatterpolar"
           }
          ],
          "scatterpolargl": [
           {
            "marker": {
             "colorbar": {
              "outlinewidth": 0,
              "ticks": ""
             }
            },
            "type": "scatterpolargl"
           }
          ],
          "scatterternary": [
           {
            "marker": {
             "colorbar": {
              "outlinewidth": 0,
              "ticks": ""
             }
            },
            "type": "scatterternary"
           }
          ],
          "surface": [
           {
            "colorbar": {
             "outlinewidth": 0,
             "ticks": ""
            },
            "colorscale": [
             [
              0,
              "#0d0887"
             ],
             [
              0.1111111111111111,
              "#46039f"
             ],
             [
              0.2222222222222222,
              "#7201a8"
             ],
             [
              0.3333333333333333,
              "#9c179e"
             ],
             [
              0.4444444444444444,
              "#bd3786"
             ],
             [
              0.5555555555555556,
              "#d8576b"
             ],
             [
              0.6666666666666666,
              "#ed7953"
             ],
             [
              0.7777777777777778,
              "#fb9f3a"
             ],
             [
              0.8888888888888888,
              "#fdca26"
             ],
             [
              1,
              "#f0f921"
             ]
            ],
            "type": "surface"
           }
          ],
          "table": [
           {
            "cells": {
             "fill": {
              "color": "#EBF0F8"
             },
             "line": {
              "color": "white"
             }
            },
            "header": {
             "fill": {
              "color": "#C8D4E3"
             },
             "line": {
              "color": "white"
             }
            },
            "type": "table"
           }
          ]
         },
         "layout": {
          "annotationdefaults": {
           "arrowcolor": "#2a3f5f",
           "arrowhead": 0,
           "arrowwidth": 1
          },
          "autotypenumbers": "strict",
          "coloraxis": {
           "colorbar": {
            "outlinewidth": 0,
            "ticks": ""
           }
          },
          "colorscale": {
           "diverging": [
            [
             0,
             "#8e0152"
            ],
            [
             0.1,
             "#c51b7d"
            ],
            [
             0.2,
             "#de77ae"
            ],
            [
             0.3,
             "#f1b6da"
            ],
            [
             0.4,
             "#fde0ef"
            ],
            [
             0.5,
             "#f7f7f7"
            ],
            [
             0.6,
             "#e6f5d0"
            ],
            [
             0.7,
             "#b8e186"
            ],
            [
             0.8,
             "#7fbc41"
            ],
            [
             0.9,
             "#4d9221"
            ],
            [
             1,
             "#276419"
            ]
           ],
           "sequential": [
            [
             0,
             "#0d0887"
            ],
            [
             0.1111111111111111,
             "#46039f"
            ],
            [
             0.2222222222222222,
             "#7201a8"
            ],
            [
             0.3333333333333333,
             "#9c179e"
            ],
            [
             0.4444444444444444,
             "#bd3786"
            ],
            [
             0.5555555555555556,
             "#d8576b"
            ],
            [
             0.6666666666666666,
             "#ed7953"
            ],
            [
             0.7777777777777778,
             "#fb9f3a"
            ],
            [
             0.8888888888888888,
             "#fdca26"
            ],
            [
             1,
             "#f0f921"
            ]
           ],
           "sequentialminus": [
            [
             0,
             "#0d0887"
            ],
            [
             0.1111111111111111,
             "#46039f"
            ],
            [
             0.2222222222222222,
             "#7201a8"
            ],
            [
             0.3333333333333333,
             "#9c179e"
            ],
            [
             0.4444444444444444,
             "#bd3786"
            ],
            [
             0.5555555555555556,
             "#d8576b"
            ],
            [
             0.6666666666666666,
             "#ed7953"
            ],
            [
             0.7777777777777778,
             "#fb9f3a"
            ],
            [
             0.8888888888888888,
             "#fdca26"
            ],
            [
             1,
             "#f0f921"
            ]
           ]
          },
          "colorway": [
           "#636efa",
           "#EF553B",
           "#00cc96",
           "#ab63fa",
           "#FFA15A",
           "#19d3f3",
           "#FF6692",
           "#B6E880",
           "#FF97FF",
           "#FECB52"
          ],
          "font": {
           "color": "#2a3f5f"
          },
          "geo": {
           "bgcolor": "white",
           "lakecolor": "white",
           "landcolor": "#E5ECF6",
           "showlakes": true,
           "showland": true,
           "subunitcolor": "white"
          },
          "hoverlabel": {
           "align": "left"
          },
          "hovermode": "closest",
          "mapbox": {
           "style": "light"
          },
          "paper_bgcolor": "white",
          "plot_bgcolor": "#E5ECF6",
          "polar": {
           "angularaxis": {
            "gridcolor": "white",
            "linecolor": "white",
            "ticks": ""
           },
           "bgcolor": "#E5ECF6",
           "radialaxis": {
            "gridcolor": "white",
            "linecolor": "white",
            "ticks": ""
           }
          },
          "scene": {
           "xaxis": {
            "backgroundcolor": "#E5ECF6",
            "gridcolor": "white",
            "gridwidth": 2,
            "linecolor": "white",
            "showbackground": true,
            "ticks": "",
            "zerolinecolor": "white"
           },
           "yaxis": {
            "backgroundcolor": "#E5ECF6",
            "gridcolor": "white",
            "gridwidth": 2,
            "linecolor": "white",
            "showbackground": true,
            "ticks": "",
            "zerolinecolor": "white"
           },
           "zaxis": {
            "backgroundcolor": "#E5ECF6",
            "gridcolor": "white",
            "gridwidth": 2,
            "linecolor": "white",
            "showbackground": true,
            "ticks": "",
            "zerolinecolor": "white"
           }
          },
          "shapedefaults": {
           "line": {
            "color": "#2a3f5f"
           }
          },
          "ternary": {
           "aaxis": {
            "gridcolor": "white",
            "linecolor": "white",
            "ticks": ""
           },
           "baxis": {
            "gridcolor": "white",
            "linecolor": "white",
            "ticks": ""
           },
           "bgcolor": "#E5ECF6",
           "caxis": {
            "gridcolor": "white",
            "linecolor": "white",
            "ticks": ""
           }
          },
          "title": {
           "x": 0.05
          },
          "xaxis": {
           "automargin": true,
           "gridcolor": "white",
           "linecolor": "white",
           "ticks": "",
           "title": {
            "standoff": 15
           },
           "zerolinecolor": "white",
           "zerolinewidth": 2
          },
          "yaxis": {
           "automargin": true,
           "gridcolor": "white",
           "linecolor": "white",
           "ticks": "",
           "title": {
            "standoff": 15
           },
           "zerolinecolor": "white",
           "zerolinewidth": 2
          }
         }
        },
        "title": {
         "font": {
          "size": 20
         },
         "text": "호주 vs 중국 연간 매출 비교",
         "x": 0.5
        },
        "xaxis": {
         "anchor": "y",
         "domain": [
          0,
          1
         ],
         "title": {
          "text": "년도"
         }
        },
        "yaxis": {
         "anchor": "x",
         "domain": [
          0,
          1
         ],
         "gridcolor": "lightgray",
         "gridwidth": 0.5,
         "showgrid": true,
         "title": {
          "text": "총 매출 ($)"
         }
        }
       }
      }
     },
     "metadata": {},
     "output_type": "display_data"
    },
    {
     "data": {
      "application/vnd.plotly.v1+json": {
       "config": {
        "plotlyServerURL": "https://plot.ly"
       },
       "data": [
        {
         "alignmentgroup": "True",
         "hovertemplate": "Country=Australia<br>년도=%{x}<br>총 이익 ($)=%{y}<br>text=%{text}<extra></extra>",
         "legendgroup": "Australia",
         "marker": {
          "color": "#636efa",
          "pattern": {
           "shape": ""
          }
         },
         "name": "Australia",
         "offsetgroup": "Australia",
         "orientation": "v",
         "showlegend": true,
         "text": [
          "$17,517",
          "$25,529",
          "$28,832",
          "$32,030"
         ],
         "textposition": "outside",
         "type": "bar",
         "x": [
          2011,
          2012,
          2013,
          2014
         ],
         "xaxis": "x",
         "y": [
          17516.73,
          25528.722,
          28831.779,
          32030.202
         ],
         "yaxis": "y"
        },
        {
         "alignmentgroup": "True",
         "hovertemplate": "Country=China<br>년도=%{x}<br>총 이익 ($)=%{y}<br>text=%{text}<extra></extra>",
         "legendgroup": "China",
         "marker": {
          "color": "#EF553B",
          "pattern": {
           "shape": ""
          }
         },
         "name": "China",
         "offsetgroup": "China",
         "orientation": "v",
         "showlegend": true,
         "text": [
          "$33,181",
          "$26,234",
          "$44,474",
          "$46,794"
         ],
         "textposition": "outside",
         "type": "bar",
         "x": [
          2011,
          2012,
          2013,
          2014
         ],
         "xaxis": "x",
         "y": [
          33181.383,
          26233.773,
          44473.935,
          46793.994
         ],
         "yaxis": "y"
        }
       ],
       "layout": {
        "barmode": "group",
        "legend": {
         "title": {
          "text": "국가"
         },
         "tracegroupgap": 0
        },
        "margin": {
         "t": 60
        },
        "plot_bgcolor": "white",
        "template": {
         "data": {
          "bar": [
           {
            "error_x": {
             "color": "#2a3f5f"
            },
            "error_y": {
             "color": "#2a3f5f"
            },
            "marker": {
             "line": {
              "color": "#E5ECF6",
              "width": 0.5
             },
             "pattern": {
              "fillmode": "overlay",
              "size": 10,
              "solidity": 0.2
             }
            },
            "type": "bar"
           }
          ],
          "barpolar": [
           {
            "marker": {
             "line": {
              "color": "#E5ECF6",
              "width": 0.5
             },
             "pattern": {
              "fillmode": "overlay",
              "size": 10,
              "solidity": 0.2
             }
            },
            "type": "barpolar"
           }
          ],
          "carpet": [
           {
            "aaxis": {
             "endlinecolor": "#2a3f5f",
             "gridcolor": "white",
             "linecolor": "white",
             "minorgridcolor": "white",
             "startlinecolor": "#2a3f5f"
            },
            "baxis": {
             "endlinecolor": "#2a3f5f",
             "gridcolor": "white",
             "linecolor": "white",
             "minorgridcolor": "white",
             "startlinecolor": "#2a3f5f"
            },
            "type": "carpet"
           }
          ],
          "choropleth": [
           {
            "colorbar": {
             "outlinewidth": 0,
             "ticks": ""
            },
            "type": "choropleth"
           }
          ],
          "contour": [
           {
            "colorbar": {
             "outlinewidth": 0,
             "ticks": ""
            },
            "colorscale": [
             [
              0,
              "#0d0887"
             ],
             [
              0.1111111111111111,
              "#46039f"
             ],
             [
              0.2222222222222222,
              "#7201a8"
             ],
             [
              0.3333333333333333,
              "#9c179e"
             ],
             [
              0.4444444444444444,
              "#bd3786"
             ],
             [
              0.5555555555555556,
              "#d8576b"
             ],
             [
              0.6666666666666666,
              "#ed7953"
             ],
             [
              0.7777777777777778,
              "#fb9f3a"
             ],
             [
              0.8888888888888888,
              "#fdca26"
             ],
             [
              1,
              "#f0f921"
             ]
            ],
            "type": "contour"
           }
          ],
          "contourcarpet": [
           {
            "colorbar": {
             "outlinewidth": 0,
             "ticks": ""
            },
            "type": "contourcarpet"
           }
          ],
          "heatmap": [
           {
            "colorbar": {
             "outlinewidth": 0,
             "ticks": ""
            },
            "colorscale": [
             [
              0,
              "#0d0887"
             ],
             [
              0.1111111111111111,
              "#46039f"
             ],
             [
              0.2222222222222222,
              "#7201a8"
             ],
             [
              0.3333333333333333,
              "#9c179e"
             ],
             [
              0.4444444444444444,
              "#bd3786"
             ],
             [
              0.5555555555555556,
              "#d8576b"
             ],
             [
              0.6666666666666666,
              "#ed7953"
             ],
             [
              0.7777777777777778,
              "#fb9f3a"
             ],
             [
              0.8888888888888888,
              "#fdca26"
             ],
             [
              1,
              "#f0f921"
             ]
            ],
            "type": "heatmap"
           }
          ],
          "heatmapgl": [
           {
            "colorbar": {
             "outlinewidth": 0,
             "ticks": ""
            },
            "colorscale": [
             [
              0,
              "#0d0887"
             ],
             [
              0.1111111111111111,
              "#46039f"
             ],
             [
              0.2222222222222222,
              "#7201a8"
             ],
             [
              0.3333333333333333,
              "#9c179e"
             ],
             [
              0.4444444444444444,
              "#bd3786"
             ],
             [
              0.5555555555555556,
              "#d8576b"
             ],
             [
              0.6666666666666666,
              "#ed7953"
             ],
             [
              0.7777777777777778,
              "#fb9f3a"
             ],
             [
              0.8888888888888888,
              "#fdca26"
             ],
             [
              1,
              "#f0f921"
             ]
            ],
            "type": "heatmapgl"
           }
          ],
          "histogram": [
           {
            "marker": {
             "pattern": {
              "fillmode": "overlay",
              "size": 10,
              "solidity": 0.2
             }
            },
            "type": "histogram"
           }
          ],
          "histogram2d": [
           {
            "colorbar": {
             "outlinewidth": 0,
             "ticks": ""
            },
            "colorscale": [
             [
              0,
              "#0d0887"
             ],
             [
              0.1111111111111111,
              "#46039f"
             ],
             [
              0.2222222222222222,
              "#7201a8"
             ],
             [
              0.3333333333333333,
              "#9c179e"
             ],
             [
              0.4444444444444444,
              "#bd3786"
             ],
             [
              0.5555555555555556,
              "#d8576b"
             ],
             [
              0.6666666666666666,
              "#ed7953"
             ],
             [
              0.7777777777777778,
              "#fb9f3a"
             ],
             [
              0.8888888888888888,
              "#fdca26"
             ],
             [
              1,
              "#f0f921"
             ]
            ],
            "type": "histogram2d"
           }
          ],
          "histogram2dcontour": [
           {
            "colorbar": {
             "outlinewidth": 0,
             "ticks": ""
            },
            "colorscale": [
             [
              0,
              "#0d0887"
             ],
             [
              0.1111111111111111,
              "#46039f"
             ],
             [
              0.2222222222222222,
              "#7201a8"
             ],
             [
              0.3333333333333333,
              "#9c179e"
             ],
             [
              0.4444444444444444,
              "#bd3786"
             ],
             [
              0.5555555555555556,
              "#d8576b"
             ],
             [
              0.6666666666666666,
              "#ed7953"
             ],
             [
              0.7777777777777778,
              "#fb9f3a"
             ],
             [
              0.8888888888888888,
              "#fdca26"
             ],
             [
              1,
              "#f0f921"
             ]
            ],
            "type": "histogram2dcontour"
           }
          ],
          "mesh3d": [
           {
            "colorbar": {
             "outlinewidth": 0,
             "ticks": ""
            },
            "type": "mesh3d"
           }
          ],
          "parcoords": [
           {
            "line": {
             "colorbar": {
              "outlinewidth": 0,
              "ticks": ""
             }
            },
            "type": "parcoords"
           }
          ],
          "pie": [
           {
            "automargin": true,
            "type": "pie"
           }
          ],
          "scatter": [
           {
            "fillpattern": {
             "fillmode": "overlay",
             "size": 10,
             "solidity": 0.2
            },
            "type": "scatter"
           }
          ],
          "scatter3d": [
           {
            "line": {
             "colorbar": {
              "outlinewidth": 0,
              "ticks": ""
             }
            },
            "marker": {
             "colorbar": {
              "outlinewidth": 0,
              "ticks": ""
             }
            },
            "type": "scatter3d"
           }
          ],
          "scattercarpet": [
           {
            "marker": {
             "colorbar": {
              "outlinewidth": 0,
              "ticks": ""
             }
            },
            "type": "scattercarpet"
           }
          ],
          "scattergeo": [
           {
            "marker": {
             "colorbar": {
              "outlinewidth": 0,
              "ticks": ""
             }
            },
            "type": "scattergeo"
           }
          ],
          "scattergl": [
           {
            "marker": {
             "colorbar": {
              "outlinewidth": 0,
              "ticks": ""
             }
            },
            "type": "scattergl"
           }
          ],
          "scattermapbox": [
           {
            "marker": {
             "colorbar": {
              "outlinewidth": 0,
              "ticks": ""
             }
            },
            "type": "scattermapbox"
           }
          ],
          "scatterpolar": [
           {
            "marker": {
             "colorbar": {
              "outlinewidth": 0,
              "ticks": ""
             }
            },
            "type": "scatterpolar"
           }
          ],
          "scatterpolargl": [
           {
            "marker": {
             "colorbar": {
              "outlinewidth": 0,
              "ticks": ""
             }
            },
            "type": "scatterpolargl"
           }
          ],
          "scatterternary": [
           {
            "marker": {
             "colorbar": {
              "outlinewidth": 0,
              "ticks": ""
             }
            },
            "type": "scatterternary"
           }
          ],
          "surface": [
           {
            "colorbar": {
             "outlinewidth": 0,
             "ticks": ""
            },
            "colorscale": [
             [
              0,
              "#0d0887"
             ],
             [
              0.1111111111111111,
              "#46039f"
             ],
             [
              0.2222222222222222,
              "#7201a8"
             ],
             [
              0.3333333333333333,
              "#9c179e"
             ],
             [
              0.4444444444444444,
              "#bd3786"
             ],
             [
              0.5555555555555556,
              "#d8576b"
             ],
             [
              0.6666666666666666,
              "#ed7953"
             ],
             [
              0.7777777777777778,
              "#fb9f3a"
             ],
             [
              0.8888888888888888,
              "#fdca26"
             ],
             [
              1,
              "#f0f921"
             ]
            ],
            "type": "surface"
           }
          ],
          "table": [
           {
            "cells": {
             "fill": {
              "color": "#EBF0F8"
             },
             "line": {
              "color": "white"
             }
            },
            "header": {
             "fill": {
              "color": "#C8D4E3"
             },
             "line": {
              "color": "white"
             }
            },
            "type": "table"
           }
          ]
         },
         "layout": {
          "annotationdefaults": {
           "arrowcolor": "#2a3f5f",
           "arrowhead": 0,
           "arrowwidth": 1
          },
          "autotypenumbers": "strict",
          "coloraxis": {
           "colorbar": {
            "outlinewidth": 0,
            "ticks": ""
           }
          },
          "colorscale": {
           "diverging": [
            [
             0,
             "#8e0152"
            ],
            [
             0.1,
             "#c51b7d"
            ],
            [
             0.2,
             "#de77ae"
            ],
            [
             0.3,
             "#f1b6da"
            ],
            [
             0.4,
             "#fde0ef"
            ],
            [
             0.5,
             "#f7f7f7"
            ],
            [
             0.6,
             "#e6f5d0"
            ],
            [
             0.7,
             "#b8e186"
            ],
            [
             0.8,
             "#7fbc41"
            ],
            [
             0.9,
             "#4d9221"
            ],
            [
             1,
             "#276419"
            ]
           ],
           "sequential": [
            [
             0,
             "#0d0887"
            ],
            [
             0.1111111111111111,
             "#46039f"
            ],
            [
             0.2222222222222222,
             "#7201a8"
            ],
            [
             0.3333333333333333,
             "#9c179e"
            ],
            [
             0.4444444444444444,
             "#bd3786"
            ],
            [
             0.5555555555555556,
             "#d8576b"
            ],
            [
             0.6666666666666666,
             "#ed7953"
            ],
            [
             0.7777777777777778,
             "#fb9f3a"
            ],
            [
             0.8888888888888888,
             "#fdca26"
            ],
            [
             1,
             "#f0f921"
            ]
           ],
           "sequentialminus": [
            [
             0,
             "#0d0887"
            ],
            [
             0.1111111111111111,
             "#46039f"
            ],
            [
             0.2222222222222222,
             "#7201a8"
            ],
            [
             0.3333333333333333,
             "#9c179e"
            ],
            [
             0.4444444444444444,
             "#bd3786"
            ],
            [
             0.5555555555555556,
             "#d8576b"
            ],
            [
             0.6666666666666666,
             "#ed7953"
            ],
            [
             0.7777777777777778,
             "#fb9f3a"
            ],
            [
             0.8888888888888888,
             "#fdca26"
            ],
            [
             1,
             "#f0f921"
            ]
           ]
          },
          "colorway": [
           "#636efa",
           "#EF553B",
           "#00cc96",
           "#ab63fa",
           "#FFA15A",
           "#19d3f3",
           "#FF6692",
           "#B6E880",
           "#FF97FF",
           "#FECB52"
          ],
          "font": {
           "color": "#2a3f5f"
          },
          "geo": {
           "bgcolor": "white",
           "lakecolor": "white",
           "landcolor": "#E5ECF6",
           "showlakes": true,
           "showland": true,
           "subunitcolor": "white"
          },
          "hoverlabel": {
           "align": "left"
          },
          "hovermode": "closest",
          "mapbox": {
           "style": "light"
          },
          "paper_bgcolor": "white",
          "plot_bgcolor": "#E5ECF6",
          "polar": {
           "angularaxis": {
            "gridcolor": "white",
            "linecolor": "white",
            "ticks": ""
           },
           "bgcolor": "#E5ECF6",
           "radialaxis": {
            "gridcolor": "white",
            "linecolor": "white",
            "ticks": ""
           }
          },
          "scene": {
           "xaxis": {
            "backgroundcolor": "#E5ECF6",
            "gridcolor": "white",
            "gridwidth": 2,
            "linecolor": "white",
            "showbackground": true,
            "ticks": "",
            "zerolinecolor": "white"
           },
           "yaxis": {
            "backgroundcolor": "#E5ECF6",
            "gridcolor": "white",
            "gridwidth": 2,
            "linecolor": "white",
            "showbackground": true,
            "ticks": "",
            "zerolinecolor": "white"
           },
           "zaxis": {
            "backgroundcolor": "#E5ECF6",
            "gridcolor": "white",
            "gridwidth": 2,
            "linecolor": "white",
            "showbackground": true,
            "ticks": "",
            "zerolinecolor": "white"
           }
          },
          "shapedefaults": {
           "line": {
            "color": "#2a3f5f"
           }
          },
          "ternary": {
           "aaxis": {
            "gridcolor": "white",
            "linecolor": "white",
            "ticks": ""
           },
           "baxis": {
            "gridcolor": "white",
            "linecolor": "white",
            "ticks": ""
           },
           "bgcolor": "#E5ECF6",
           "caxis": {
            "gridcolor": "white",
            "linecolor": "white",
            "ticks": ""
           }
          },
          "title": {
           "x": 0.05
          },
          "xaxis": {
           "automargin": true,
           "gridcolor": "white",
           "linecolor": "white",
           "ticks": "",
           "title": {
            "standoff": 15
           },
           "zerolinecolor": "white",
           "zerolinewidth": 2
          },
          "yaxis": {
           "automargin": true,
           "gridcolor": "white",
           "linecolor": "white",
           "ticks": "",
           "title": {
            "standoff": 15
           },
           "zerolinecolor": "white",
           "zerolinewidth": 2
          }
         }
        },
        "title": {
         "font": {
          "size": 20
         },
         "text": "호주 vs 중국 연간 이익 비교",
         "x": 0.5
        },
        "xaxis": {
         "anchor": "y",
         "domain": [
          0,
          1
         ],
         "title": {
          "text": "년도"
         }
        },
        "yaxis": {
         "anchor": "x",
         "domain": [
          0,
          1
         ],
         "gridcolor": "lightgray",
         "gridwidth": 0.5,
         "showgrid": true,
         "title": {
          "text": "총 이익 ($)"
         }
        }
       }
      }
     },
     "metadata": {},
     "output_type": "display_data"
    }
   ],
   "source": [
    "df['Order.Date'] = pd.to_datetime(df['Order.Date'])\n",
    "df['Quarter'] = df['Order.Date'].dt.quarter\n",
    "df['Month'] = df['Order.Date'].dt.month\n",
    "df['Year'] = df['Order.Date'].dt.year\n",
    "\n",
    "df_filtered = df[df[\"Country\"].isin(['Australia', 'China'])]\n",
    "\n",
    "sales_profit = df_filtered.groupby([\"Year\", \"Country\"]).agg({\"Sales\": \"sum\", \"Profit\": \"sum\"}).reset_index()\n",
    "\n",
    "fig_sales = px.bar(\n",
    "    sales_profit, x=\"Year\", y=\"Sales\", color=\"Country\", barmode=\"group\",\n",
    "    labels={\"Sales\": \"총 매출 ($)\", \"Year\": \"년도\"},\n",
    "    text=sales_profit[\"Sales\"].apply(lambda x: f\"${x:,.0f}\")\n",
    ")\n",
    "\n",
    "fig_sales.update_yaxes(showgrid=True, gridwidth=0.5, gridcolor='lightgray') \n",
    "fig_sales.update_traces(textposition=\"outside\")\n",
    "fig_sales.update_layout(\n",
    "    title=dict(text=\"호주 vs 중국 연간 매출 비교\",\n",
    "               x=0.5),\n",
    "    title_font_size=20,\n",
    "    plot_bgcolor=\"white\",\n",
    "    legend_title_text=\"국가\"\n",
    ")\n",
    "fig_sales.show()\n",
    "\n",
    "fig_profit = px.bar(\n",
    "    sales_profit, x=\"Year\", y=\"Profit\", color=\"Country\", barmode=\"group\",\n",
    "    labels={\"Profit\": \"총 이익 ($)\", \"Year\": \"년도\"},\n",
    "    text=sales_profit[\"Profit\"].apply(lambda x: f\"${x:,.0f}\")\n",
    ")\n",
    "\n",
    "fig_profit.update_yaxes(showgrid=True, gridwidth=0.5, gridcolor=\"lightgray\")  \n",
    "fig_profit.update_traces(textposition=\"outside\")\n",
    "fig_profit.update_layout(\n",
    "    title=dict(text=\"호주 vs 중국 연간 이익 비교\",\n",
    "               x=0.5),\n",
    "    title_font_size=20,\n",
    "    plot_bgcolor=\"white\",\n",
    "    legend_title_text=\"국가\"\n",
    ")\n",
    "fig_profit.show()\n"
   ]
  },
  {
   "cell_type": "markdown",
   "metadata": {},
   "source": [
    "### 호주, 중국 카테고리별 매출 비교"
   ]
  },
  {
   "cell_type": "code",
   "execution_count": 54,
   "metadata": {},
   "outputs": [
    {
     "data": {
      "application/vnd.plotly.v1+json": {
       "config": {
        "plotlyServerURL": "https://plot.ly"
       },
       "data": [
        {
         "alignmentgroup": "True",
         "hovertemplate": "카테고리=Furniture<br>국가=Australia<br>년도=%{x}<br>총 매출 ($)=%{y}<br>text=%{text}<extra></extra>",
         "legendgroup": "Furniture",
         "marker": {
          "color": "#636efa",
          "pattern": {
           "shape": ""
          }
         },
         "name": "Furniture",
         "offsetgroup": "Furniture",
         "orientation": "v",
         "showlegend": true,
         "text": [
          "$51,839",
          "$80,404",
          "$98,004",
          "$108,998"
         ],
         "textangle": 0,
         "textposition": "inside",
         "type": "bar",
         "x": [
          2011,
          2012,
          2013,
          2014
         ],
         "xaxis": "x",
         "y": [
          51839,
          80404,
          98004,
          108998
         ],
         "yaxis": "y"
        },
        {
         "alignmentgroup": "True",
         "hovertemplate": "카테고리=Furniture<br>국가=China<br>년도=%{x}<br>총 매출 ($)=%{y}<br>text=%{text}<extra></extra>",
         "legendgroup": "Furniture",
         "marker": {
          "color": "#636efa",
          "pattern": {
           "shape": ""
          }
         },
         "name": "Furniture",
         "offsetgroup": "Furniture",
         "orientation": "v",
         "showlegend": false,
         "text": [
          "$63,223",
          "$41,864",
          "$86,486",
          "$85,044"
         ],
         "textangle": 0,
         "textposition": "inside",
         "type": "bar",
         "x": [
          2011,
          2012,
          2013,
          2014
         ],
         "xaxis": "x2",
         "y": [
          63223,
          41864,
          86486,
          85044
         ],
         "yaxis": "y2"
        },
        {
         "alignmentgroup": "True",
         "hovertemplate": "카테고리=Office Supplies<br>국가=Australia<br>년도=%{x}<br>총 매출 ($)=%{y}<br>text=%{text}<extra></extra>",
         "legendgroup": "Office Supplies",
         "marker": {
          "color": "#EF553B",
          "pattern": {
           "shape": ""
          }
         },
         "name": "Office Supplies",
         "offsetgroup": "Office Supplies",
         "orientation": "v",
         "showlegend": true,
         "text": [
          "$37,287",
          "$50,167",
          "$72,041",
          "$86,302"
         ],
         "textangle": 0,
         "textposition": "inside",
         "type": "bar",
         "x": [
          2011,
          2012,
          2013,
          2014
         ],
         "xaxis": "x",
         "y": [
          37287,
          50167,
          72041,
          86302
         ],
         "yaxis": "y"
        },
        {
         "alignmentgroup": "True",
         "hovertemplate": "카테고리=Office Supplies<br>국가=China<br>년도=%{x}<br>총 매출 ($)=%{y}<br>text=%{text}<extra></extra>",
         "legendgroup": "Office Supplies",
         "marker": {
          "color": "#EF553B",
          "pattern": {
           "shape": ""
          }
         },
         "name": "Office Supplies",
         "offsetgroup": "Office Supplies",
         "orientation": "v",
         "showlegend": false,
         "text": [
          "$37,183",
          "$32,842",
          "$40,031",
          "$50,398"
         ],
         "textangle": 0,
         "textposition": "inside",
         "type": "bar",
         "x": [
          2011,
          2012,
          2013,
          2014
         ],
         "xaxis": "x2",
         "y": [
          37183,
          32842,
          40031,
          50398
         ],
         "yaxis": "y2"
        },
        {
         "alignmentgroup": "True",
         "hovertemplate": "카테고리=Technology<br>국가=Australia<br>년도=%{x}<br>총 매출 ($)=%{y}<br>text=%{text}<extra></extra>",
         "legendgroup": "Technology",
         "marker": {
          "color": "#00cc96",
          "pattern": {
           "shape": ""
          }
         },
         "name": "Technology",
         "offsetgroup": "Technology",
         "orientation": "v",
         "showlegend": true,
         "text": [
          "$48,460",
          "$73,389",
          "$98,925",
          "$119,441"
         ],
         "textangle": 0,
         "textposition": "inside",
         "type": "bar",
         "x": [
          2011,
          2012,
          2013,
          2014
         ],
         "xaxis": "x",
         "y": [
          48460,
          73389,
          98925,
          119441
         ],
         "yaxis": "y"
        },
        {
         "alignmentgroup": "True",
         "hovertemplate": "카테고리=Technology<br>국가=China<br>년도=%{x}<br>총 매출 ($)=%{y}<br>text=%{text}<extra></extra>",
         "legendgroup": "Technology",
         "marker": {
          "color": "#00cc96",
          "pattern": {
           "shape": ""
          }
         },
         "name": "Technology",
         "offsetgroup": "Technology",
         "orientation": "v",
         "showlegend": false,
         "text": [
          "$55,295",
          "$55,528",
          "$69,164",
          "$83,533"
         ],
         "textangle": 0,
         "textposition": "inside",
         "type": "bar",
         "x": [
          2011,
          2012,
          2013,
          2014
         ],
         "xaxis": "x2",
         "y": [
          55295,
          55528,
          69164,
          83533
         ],
         "yaxis": "y2"
        }
       ],
       "layout": {
        "annotations": [
         {
          "font": {},
          "showarrow": false,
          "text": "국가=Australia",
          "x": 0.23,
          "xanchor": "center",
          "xref": "paper",
          "y": 1,
          "yanchor": "bottom",
          "yref": "paper"
         },
         {
          "font": {},
          "showarrow": false,
          "text": "국가=China",
          "x": 0.77,
          "xanchor": "center",
          "xref": "paper",
          "y": 1,
          "yanchor": "bottom",
          "yref": "paper"
         }
        ],
        "barmode": "stack",
        "legend": {
         "title": {
          "text": "카테고리"
         },
         "tracegroupgap": 0
        },
        "plot_bgcolor": "white",
        "template": {
         "data": {
          "bar": [
           {
            "error_x": {
             "color": "#2a3f5f"
            },
            "error_y": {
             "color": "#2a3f5f"
            },
            "marker": {
             "line": {
              "color": "#E5ECF6",
              "width": 0.5
             },
             "pattern": {
              "fillmode": "overlay",
              "size": 10,
              "solidity": 0.2
             }
            },
            "type": "bar"
           }
          ],
          "barpolar": [
           {
            "marker": {
             "line": {
              "color": "#E5ECF6",
              "width": 0.5
             },
             "pattern": {
              "fillmode": "overlay",
              "size": 10,
              "solidity": 0.2
             }
            },
            "type": "barpolar"
           }
          ],
          "carpet": [
           {
            "aaxis": {
             "endlinecolor": "#2a3f5f",
             "gridcolor": "white",
             "linecolor": "white",
             "minorgridcolor": "white",
             "startlinecolor": "#2a3f5f"
            },
            "baxis": {
             "endlinecolor": "#2a3f5f",
             "gridcolor": "white",
             "linecolor": "white",
             "minorgridcolor": "white",
             "startlinecolor": "#2a3f5f"
            },
            "type": "carpet"
           }
          ],
          "choropleth": [
           {
            "colorbar": {
             "outlinewidth": 0,
             "ticks": ""
            },
            "type": "choropleth"
           }
          ],
          "contour": [
           {
            "colorbar": {
             "outlinewidth": 0,
             "ticks": ""
            },
            "colorscale": [
             [
              0,
              "#0d0887"
             ],
             [
              0.1111111111111111,
              "#46039f"
             ],
             [
              0.2222222222222222,
              "#7201a8"
             ],
             [
              0.3333333333333333,
              "#9c179e"
             ],
             [
              0.4444444444444444,
              "#bd3786"
             ],
             [
              0.5555555555555556,
              "#d8576b"
             ],
             [
              0.6666666666666666,
              "#ed7953"
             ],
             [
              0.7777777777777778,
              "#fb9f3a"
             ],
             [
              0.8888888888888888,
              "#fdca26"
             ],
             [
              1,
              "#f0f921"
             ]
            ],
            "type": "contour"
           }
          ],
          "contourcarpet": [
           {
            "colorbar": {
             "outlinewidth": 0,
             "ticks": ""
            },
            "type": "contourcarpet"
           }
          ],
          "heatmap": [
           {
            "colorbar": {
             "outlinewidth": 0,
             "ticks": ""
            },
            "colorscale": [
             [
              0,
              "#0d0887"
             ],
             [
              0.1111111111111111,
              "#46039f"
             ],
             [
              0.2222222222222222,
              "#7201a8"
             ],
             [
              0.3333333333333333,
              "#9c179e"
             ],
             [
              0.4444444444444444,
              "#bd3786"
             ],
             [
              0.5555555555555556,
              "#d8576b"
             ],
             [
              0.6666666666666666,
              "#ed7953"
             ],
             [
              0.7777777777777778,
              "#fb9f3a"
             ],
             [
              0.8888888888888888,
              "#fdca26"
             ],
             [
              1,
              "#f0f921"
             ]
            ],
            "type": "heatmap"
           }
          ],
          "heatmapgl": [
           {
            "colorbar": {
             "outlinewidth": 0,
             "ticks": ""
            },
            "colorscale": [
             [
              0,
              "#0d0887"
             ],
             [
              0.1111111111111111,
              "#46039f"
             ],
             [
              0.2222222222222222,
              "#7201a8"
             ],
             [
              0.3333333333333333,
              "#9c179e"
             ],
             [
              0.4444444444444444,
              "#bd3786"
             ],
             [
              0.5555555555555556,
              "#d8576b"
             ],
             [
              0.6666666666666666,
              "#ed7953"
             ],
             [
              0.7777777777777778,
              "#fb9f3a"
             ],
             [
              0.8888888888888888,
              "#fdca26"
             ],
             [
              1,
              "#f0f921"
             ]
            ],
            "type": "heatmapgl"
           }
          ],
          "histogram": [
           {
            "marker": {
             "pattern": {
              "fillmode": "overlay",
              "size": 10,
              "solidity": 0.2
             }
            },
            "type": "histogram"
           }
          ],
          "histogram2d": [
           {
            "colorbar": {
             "outlinewidth": 0,
             "ticks": ""
            },
            "colorscale": [
             [
              0,
              "#0d0887"
             ],
             [
              0.1111111111111111,
              "#46039f"
             ],
             [
              0.2222222222222222,
              "#7201a8"
             ],
             [
              0.3333333333333333,
              "#9c179e"
             ],
             [
              0.4444444444444444,
              "#bd3786"
             ],
             [
              0.5555555555555556,
              "#d8576b"
             ],
             [
              0.6666666666666666,
              "#ed7953"
             ],
             [
              0.7777777777777778,
              "#fb9f3a"
             ],
             [
              0.8888888888888888,
              "#fdca26"
             ],
             [
              1,
              "#f0f921"
             ]
            ],
            "type": "histogram2d"
           }
          ],
          "histogram2dcontour": [
           {
            "colorbar": {
             "outlinewidth": 0,
             "ticks": ""
            },
            "colorscale": [
             [
              0,
              "#0d0887"
             ],
             [
              0.1111111111111111,
              "#46039f"
             ],
             [
              0.2222222222222222,
              "#7201a8"
             ],
             [
              0.3333333333333333,
              "#9c179e"
             ],
             [
              0.4444444444444444,
              "#bd3786"
             ],
             [
              0.5555555555555556,
              "#d8576b"
             ],
             [
              0.6666666666666666,
              "#ed7953"
             ],
             [
              0.7777777777777778,
              "#fb9f3a"
             ],
             [
              0.8888888888888888,
              "#fdca26"
             ],
             [
              1,
              "#f0f921"
             ]
            ],
            "type": "histogram2dcontour"
           }
          ],
          "mesh3d": [
           {
            "colorbar": {
             "outlinewidth": 0,
             "ticks": ""
            },
            "type": "mesh3d"
           }
          ],
          "parcoords": [
           {
            "line": {
             "colorbar": {
              "outlinewidth": 0,
              "ticks": ""
             }
            },
            "type": "parcoords"
           }
          ],
          "pie": [
           {
            "automargin": true,
            "type": "pie"
           }
          ],
          "scatter": [
           {
            "fillpattern": {
             "fillmode": "overlay",
             "size": 10,
             "solidity": 0.2
            },
            "type": "scatter"
           }
          ],
          "scatter3d": [
           {
            "line": {
             "colorbar": {
              "outlinewidth": 0,
              "ticks": ""
             }
            },
            "marker": {
             "colorbar": {
              "outlinewidth": 0,
              "ticks": ""
             }
            },
            "type": "scatter3d"
           }
          ],
          "scattercarpet": [
           {
            "marker": {
             "colorbar": {
              "outlinewidth": 0,
              "ticks": ""
             }
            },
            "type": "scattercarpet"
           }
          ],
          "scattergeo": [
           {
            "marker": {
             "colorbar": {
              "outlinewidth": 0,
              "ticks": ""
             }
            },
            "type": "scattergeo"
           }
          ],
          "scattergl": [
           {
            "marker": {
             "colorbar": {
              "outlinewidth": 0,
              "ticks": ""
             }
            },
            "type": "scattergl"
           }
          ],
          "scattermapbox": [
           {
            "marker": {
             "colorbar": {
              "outlinewidth": 0,
              "ticks": ""
             }
            },
            "type": "scattermapbox"
           }
          ],
          "scatterpolar": [
           {
            "marker": {
             "colorbar": {
              "outlinewidth": 0,
              "ticks": ""
             }
            },
            "type": "scatterpolar"
           }
          ],
          "scatterpolargl": [
           {
            "marker": {
             "colorbar": {
              "outlinewidth": 0,
              "ticks": ""
             }
            },
            "type": "scatterpolargl"
           }
          ],
          "scatterternary": [
           {
            "marker": {
             "colorbar": {
              "outlinewidth": 0,
              "ticks": ""
             }
            },
            "type": "scatterternary"
           }
          ],
          "surface": [
           {
            "colorbar": {
             "outlinewidth": 0,
             "ticks": ""
            },
            "colorscale": [
             [
              0,
              "#0d0887"
             ],
             [
              0.1111111111111111,
              "#46039f"
             ],
             [
              0.2222222222222222,
              "#7201a8"
             ],
             [
              0.3333333333333333,
              "#9c179e"
             ],
             [
              0.4444444444444444,
              "#bd3786"
             ],
             [
              0.5555555555555556,
              "#d8576b"
             ],
             [
              0.6666666666666666,
              "#ed7953"
             ],
             [
              0.7777777777777778,
              "#fb9f3a"
             ],
             [
              0.8888888888888888,
              "#fdca26"
             ],
             [
              1,
              "#f0f921"
             ]
            ],
            "type": "surface"
           }
          ],
          "table": [
           {
            "cells": {
             "fill": {
              "color": "#EBF0F8"
             },
             "line": {
              "color": "white"
             }
            },
            "header": {
             "fill": {
              "color": "#C8D4E3"
             },
             "line": {
              "color": "white"
             }
            },
            "type": "table"
           }
          ]
         },
         "layout": {
          "annotationdefaults": {
           "arrowcolor": "#2a3f5f",
           "arrowhead": 0,
           "arrowwidth": 1
          },
          "autotypenumbers": "strict",
          "coloraxis": {
           "colorbar": {
            "outlinewidth": 0,
            "ticks": ""
           }
          },
          "colorscale": {
           "diverging": [
            [
             0,
             "#8e0152"
            ],
            [
             0.1,
             "#c51b7d"
            ],
            [
             0.2,
             "#de77ae"
            ],
            [
             0.3,
             "#f1b6da"
            ],
            [
             0.4,
             "#fde0ef"
            ],
            [
             0.5,
             "#f7f7f7"
            ],
            [
             0.6,
             "#e6f5d0"
            ],
            [
             0.7,
             "#b8e186"
            ],
            [
             0.8,
             "#7fbc41"
            ],
            [
             0.9,
             "#4d9221"
            ],
            [
             1,
             "#276419"
            ]
           ],
           "sequential": [
            [
             0,
             "#0d0887"
            ],
            [
             0.1111111111111111,
             "#46039f"
            ],
            [
             0.2222222222222222,
             "#7201a8"
            ],
            [
             0.3333333333333333,
             "#9c179e"
            ],
            [
             0.4444444444444444,
             "#bd3786"
            ],
            [
             0.5555555555555556,
             "#d8576b"
            ],
            [
             0.6666666666666666,
             "#ed7953"
            ],
            [
             0.7777777777777778,
             "#fb9f3a"
            ],
            [
             0.8888888888888888,
             "#fdca26"
            ],
            [
             1,
             "#f0f921"
            ]
           ],
           "sequentialminus": [
            [
             0,
             "#0d0887"
            ],
            [
             0.1111111111111111,
             "#46039f"
            ],
            [
             0.2222222222222222,
             "#7201a8"
            ],
            [
             0.3333333333333333,
             "#9c179e"
            ],
            [
             0.4444444444444444,
             "#bd3786"
            ],
            [
             0.5555555555555556,
             "#d8576b"
            ],
            [
             0.6666666666666666,
             "#ed7953"
            ],
            [
             0.7777777777777778,
             "#fb9f3a"
            ],
            [
             0.8888888888888888,
             "#fdca26"
            ],
            [
             1,
             "#f0f921"
            ]
           ]
          },
          "colorway": [
           "#636efa",
           "#EF553B",
           "#00cc96",
           "#ab63fa",
           "#FFA15A",
           "#19d3f3",
           "#FF6692",
           "#B6E880",
           "#FF97FF",
           "#FECB52"
          ],
          "font": {
           "color": "#2a3f5f"
          },
          "geo": {
           "bgcolor": "white",
           "lakecolor": "white",
           "landcolor": "#E5ECF6",
           "showlakes": true,
           "showland": true,
           "subunitcolor": "white"
          },
          "hoverlabel": {
           "align": "left"
          },
          "hovermode": "closest",
          "mapbox": {
           "style": "light"
          },
          "paper_bgcolor": "white",
          "plot_bgcolor": "#E5ECF6",
          "polar": {
           "angularaxis": {
            "gridcolor": "white",
            "linecolor": "white",
            "ticks": ""
           },
           "bgcolor": "#E5ECF6",
           "radialaxis": {
            "gridcolor": "white",
            "linecolor": "white",
            "ticks": ""
           }
          },
          "scene": {
           "xaxis": {
            "backgroundcolor": "#E5ECF6",
            "gridcolor": "white",
            "gridwidth": 2,
            "linecolor": "white",
            "showbackground": true,
            "ticks": "",
            "zerolinecolor": "white"
           },
           "yaxis": {
            "backgroundcolor": "#E5ECF6",
            "gridcolor": "white",
            "gridwidth": 2,
            "linecolor": "white",
            "showbackground": true,
            "ticks": "",
            "zerolinecolor": "white"
           },
           "zaxis": {
            "backgroundcolor": "#E5ECF6",
            "gridcolor": "white",
            "gridwidth": 2,
            "linecolor": "white",
            "showbackground": true,
            "ticks": "",
            "zerolinecolor": "white"
           }
          },
          "shapedefaults": {
           "line": {
            "color": "#2a3f5f"
           }
          },
          "ternary": {
           "aaxis": {
            "gridcolor": "white",
            "linecolor": "white",
            "ticks": ""
           },
           "baxis": {
            "gridcolor": "white",
            "linecolor": "white",
            "ticks": ""
           },
           "bgcolor": "#E5ECF6",
           "caxis": {
            "gridcolor": "white",
            "linecolor": "white",
            "ticks": ""
           }
          },
          "title": {
           "x": 0.05
          },
          "xaxis": {
           "automargin": true,
           "gridcolor": "white",
           "linecolor": "white",
           "ticks": "",
           "title": {
            "standoff": 15
           },
           "zerolinecolor": "white",
           "zerolinewidth": 2
          },
          "yaxis": {
           "automargin": true,
           "gridcolor": "white",
           "linecolor": "white",
           "ticks": "",
           "title": {
            "standoff": 15
           },
           "zerolinecolor": "white",
           "zerolinewidth": 2
          }
         }
        },
        "title": {
         "font": {
          "color": "#5b5b5b",
          "family": "Liberation Serif",
          "size": 20
         },
         "text": "호주 vs 중국의 연간 카테고리별 매출"
        },
        "xaxis": {
         "anchor": "y",
         "domain": [
          0,
          0.46
         ],
         "dtick": 1,
         "tickfont": {
          "color": "gray"
         },
         "tickmode": "linear",
         "title": {
          "text": "년도"
         }
        },
        "xaxis2": {
         "anchor": "y2",
         "domain": [
          0.54,
          1
         ],
         "dtick": 1,
         "matches": "x",
         "tickfont": {
          "color": "gray"
         },
         "tickmode": "linear",
         "title": {
          "text": "년도"
         }
        },
        "yaxis": {
         "anchor": "x",
         "domain": [
          0,
          1
         ],
         "gridcolor": "lightgray",
         "gridwidth": 0.5,
         "showgrid": true,
         "tickfont": {
          "color": "gray"
         },
         "title": {
          "text": "총 매출 ($)"
         }
        },
        "yaxis2": {
         "anchor": "x2",
         "domain": [
          0,
          1
         ],
         "gridcolor": "lightgray",
         "gridwidth": 0.5,
         "matches": "y",
         "showgrid": true,
         "showticklabels": false,
         "tickfont": {
          "color": "gray"
         }
        }
       }
      }
     },
     "metadata": {},
     "output_type": "display_data"
    }
   ],
   "source": [
    "australia_china_df = df[df['Country'].isin(['Australia', 'China'])]\n",
    "\n",
    "category_sales_comparison = australia_china_df.groupby(['Year', 'Country', 'Category'])['Sales'].sum().reset_index()\n",
    "\n",
    "fig = px.bar(\n",
    "    category_sales_comparison, x='Year', y='Sales', color='Category', barmode='stack',\n",
    "    facet_col='Country', facet_col_spacing=0.08, \n",
    "    title=\"호주 vs 중국의 연간 카테고리별 매출\",\n",
    "    labels={'Sales': '총 매출 ($)', 'Year': '년도', 'Category': '카테고리', 'Country': '국가'},\n",
    "    text=category_sales_comparison['Sales'].apply(lambda x: f\"${x:,.0f}\") \n",
    ")\n",
    "\n",
    "fig.update_traces(textposition='inside', textangle=0)  # textangle=0 설정하여 숫자를 가로로 정렬\n",
    "\n",
    "fig.update_layout(\n",
    "    title_font_size=20,\n",
    "    title_font_family=\"Liberation Serif\",\n",
    "    title_font_color=\"#5b5b5b\",\n",
    "    plot_bgcolor='white'\n",
    ")\n",
    "\n",
    "fig.update_yaxes(showgrid=True, gridwidth=0.5, gridcolor='lightgray', tickfont=dict(color='gray'))\n",
    "fig.update_xaxes(tickmode=\"linear\", dtick=1, tickfont=dict(color='gray'))\n",
    "\n",
    "fig.show()\n"
   ]
  },
  {
   "cell_type": "markdown",
   "metadata": {},
   "source": [
    "### 호주, 중국 연도별 평균 할인율 비교"
   ]
  },
  {
   "cell_type": "code",
   "execution_count": 55,
   "metadata": {},
   "outputs": [
    {
     "data": {
      "application/vnd.plotly.v1+json": {
       "config": {
        "plotlyServerURL": "https://plot.ly"
       },
       "data": [
        {
         "alignmentgroup": "True",
         "hovertemplate": "Country=Australia<br>년도=%{x}<br>평균 할인율 (%)=%{y}<br>text=%{text}<extra></extra>",
         "legendgroup": "Australia",
         "marker": {
          "color": "#636efa",
          "pattern": {
           "shape": ""
          }
         },
         "name": "Australia",
         "offsetgroup": "Australia",
         "orientation": "v",
         "showlegend": true,
         "text": [
          "13.4%",
          "13.9%",
          "14.5%",
          "14.9%"
         ],
         "textposition": "outside",
         "type": "bar",
         "x": [
          2011,
          2012,
          2013,
          2014
         ],
         "xaxis": "x",
         "y": [
          0.13395784543325528,
          0.13872,
          0.14503144654088052,
          0.1494949494949495
         ],
         "yaxis": "y"
        },
        {
         "alignmentgroup": "True",
         "hovertemplate": "Country=China<br>년도=%{x}<br>평균 할인율 (%)=%{y}<br>text=%{text}<extra></extra>",
         "legendgroup": "China",
         "marker": {
          "color": "#EF553B",
          "pattern": {
           "shape": ""
          }
         },
         "name": "China",
         "offsetgroup": "China",
         "orientation": "v",
         "showlegend": true,
         "text": [
          "2.1%",
          "1.1%",
          "1.2%",
          "1.4%"
         ],
         "textposition": "outside",
         "type": "bar",
         "x": [
          2011,
          2012,
          2013,
          2014
         ],
         "xaxis": "x",
         "y": [
          0.02136986301369863,
          0.011138613861386138,
          0.012079207920792078,
          0.014026402640264026
         ],
         "yaxis": "y"
        }
       ],
       "layout": {
        "barmode": "group",
        "legend": {
         "title": {
          "text": "국가"
         },
         "tracegroupgap": 0
        },
        "margin": {
         "t": 60
        },
        "plot_bgcolor": "white",
        "template": {
         "data": {
          "bar": [
           {
            "error_x": {
             "color": "#2a3f5f"
            },
            "error_y": {
             "color": "#2a3f5f"
            },
            "marker": {
             "line": {
              "color": "#E5ECF6",
              "width": 0.5
             },
             "pattern": {
              "fillmode": "overlay",
              "size": 10,
              "solidity": 0.2
             }
            },
            "type": "bar"
           }
          ],
          "barpolar": [
           {
            "marker": {
             "line": {
              "color": "#E5ECF6",
              "width": 0.5
             },
             "pattern": {
              "fillmode": "overlay",
              "size": 10,
              "solidity": 0.2
             }
            },
            "type": "barpolar"
           }
          ],
          "carpet": [
           {
            "aaxis": {
             "endlinecolor": "#2a3f5f",
             "gridcolor": "white",
             "linecolor": "white",
             "minorgridcolor": "white",
             "startlinecolor": "#2a3f5f"
            },
            "baxis": {
             "endlinecolor": "#2a3f5f",
             "gridcolor": "white",
             "linecolor": "white",
             "minorgridcolor": "white",
             "startlinecolor": "#2a3f5f"
            },
            "type": "carpet"
           }
          ],
          "choropleth": [
           {
            "colorbar": {
             "outlinewidth": 0,
             "ticks": ""
            },
            "type": "choropleth"
           }
          ],
          "contour": [
           {
            "colorbar": {
             "outlinewidth": 0,
             "ticks": ""
            },
            "colorscale": [
             [
              0,
              "#0d0887"
             ],
             [
              0.1111111111111111,
              "#46039f"
             ],
             [
              0.2222222222222222,
              "#7201a8"
             ],
             [
              0.3333333333333333,
              "#9c179e"
             ],
             [
              0.4444444444444444,
              "#bd3786"
             ],
             [
              0.5555555555555556,
              "#d8576b"
             ],
             [
              0.6666666666666666,
              "#ed7953"
             ],
             [
              0.7777777777777778,
              "#fb9f3a"
             ],
             [
              0.8888888888888888,
              "#fdca26"
             ],
             [
              1,
              "#f0f921"
             ]
            ],
            "type": "contour"
           }
          ],
          "contourcarpet": [
           {
            "colorbar": {
             "outlinewidth": 0,
             "ticks": ""
            },
            "type": "contourcarpet"
           }
          ],
          "heatmap": [
           {
            "colorbar": {
             "outlinewidth": 0,
             "ticks": ""
            },
            "colorscale": [
             [
              0,
              "#0d0887"
             ],
             [
              0.1111111111111111,
              "#46039f"
             ],
             [
              0.2222222222222222,
              "#7201a8"
             ],
             [
              0.3333333333333333,
              "#9c179e"
             ],
             [
              0.4444444444444444,
              "#bd3786"
             ],
             [
              0.5555555555555556,
              "#d8576b"
             ],
             [
              0.6666666666666666,
              "#ed7953"
             ],
             [
              0.7777777777777778,
              "#fb9f3a"
             ],
             [
              0.8888888888888888,
              "#fdca26"
             ],
             [
              1,
              "#f0f921"
             ]
            ],
            "type": "heatmap"
           }
          ],
          "heatmapgl": [
           {
            "colorbar": {
             "outlinewidth": 0,
             "ticks": ""
            },
            "colorscale": [
             [
              0,
              "#0d0887"
             ],
             [
              0.1111111111111111,
              "#46039f"
             ],
             [
              0.2222222222222222,
              "#7201a8"
             ],
             [
              0.3333333333333333,
              "#9c179e"
             ],
             [
              0.4444444444444444,
              "#bd3786"
             ],
             [
              0.5555555555555556,
              "#d8576b"
             ],
             [
              0.6666666666666666,
              "#ed7953"
             ],
             [
              0.7777777777777778,
              "#fb9f3a"
             ],
             [
              0.8888888888888888,
              "#fdca26"
             ],
             [
              1,
              "#f0f921"
             ]
            ],
            "type": "heatmapgl"
           }
          ],
          "histogram": [
           {
            "marker": {
             "pattern": {
              "fillmode": "overlay",
              "size": 10,
              "solidity": 0.2
             }
            },
            "type": "histogram"
           }
          ],
          "histogram2d": [
           {
            "colorbar": {
             "outlinewidth": 0,
             "ticks": ""
            },
            "colorscale": [
             [
              0,
              "#0d0887"
             ],
             [
              0.1111111111111111,
              "#46039f"
             ],
             [
              0.2222222222222222,
              "#7201a8"
             ],
             [
              0.3333333333333333,
              "#9c179e"
             ],
             [
              0.4444444444444444,
              "#bd3786"
             ],
             [
              0.5555555555555556,
              "#d8576b"
             ],
             [
              0.6666666666666666,
              "#ed7953"
             ],
             [
              0.7777777777777778,
              "#fb9f3a"
             ],
             [
              0.8888888888888888,
              "#fdca26"
             ],
             [
              1,
              "#f0f921"
             ]
            ],
            "type": "histogram2d"
           }
          ],
          "histogram2dcontour": [
           {
            "colorbar": {
             "outlinewidth": 0,
             "ticks": ""
            },
            "colorscale": [
             [
              0,
              "#0d0887"
             ],
             [
              0.1111111111111111,
              "#46039f"
             ],
             [
              0.2222222222222222,
              "#7201a8"
             ],
             [
              0.3333333333333333,
              "#9c179e"
             ],
             [
              0.4444444444444444,
              "#bd3786"
             ],
             [
              0.5555555555555556,
              "#d8576b"
             ],
             [
              0.6666666666666666,
              "#ed7953"
             ],
             [
              0.7777777777777778,
              "#fb9f3a"
             ],
             [
              0.8888888888888888,
              "#fdca26"
             ],
             [
              1,
              "#f0f921"
             ]
            ],
            "type": "histogram2dcontour"
           }
          ],
          "mesh3d": [
           {
            "colorbar": {
             "outlinewidth": 0,
             "ticks": ""
            },
            "type": "mesh3d"
           }
          ],
          "parcoords": [
           {
            "line": {
             "colorbar": {
              "outlinewidth": 0,
              "ticks": ""
             }
            },
            "type": "parcoords"
           }
          ],
          "pie": [
           {
            "automargin": true,
            "type": "pie"
           }
          ],
          "scatter": [
           {
            "fillpattern": {
             "fillmode": "overlay",
             "size": 10,
             "solidity": 0.2
            },
            "type": "scatter"
           }
          ],
          "scatter3d": [
           {
            "line": {
             "colorbar": {
              "outlinewidth": 0,
              "ticks": ""
             }
            },
            "marker": {
             "colorbar": {
              "outlinewidth": 0,
              "ticks": ""
             }
            },
            "type": "scatter3d"
           }
          ],
          "scattercarpet": [
           {
            "marker": {
             "colorbar": {
              "outlinewidth": 0,
              "ticks": ""
             }
            },
            "type": "scattercarpet"
           }
          ],
          "scattergeo": [
           {
            "marker": {
             "colorbar": {
              "outlinewidth": 0,
              "ticks": ""
             }
            },
            "type": "scattergeo"
           }
          ],
          "scattergl": [
           {
            "marker": {
             "colorbar": {
              "outlinewidth": 0,
              "ticks": ""
             }
            },
            "type": "scattergl"
           }
          ],
          "scattermapbox": [
           {
            "marker": {
             "colorbar": {
              "outlinewidth": 0,
              "ticks": ""
             }
            },
            "type": "scattermapbox"
           }
          ],
          "scatterpolar": [
           {
            "marker": {
             "colorbar": {
              "outlinewidth": 0,
              "ticks": ""
             }
            },
            "type": "scatterpolar"
           }
          ],
          "scatterpolargl": [
           {
            "marker": {
             "colorbar": {
              "outlinewidth": 0,
              "ticks": ""
             }
            },
            "type": "scatterpolargl"
           }
          ],
          "scatterternary": [
           {
            "marker": {
             "colorbar": {
              "outlinewidth": 0,
              "ticks": ""
             }
            },
            "type": "scatterternary"
           }
          ],
          "surface": [
           {
            "colorbar": {
             "outlinewidth": 0,
             "ticks": ""
            },
            "colorscale": [
             [
              0,
              "#0d0887"
             ],
             [
              0.1111111111111111,
              "#46039f"
             ],
             [
              0.2222222222222222,
              "#7201a8"
             ],
             [
              0.3333333333333333,
              "#9c179e"
             ],
             [
              0.4444444444444444,
              "#bd3786"
             ],
             [
              0.5555555555555556,
              "#d8576b"
             ],
             [
              0.6666666666666666,
              "#ed7953"
             ],
             [
              0.7777777777777778,
              "#fb9f3a"
             ],
             [
              0.8888888888888888,
              "#fdca26"
             ],
             [
              1,
              "#f0f921"
             ]
            ],
            "type": "surface"
           }
          ],
          "table": [
           {
            "cells": {
             "fill": {
              "color": "#EBF0F8"
             },
             "line": {
              "color": "white"
             }
            },
            "header": {
             "fill": {
              "color": "#C8D4E3"
             },
             "line": {
              "color": "white"
             }
            },
            "type": "table"
           }
          ]
         },
         "layout": {
          "annotationdefaults": {
           "arrowcolor": "#2a3f5f",
           "arrowhead": 0,
           "arrowwidth": 1
          },
          "autotypenumbers": "strict",
          "coloraxis": {
           "colorbar": {
            "outlinewidth": 0,
            "ticks": ""
           }
          },
          "colorscale": {
           "diverging": [
            [
             0,
             "#8e0152"
            ],
            [
             0.1,
             "#c51b7d"
            ],
            [
             0.2,
             "#de77ae"
            ],
            [
             0.3,
             "#f1b6da"
            ],
            [
             0.4,
             "#fde0ef"
            ],
            [
             0.5,
             "#f7f7f7"
            ],
            [
             0.6,
             "#e6f5d0"
            ],
            [
             0.7,
             "#b8e186"
            ],
            [
             0.8,
             "#7fbc41"
            ],
            [
             0.9,
             "#4d9221"
            ],
            [
             1,
             "#276419"
            ]
           ],
           "sequential": [
            [
             0,
             "#0d0887"
            ],
            [
             0.1111111111111111,
             "#46039f"
            ],
            [
             0.2222222222222222,
             "#7201a8"
            ],
            [
             0.3333333333333333,
             "#9c179e"
            ],
            [
             0.4444444444444444,
             "#bd3786"
            ],
            [
             0.5555555555555556,
             "#d8576b"
            ],
            [
             0.6666666666666666,
             "#ed7953"
            ],
            [
             0.7777777777777778,
             "#fb9f3a"
            ],
            [
             0.8888888888888888,
             "#fdca26"
            ],
            [
             1,
             "#f0f921"
            ]
           ],
           "sequentialminus": [
            [
             0,
             "#0d0887"
            ],
            [
             0.1111111111111111,
             "#46039f"
            ],
            [
             0.2222222222222222,
             "#7201a8"
            ],
            [
             0.3333333333333333,
             "#9c179e"
            ],
            [
             0.4444444444444444,
             "#bd3786"
            ],
            [
             0.5555555555555556,
             "#d8576b"
            ],
            [
             0.6666666666666666,
             "#ed7953"
            ],
            [
             0.7777777777777778,
             "#fb9f3a"
            ],
            [
             0.8888888888888888,
             "#fdca26"
            ],
            [
             1,
             "#f0f921"
            ]
           ]
          },
          "colorway": [
           "#636efa",
           "#EF553B",
           "#00cc96",
           "#ab63fa",
           "#FFA15A",
           "#19d3f3",
           "#FF6692",
           "#B6E880",
           "#FF97FF",
           "#FECB52"
          ],
          "font": {
           "color": "#2a3f5f"
          },
          "geo": {
           "bgcolor": "white",
           "lakecolor": "white",
           "landcolor": "#E5ECF6",
           "showlakes": true,
           "showland": true,
           "subunitcolor": "white"
          },
          "hoverlabel": {
           "align": "left"
          },
          "hovermode": "closest",
          "mapbox": {
           "style": "light"
          },
          "paper_bgcolor": "white",
          "plot_bgcolor": "#E5ECF6",
          "polar": {
           "angularaxis": {
            "gridcolor": "white",
            "linecolor": "white",
            "ticks": ""
           },
           "bgcolor": "#E5ECF6",
           "radialaxis": {
            "gridcolor": "white",
            "linecolor": "white",
            "ticks": ""
           }
          },
          "scene": {
           "xaxis": {
            "backgroundcolor": "#E5ECF6",
            "gridcolor": "white",
            "gridwidth": 2,
            "linecolor": "white",
            "showbackground": true,
            "ticks": "",
            "zerolinecolor": "white"
           },
           "yaxis": {
            "backgroundcolor": "#E5ECF6",
            "gridcolor": "white",
            "gridwidth": 2,
            "linecolor": "white",
            "showbackground": true,
            "ticks": "",
            "zerolinecolor": "white"
           },
           "zaxis": {
            "backgroundcolor": "#E5ECF6",
            "gridcolor": "white",
            "gridwidth": 2,
            "linecolor": "white",
            "showbackground": true,
            "ticks": "",
            "zerolinecolor": "white"
           }
          },
          "shapedefaults": {
           "line": {
            "color": "#2a3f5f"
           }
          },
          "ternary": {
           "aaxis": {
            "gridcolor": "white",
            "linecolor": "white",
            "ticks": ""
           },
           "baxis": {
            "gridcolor": "white",
            "linecolor": "white",
            "ticks": ""
           },
           "bgcolor": "#E5ECF6",
           "caxis": {
            "gridcolor": "white",
            "linecolor": "white",
            "ticks": ""
           }
          },
          "title": {
           "x": 0.05
          },
          "xaxis": {
           "automargin": true,
           "gridcolor": "white",
           "linecolor": "white",
           "ticks": "",
           "title": {
            "standoff": 15
           },
           "zerolinecolor": "white",
           "zerolinewidth": 2
          },
          "yaxis": {
           "automargin": true,
           "gridcolor": "white",
           "linecolor": "white",
           "ticks": "",
           "title": {
            "standoff": 15
           },
           "zerolinecolor": "white",
           "zerolinewidth": 2
          }
         }
        },
        "title": {
         "font": {
          "size": 20
         },
         "text": "호주 vs 중국 연간 평균 할인율 비교",
         "x": 0.5
        },
        "xaxis": {
         "anchor": "y",
         "domain": [
          0,
          1
         ],
         "title": {
          "text": "년도"
         }
        },
        "yaxis": {
         "anchor": "x",
         "domain": [
          0,
          1
         ],
         "gridcolor": "lightgray",
         "gridwidth": 0.5,
         "showgrid": true,
         "title": {
          "text": "평균 할인율 (%)"
         }
        }
       }
      }
     },
     "metadata": {},
     "output_type": "display_data"
    }
   ],
   "source": [
    "df_filtered = df[df[\"Country\"].isin([\"Australia\", \"China\"])]\n",
    "\n",
    "discount_comparison = df_filtered.groupby([\"Year\", \"Country\"])[\"Discount\"].mean().reset_index()\n",
    "\n",
    "fig = px.bar(\n",
    "    discount_comparison, x=\"Year\", y=\"Discount\", color=\"Country\", barmode=\"group\",\n",
    "    labels={\"Discount\": \"평균 할인율 (%)\", \"Year\": \"년도\"},\n",
    "    text=discount_comparison[\"Discount\"].apply(lambda x: f\"{x:.1%}\")  \n",
    ")\n",
    "\n",
    "fig.update_traces(textposition=\"outside\")\n",
    "\n",
    "fig.update_layout(\n",
    "    title=dict(text=\"호주 vs 중국 연간 평균 할인율 비교\",\n",
    "               x=0.5),\n",
    "    title_font_size=20,\n",
    "    plot_bgcolor=\"white\",\n",
    "    legend_title_text=\"국가\",\n",
    "    yaxis=dict(\n",
    "        showgrid=True, gridwidth=0.5, gridcolor=\"lightgray\"\n",
    "    )\n",
    "\n",
    ")\n",
    "\n",
    "fig.show()\n"
   ]
  },
  {
   "cell_type": "code",
   "execution_count": 56,
   "metadata": {},
   "outputs": [
    {
     "data": {
      "text/html": [
       "<div>\n",
       "<style scoped>\n",
       "    .dataframe tbody tr th:only-of-type {\n",
       "        vertical-align: middle;\n",
       "    }\n",
       "\n",
       "    .dataframe tbody tr th {\n",
       "        vertical-align: top;\n",
       "    }\n",
       "\n",
       "    .dataframe thead th {\n",
       "        text-align: right;\n",
       "    }\n",
       "</style>\n",
       "<table border=\"1\" class=\"dataframe\">\n",
       "  <thead>\n",
       "    <tr style=\"text-align: right;\">\n",
       "      <th></th>\n",
       "      <th>Discount</th>\n",
       "      <th>Profit</th>\n",
       "    </tr>\n",
       "  </thead>\n",
       "  <tbody>\n",
       "    <tr>\n",
       "      <th>Discount</th>\n",
       "      <td>1.000000</td>\n",
       "      <td>-0.957376</td>\n",
       "    </tr>\n",
       "    <tr>\n",
       "      <th>Profit</th>\n",
       "      <td>-0.957376</td>\n",
       "      <td>1.000000</td>\n",
       "    </tr>\n",
       "  </tbody>\n",
       "</table>\n",
       "</div>"
      ],
      "text/plain": [
       "          Discount    Profit\n",
       "Discount  1.000000 -0.957376\n",
       "Profit   -0.957376  1.000000"
      ]
     },
     "execution_count": 56,
     "metadata": {},
     "output_type": "execute_result"
    }
   ],
   "source": [
    "china_aus = df[df.Country.isin(['China', 'Australia'])]\n",
    "\n",
    "aus = df[df.Country=='Australia']\n",
    "aus.groupby('Year')[['Discount', 'Profit']].mean().corr()"
   ]
  },
  {
   "cell_type": "code",
   "execution_count": 57,
   "metadata": {},
   "outputs": [
    {
     "data": {
      "text/html": [
       "<div>\n",
       "<style scoped>\n",
       "    .dataframe tbody tr th:only-of-type {\n",
       "        vertical-align: middle;\n",
       "    }\n",
       "\n",
       "    .dataframe tbody tr th {\n",
       "        vertical-align: top;\n",
       "    }\n",
       "\n",
       "    .dataframe thead th {\n",
       "        text-align: right;\n",
       "    }\n",
       "</style>\n",
       "<table border=\"1\" class=\"dataframe\">\n",
       "  <thead>\n",
       "    <tr style=\"text-align: right;\">\n",
       "      <th></th>\n",
       "      <th>Discount</th>\n",
       "      <th>Profit</th>\n",
       "    </tr>\n",
       "  </thead>\n",
       "  <tbody>\n",
       "    <tr>\n",
       "      <th>Discount</th>\n",
       "      <td>1.00000</td>\n",
       "      <td>0.65255</td>\n",
       "    </tr>\n",
       "    <tr>\n",
       "      <th>Profit</th>\n",
       "      <td>0.65255</td>\n",
       "      <td>1.00000</td>\n",
       "    </tr>\n",
       "  </tbody>\n",
       "</table>\n",
       "</div>"
      ],
      "text/plain": [
       "          Discount   Profit\n",
       "Discount   1.00000  0.65255\n",
       "Profit     0.65255  1.00000"
      ]
     },
     "execution_count": 57,
     "metadata": {},
     "output_type": "execute_result"
    }
   ],
   "source": [
    "china = df[df.Country=='China']\n",
    "china.groupby('Year')[['Discount', 'Profit']].mean().corr()"
   ]
  },
  {
   "cell_type": "code",
   "execution_count": 58,
   "metadata": {},
   "outputs": [
    {
     "name": "stdout",
     "output_type": "stream",
     "text": [
      "7.448342047214582e-57\n"
     ]
    }
   ],
   "source": [
    "import scipy.stats as stats\n",
    "corr, p_value = stats.pearsonr(aus['Discount'], aus['Profit'])\n",
    "print(p_value)"
   ]
  },
  {
   "cell_type": "code",
   "execution_count": 59,
   "metadata": {},
   "outputs": [
    {
     "name": "stdout",
     "output_type": "stream",
     "text": [
      "                            OLS Regression Results                            \n",
      "==============================================================================\n",
      "Dep. Variable:                 Profit   R-squared:                       0.085\n",
      "Model:                            OLS   Adj. R-squared:                  0.085\n",
      "Method:                 Least Squares   F-statistic:                     264.1\n",
      "Date:                Sat, 10 May 2025   Prob (F-statistic):           7.45e-57\n",
      "Time:                        16:11:28   Log-Likelihood:                -18118.\n",
      "No. Observations:                2837   AIC:                         3.624e+04\n",
      "Df Residuals:                    2835   BIC:                         3.625e+04\n",
      "Df Model:                           1                                         \n",
      "Covariance Type:            nonrobust                                         \n",
      "==============================================================================\n",
      "                 coef    std err          t      P>|t|      [0.025      0.975]\n",
      "------------------------------------------------------------------------------\n",
      "const         90.7715      4.287     21.175      0.000      82.366      99.177\n",
      "Discount    -377.2381     23.212    -16.252      0.000    -422.752    -331.724\n",
      "==============================================================================\n",
      "Omnibus:                     2460.998   Durbin-Watson:                   1.935\n",
      "Prob(Omnibus):                  0.000   Jarque-Bera (JB):           228343.790\n",
      "Skew:                           3.629   Prob(JB):                         0.00\n",
      "Kurtosis:                      46.348   Cond. No.                         8.78\n",
      "==============================================================================\n",
      "\n",
      "Notes:\n",
      "[1] Standard Errors assume that the covariance matrix of the errors is correctly specified.\n"
     ]
    }
   ],
   "source": [
    "import statsmodels.api as sm\n",
    "X = aus['Discount']  \n",
    "y = aus['Profit']  \n",
    "\n",
    "X = sm.add_constant(X)  \n",
    "model = sm.OLS(y, X).fit()  \n",
    "print(model.summary())  "
   ]
  },
  {
   "cell_type": "markdown",
   "metadata": {},
   "source": [
    "### 국가, 카테고리별 할인율 그래프"
   ]
  },
  {
   "cell_type": "code",
   "execution_count": 60,
   "metadata": {},
   "outputs": [
    {
     "data": {
      "application/vnd.plotly.v1+json": {
       "config": {
        "plotlyServerURL": "https://plot.ly"
       },
       "data": [
        {
         "hovertemplate": "Country=China<br>Category=Office Supplies<br>Discount=%{x}<br>Profit=%{y}<br>Sales=%{marker.size}<extra></extra>",
         "legendgroup": "China",
         "marker": {
          "color": "#E74C3C",
          "size": [
           18,
           200,
           145,
           99,
           148,
           165,
           40,
           231,
           43,
           82,
           137,
           75,
           195,
           63,
           264,
           84,
           32,
           158,
           164,
           41,
           259,
           900,
           108,
           271,
           155,
           54,
           395,
           103,
           136,
           67,
           41,
           50,
           147,
           123,
           95,
           93,
           1270,
           152,
           219,
           70,
           635,
           126,
           98,
           12,
           17,
           13,
           31,
           36,
           11,
           7,
           61,
           23,
           103,
           20,
           22,
           99,
           83,
           98,
           16,
           40,
           29,
           61,
           103,
           18,
           36,
           23,
           59,
           91,
           281,
           32,
           17,
           163,
           381,
           80,
           85,
           81,
           32,
           50,
           87,
           162,
           165,
           36,
           134,
           75,
           74,
           73,
           79,
           124,
           42,
           59,
           31,
           40,
           83,
           50,
           41,
           146,
           69,
           210,
           154,
           402,
           51,
           21,
           87,
           139,
           118,
           36,
           41,
           39,
           196,
           118,
           44,
           33,
           108,
           121,
           49,
           68,
           538,
           106,
           108,
           165,
           177,
           43,
           186,
           27,
           352,
           95,
           70,
           239,
           195,
           115,
           265,
           288,
           88,
           238,
           243,
           212,
           249,
           65,
           97,
           257,
           76,
           119,
           61,
           360,
           79,
           112,
           47,
           316,
           380,
           98,
           97,
           208,
           188,
           211,
           226,
           65,
           119,
           121,
           129,
           551,
           11,
           15,
           10,
           47,
           13,
           37,
           14,
           13,
           53,
           25,
           97,
           22,
           21,
           22,
           61,
           1057,
           28,
           35,
           34,
           96,
           90,
           22,
           17,
           21,
           61,
           95,
           68,
           95,
           16,
           27,
           51,
           97,
           27,
           622,
           9,
           41,
           12,
           27,
           57,
           61,
           23,
           26,
           111,
           93,
           1142,
           23,
           31,
           50,
           287,
           150,
           33,
           7,
           37,
           622,
           1235,
           108,
           13,
           23,
           14,
           34,
           1581,
           565,
           3001,
           1683,
           199,
           72,
           66,
           31,
           45,
           52,
           114,
           59,
           356,
           137,
           161,
           280,
           64,
           158,
           50,
           163,
           209,
           26,
           80,
           250,
           332,
           46,
           27,
           53,
           113,
           37,
           56,
           24,
           54,
           39,
           39,
           39,
           44,
           12,
           160,
           12,
           24,
           22,
           98,
           305,
           263,
           34,
           71,
           139,
           91,
           84,
           62,
           86,
           50,
           47,
           359,
           53,
           41,
           44,
           86,
           46,
           149,
           408,
           373,
           167,
           72,
           67,
           104,
           97,
           82,
           119,
           30,
           63,
           94,
           105,
           145,
           101,
           169,
           68,
           68,
           54,
           138,
           28,
           21,
           31,
           27,
           42,
           80,
           41,
           27,
           54,
           22,
           3671,
           422,
           110,
           60,
           138,
           3702,
           84,
           455,
           359,
           1241,
           8,
           18,
           13,
           34,
           21,
           47,
           56,
           44,
           45,
           125,
           69,
           47,
           113,
           10,
           20,
           183,
           141,
           147,
           59,
           141,
           149,
           50,
           385,
           703,
           50,
           642,
           188,
           370,
           385,
           767,
           94,
           245,
           190,
           190,
           249,
           533,
           514,
           106,
           192,
           813,
           70,
           53,
           48,
           21,
           269,
           96,
           98,
           96,
           413,
           47,
           114,
           22,
           207,
           206,
           11,
           26,
           29,
           54,
           26,
           34,
           97,
           31,
           91,
           108,
           44,
           53,
           95,
           146,
           194,
           363,
           43,
           404,
           143,
           211,
           165,
           107,
           155,
           228,
           145,
           100,
           43,
           64,
           40,
           121,
           70,
           246,
           71,
           28,
           23,
           109,
           34,
           86,
           46,
           34,
           38,
           17,
           44,
           152,
           22,
           18,
           19,
           20,
           155,
           88,
           154,
           85,
           12,
           13,
           29,
           12,
           13,
           10,
           11,
           100,
           14,
           18,
           36,
           14,
           23,
           29,
           166,
           34,
           42,
           124,
           97,
           47,
           25,
           73,
           108,
           150,
           192,
           132,
           829,
           80,
           89,
           202,
           24,
           178,
           59,
           63,
           79,
           97,
           133,
           373,
           33,
           103,
           29,
           213,
           54,
           37,
           51,
           412,
           117,
           113,
           79,
           45,
           136,
           87,
           102,
           8,
           349,
           33,
           125,
           924,
           177,
           82,
           51,
           28,
           56,
           149,
           62,
           60,
           98,
           38,
           27,
           47,
           126,
           94,
           47,
           254,
           79,
           83,
           34,
           91,
           181,
           391,
           67,
           66,
           63,
           852,
           144,
           60,
           92,
           635,
           89,
           1244,
           291,
           118,
           163,
           140,
           107,
           33,
           74,
           48,
           225,
           71,
           47,
           30,
           74,
           11,
           14,
           283,
           12,
           619,
           114,
           75,
           108,
           22,
           31,
           50,
           28,
           23,
           124,
           25,
           13,
           28,
           281,
           29,
           40,
           24,
           87,
           24,
           31,
           96,
           28,
           24,
           74,
           39,
           88,
           87,
           89,
           32,
           95,
           31,
           28,
           590,
           1609,
           926,
           112,
           67,
           76,
           40,
           496,
           110,
           125,
           101,
           117,
           19,
           83,
           39,
           25,
           5,
           40,
           50,
           17,
           45,
           50,
           409,
           768,
           1429,
           342,
           635,
           20,
           72,
           215,
           109,
           55,
           159,
           182,
           93,
           90,
           66,
           154,
           12,
           41,
           35,
           69,
           244,
           24,
           48,
           93,
           535,
           146,
           93,
           215,
           336,
           324,
           102,
           221,
           135,
           142,
           229,
           418,
           67,
           263,
           84,
           55,
           59,
           235,
           245,
           54,
           236,
           254,
           323,
           99,
           64,
           48,
           114,
           99,
           72,
           190,
           228,
           197,
           1241,
           96,
           99,
           54,
           57,
           188,
           141,
           108,
           63,
           422,
           94,
           78,
           54,
           65,
           81,
           32,
           45,
           37,
           158,
           385,
           79,
           142,
           36,
           11,
           8,
           11,
           14,
           41,
           20,
           30,
           14,
           53,
           92,
           116,
           21,
           1133,
           23,
           33,
           53,
           97,
           14,
           76,
           27,
           52,
           79,
           37,
           98,
           257,
           32,
           52,
           92,
           49,
           55,
           44,
           27,
           91,
           14,
           242,
           94,
           108,
           817,
           161,
           171,
           194,
           123,
           343,
           60,
           123,
           289,
           1781,
           435,
           174,
           563,
           127,
           212,
           39,
           127,
           66,
           123,
           59,
           167,
           86,
           150,
           137,
           77,
           49,
           45,
           222,
           149,
           243,
           278,
           98,
           77,
           203,
           25,
           238,
           79,
           32,
           67,
           23,
           80,
           56,
           14,
           34,
           33,
           53,
           33,
           62,
           26,
           25,
           18,
           17,
           49,
           32,
           47,
           33,
           299,
           77,
           50,
           85,
           280,
           448,
           166,
           89,
           109,
           41,
           71,
           66,
           60,
           79,
           30,
           114,
           33,
           48,
           33,
           26,
           23,
           117,
           27,
           69,
           848,
           230,
           186,
           3417,
           85,
           70,
           80,
           132,
           152,
           96,
           28,
           225,
           58,
           40,
           217,
           97,
           28,
           145,
           152,
           257,
           196,
           41,
           51,
           91,
           44,
           89,
           109,
           111,
           44,
           24,
           32,
           120,
           31,
           21,
           23,
           35,
           118,
           7,
           26,
           34,
           60,
           102,
           18,
           64,
           97,
           25,
           40,
           49,
           127,
           333,
           25,
           22,
           60,
           486,
           177,
           99,
           181,
           11,
           22,
           73,
           29,
           36,
           157,
           61,
           71,
           8,
           185,
           102,
           67,
           26,
           19,
           20,
           38,
           17,
           43,
           9,
           30,
           57,
           21,
           59,
           28,
           32,
           31,
           29,
           33,
           27,
           54,
           77,
           87,
           63,
           22,
           40,
           84,
           27,
           14,
           9,
           32,
           87,
           41,
           39,
           43,
           43,
           48,
           47,
           31,
           34,
           80,
           109,
           11,
           73,
           22,
           50,
           31,
           42,
           42,
           68,
           134,
           44,
           27,
           49,
           27,
           264,
           139,
           116,
           55,
           367,
           177,
           46,
           23,
           136,
           333,
           13,
           149,
           345,
           71,
           41,
           71,
           95,
           87,
           94,
           143,
           25,
           62,
           68,
           142,
           51,
           105,
           37,
           31,
           110,
           108,
           177,
           119,
           84,
           22,
           57,
           65,
           28,
           34,
           127,
           154,
           278,
           299,
           334,
           926,
           1285,
           409,
           81,
           87,
           1037,
           773,
           1185,
           213,
           242,
           235,
           329,
           899,
           116,
           144,
           1781,
           92,
           632,
           594,
           147,
           423,
           397,
           35,
           115,
           415,
           22,
           107,
           61,
           21,
           46,
           212,
           127,
           20,
           48,
           100,
           91,
           99,
           26,
           95,
           98,
           103,
           56,
           50,
           100,
           254,
           146,
           398,
           140,
           51,
           78,
           165,
           74,
           47,
           52,
           189,
           143,
           140,
           152,
           254,
           48,
           37,
           474,
           341,
           80,
           115,
           224,
           75,
           122,
           164,
           353,
           245,
           57,
           61,
           62,
           202,
           58,
           169,
           294,
           80,
           91,
           77,
           90,
           24,
           34,
           41,
           44,
           18,
           39,
           33,
           16,
           57,
           9,
           63,
           27,
           27,
           56,
           13,
           32,
           13,
           40,
           37,
           46,
           75,
           9,
           23,
           90,
           19,
           41,
           31,
           27,
           128,
           49,
           146,
           45,
           13,
           17,
           207
          ],
          "sizemode": "area",
          "sizeref": 14.4,
          "symbol": "circle"
         },
         "mode": "markers",
         "name": "China",
         "showlegend": true,
         "type": "scattergl",
         "x": [
          0,
          0,
          0,
          0,
          0,
          0,
          0,
          0,
          0,
          0,
          0,
          0,
          0,
          0,
          0,
          0,
          0,
          0,
          0,
          0,
          0,
          0,
          0,
          0,
          0,
          0,
          0,
          0,
          0,
          0,
          0,
          0,
          0,
          0,
          0,
          0,
          0,
          0,
          0,
          0,
          0,
          0,
          0,
          0,
          0,
          0,
          0,
          0,
          0,
          0,
          0,
          0,
          0,
          0,
          0,
          0,
          0,
          0,
          0,
          0,
          0,
          0,
          0,
          0,
          0,
          0,
          0,
          0,
          0,
          0,
          0,
          0,
          0,
          0,
          0,
          0,
          0,
          0,
          0,
          0,
          0,
          0,
          0,
          0,
          0,
          0,
          0,
          0,
          0,
          0,
          0,
          0,
          0,
          0,
          0,
          0,
          0,
          0,
          0,
          0,
          0,
          0,
          0,
          0,
          0,
          0,
          0,
          0,
          0,
          0,
          0,
          0,
          0,
          0,
          0,
          0,
          0,
          0,
          0,
          0,
          0,
          0,
          0,
          0,
          0,
          0,
          0,
          0,
          0,
          0,
          0,
          0,
          0,
          0,
          0,
          0,
          0,
          0,
          0,
          0,
          0,
          0,
          0,
          0,
          0,
          0,
          0,
          0,
          0,
          0,
          0,
          0,
          0,
          0,
          0,
          0,
          0,
          0,
          0,
          0,
          0,
          0,
          0,
          0,
          0,
          0,
          0,
          0,
          0,
          0,
          0,
          0,
          0,
          0,
          0,
          0,
          0,
          0,
          0,
          0,
          0,
          0,
          0,
          0,
          0,
          0,
          0,
          0,
          0,
          0,
          0,
          0,
          0,
          0,
          0,
          0,
          0,
          0,
          0,
          0,
          0,
          0,
          0,
          0,
          0,
          0,
          0,
          0,
          0,
          0,
          0,
          0,
          0,
          0,
          0,
          0,
          0,
          0,
          0,
          0,
          0,
          0,
          0,
          0,
          0,
          0,
          0,
          0,
          0,
          0,
          0,
          0,
          0,
          0,
          0,
          0,
          0,
          0,
          0,
          0,
          0,
          0,
          0,
          0,
          0,
          0,
          0,
          0,
          0,
          0,
          0,
          0,
          0,
          0,
          0,
          0,
          0,
          0,
          0,
          0,
          0,
          0,
          0,
          0,
          0,
          0,
          0,
          0,
          0,
          0,
          0,
          0,
          0,
          0,
          0,
          0,
          0,
          0,
          0,
          0,
          0,
          0,
          0,
          0,
          0,
          0,
          0,
          0,
          0,
          0,
          0,
          0,
          0,
          0,
          0,
          0,
          0,
          0,
          0,
          0,
          0,
          0,
          0,
          0,
          0,
          0,
          0,
          0,
          0,
          0,
          0,
          0,
          0,
          0,
          0,
          0,
          0,
          0,
          0,
          0,
          0,
          0,
          0,
          0,
          0,
          0,
          0,
          0,
          0,
          0,
          0,
          0,
          0,
          0,
          0,
          0,
          0,
          0,
          0,
          0,
          0,
          0,
          0,
          0,
          0,
          0,
          0,
          0,
          0,
          0,
          0,
          0,
          0,
          0,
          0,
          0,
          0,
          0,
          0,
          0,
          0,
          0,
          0,
          0,
          0,
          0,
          0,
          0,
          0,
          0,
          0,
          0,
          0,
          0,
          0,
          0,
          0,
          0,
          0,
          0,
          0,
          0,
          0,
          0,
          0,
          0,
          0,
          0,
          0,
          0,
          0,
          0,
          0,
          0,
          0,
          0,
          0,
          0,
          0,
          0,
          0,
          0,
          0,
          0,
          0,
          0,
          0,
          0,
          0,
          0,
          0,
          0,
          0,
          0,
          0,
          0,
          0,
          0,
          0,
          0,
          0,
          0,
          0,
          0,
          0,
          0,
          0,
          0,
          0,
          0,
          0,
          0,
          0,
          0,
          0,
          0,
          0,
          0,
          0,
          0,
          0,
          0,
          0,
          0,
          0,
          0,
          0,
          0,
          0,
          0,
          0,
          0,
          0,
          0,
          0,
          0,
          0,
          0,
          0,
          0,
          0,
          0,
          0,
          0,
          0,
          0,
          0,
          0,
          0,
          0,
          0,
          0,
          0,
          0,
          0,
          0,
          0,
          0,
          0,
          0,
          0,
          0,
          0,
          0,
          0,
          0,
          0,
          0,
          0,
          0,
          0,
          0,
          0,
          0,
          0,
          0,
          0,
          0,
          0,
          0,
          0,
          0,
          0,
          0,
          0,
          0,
          0,
          0,
          0,
          0,
          0,
          0,
          0,
          0,
          0,
          0,
          0,
          0,
          0,
          0,
          0,
          0,
          0,
          0,
          0,
          0,
          0,
          0,
          0,
          0,
          0,
          0,
          0,
          0,
          0,
          0,
          0,
          0,
          0,
          0,
          0,
          0,
          0,
          0,
          0,
          0,
          0,
          0,
          0,
          0,
          0,
          0,
          0,
          0,
          0,
          0,
          0,
          0,
          0,
          0,
          0,
          0,
          0,
          0,
          0,
          0,
          0,
          0,
          0,
          0,
          0,
          0,
          0,
          0,
          0,
          0,
          0,
          0,
          0,
          0,
          0,
          0,
          0,
          0,
          0,
          0,
          0,
          0,
          0,
          0,
          0,
          0,
          0,
          0,
          0,
          0,
          0,
          0,
          0,
          0,
          0,
          0,
          0,
          0,
          0,
          0,
          0,
          0,
          0,
          0,
          0,
          0,
          0,
          0,
          0,
          0,
          0,
          0,
          0,
          0,
          0,
          0,
          0,
          0,
          0,
          0,
          0,
          0,
          0,
          0,
          0,
          0,
          0,
          0,
          0,
          0,
          0,
          0,
          0,
          0,
          0,
          0,
          0,
          0,
          0,
          0,
          0,
          0,
          0,
          0,
          0,
          0,
          0,
          0,
          0,
          0,
          0,
          0,
          0,
          0,
          0,
          0,
          0,
          0,
          0,
          0,
          0,
          0,
          0,
          0,
          0,
          0,
          0,
          0,
          0,
          0,
          0,
          0,
          0,
          0,
          0,
          0,
          0,
          0,
          0,
          0,
          0,
          0,
          0,
          0,
          0,
          0,
          0,
          0,
          0,
          0,
          0,
          0,
          0,
          0,
          0,
          0,
          0,
          0,
          0,
          0,
          0,
          0,
          0,
          0,
          0,
          0,
          0,
          0,
          0,
          0,
          0,
          0,
          0,
          0,
          0,
          0,
          0,
          0,
          0,
          0,
          0,
          0,
          0,
          0,
          0,
          0,
          0,
          0,
          0,
          0,
          0,
          0,
          0,
          0,
          0,
          0,
          0,
          0,
          0,
          0,
          0,
          0,
          0,
          0,
          0,
          0,
          0,
          0,
          0,
          0,
          0,
          0,
          0,
          0,
          0,
          0,
          0,
          0,
          0,
          0,
          0,
          0,
          0,
          0,
          0,
          0,
          0,
          0,
          0,
          0,
          0,
          0,
          0,
          0,
          0,
          0,
          0,
          0,
          0,
          0,
          0,
          0,
          0,
          0,
          0,
          0,
          0,
          0,
          0,
          0,
          0,
          0,
          0,
          0,
          0,
          0,
          0,
          0,
          0,
          0,
          0,
          0,
          0,
          0,
          0,
          0,
          0,
          0,
          0,
          0,
          0,
          0,
          0,
          0,
          0,
          0,
          0,
          0,
          0,
          0,
          0,
          0,
          0,
          0,
          0,
          0,
          0,
          0,
          0,
          0,
          0,
          0,
          0,
          0,
          0,
          0,
          0,
          0,
          0,
          0,
          0,
          0,
          0,
          0,
          0,
          0,
          0,
          0,
          0,
          0,
          0,
          0,
          0,
          0,
          0,
          0,
          0,
          0,
          0,
          0,
          0,
          0,
          0,
          0,
          0,
          0,
          0,
          0,
          0,
          0,
          0,
          0,
          0,
          0,
          0,
          0,
          0,
          0,
          0,
          0,
          0,
          0,
          0,
          0,
          0,
          0,
          0,
          0,
          0,
          0,
          0,
          0,
          0,
          0,
          0,
          0,
          0,
          0,
          0,
          0,
          0,
          0,
          0,
          0,
          0,
          0,
          0,
          0,
          0,
          0,
          0,
          0,
          0,
          0,
          0,
          0,
          0,
          0,
          0,
          0,
          0,
          0,
          0,
          0,
          0,
          0,
          0,
          0,
          0,
          0,
          0,
          0,
          0,
          0,
          0,
          0,
          0,
          0,
          0,
          0,
          0,
          0,
          0,
          0,
          0,
          0,
          0,
          0,
          0,
          0,
          0,
          0,
          0,
          0,
          0,
          0,
          0,
          0,
          0,
          0,
          0,
          0,
          0,
          0,
          0,
          0,
          0,
          0,
          0,
          0,
          0,
          0,
          0,
          0,
          0,
          0,
          0,
          0,
          0,
          0,
          0,
          0,
          0,
          0,
          0,
          0,
          0,
          0,
          0,
          0,
          0,
          0,
          0,
          0,
          0,
          0,
          0,
          0,
          0,
          0,
          0,
          0,
          0,
          0,
          0,
          0,
          0,
          0,
          0,
          0,
          0,
          0,
          0,
          0,
          0,
          0,
          0,
          0,
          0,
          0,
          0,
          0,
          0,
          0,
          0,
          0,
          0,
          0,
          0,
          0,
          0,
          0,
          0,
          0,
          0,
          0,
          0,
          0,
          0,
          0,
          0,
          0.5,
          0.5,
          0.5,
          0.5,
          0.5,
          0.5,
          0.5,
          0.5,
          0.5,
          0.5,
          0.5,
          0.5,
          0.5,
          0.5,
          0.5,
          0.5,
          0.5,
          0.5
         ],
         "xaxis": "x",
         "y": [
          0.54,
          57.96,
          70.92,
          2.88,
          67.86,
          52.65,
          5.94,
          13.8,
          10.62,
          31.95,
          40.95,
          35.1,
          33.15,
          18.27,
          42,
          30.96,
          5.31,
          3.12,
          44.16,
          10.2,
          25.8,
          323.82,
          5.13,
          62.28,
          15.48,
          17.28,
          169.92,
          42.24,
          54.27,
          2.64,
          12.96,
          22.5,
          51.48,
          2.4,
          9.45,
          5.46,
          558.72,
          74.55,
          0,
          27.9,
          279.36,
          57.75,
          5.85,
          4.26,
          5.37,
          3.6,
          0,
          5.37,
          5.28,
          0.12,
          26.22,
          9.3,
          11.34,
          0.18,
          4.08,
          13.86,
          27.48,
          13.62,
          6.54,
          9.84,
          2.34,
          0,
          18.42,
          5.16,
          15.24,
          9.3,
          0.54,
          17.34,
          104.04,
          1.26,
          0.78,
          68.31,
          102.78,
          5.58,
          16.11,
          30.6,
          6.3,
          12.33,
          22.5,
          43.65,
          65.88,
          12.78,
          57.69,
          10.35,
          21.51,
          10.26,
          25.38,
          59.31,
          1.62,
          14.76,
          12.33,
          18.54,
          36.45,
          17.28,
          4.05,
          7.29,
          1.35,
          0,
          27.63,
          193.14,
          17.28,
          6.75,
          15.66,
          26.28,
          25.92,
          1.71,
          4.05,
          15.84,
          7.8,
          10.56,
          12.6,
          6.6,
          47.52,
          53.16,
          14.28,
          14.16,
          156.12,
          33.84,
          46.44,
          79.08,
          81.6,
          14.76,
          7.32,
          13.2,
          137.4,
          42.45,
          29.4,
          35.85,
          33.15,
          2.25,
          108.45,
          123.6,
          30.6,
          42.75,
          43.65,
          61.2,
          79.5,
          13.5,
          25.2,
          48.6,
          0,
          14.22,
          8.4,
          97.23,
          38.43,
          15.54,
          21,
          47.25,
          159.39,
          26.46,
          48.51,
          14.49,
          71.4,
          41.91,
          76.68,
          11.61,
          39.15,
          55.62,
          64.53,
          170.7,
          5.49,
          3.36,
          2.34,
          5.1,
          5.19,
          14.76,
          5.88,
          4.92,
          13.8,
          2.7,
          9.66,
          5.4,
          8.76,
          1.5,
          30.06,
          454.62,
          13.98,
          16.32,
          11.52,
          42.18,
          26.88,
          7.38,
          3.3,
          2.52,
          16.44,
          17.1,
          0,
          31.44,
          3.6,
          5.82,
          1.98,
          18.36,
          13.2,
          87.06,
          2.64,
          1.62,
          0.36,
          13.62,
          3.36,
          24.24,
          11.1,
          8.7,
          50.04,
          3.66,
          479.52,
          11.34,
          9,
          0.36,
          137.52,
          55.08,
          1.95,
          0.57,
          6.57,
          87.06,
          135.72,
          51.57,
          1.26,
          4.86,
          5.88,
          8.64,
          790.47,
          129.9,
          1080.18,
          487.98,
          63.72,
          31.05,
          7.8,
          1.53,
          6.24,
          11.52,
          12.45,
          18.78,
          42.66,
          40.95,
          12.87,
          131.67,
          12.12,
          34.56,
          0,
          63.48,
          68.7,
          5.4,
          39.24,
          104.91,
          33.18,
          11.07,
          10.2,
          5.7,
          38.25,
          8.91,
          26.4,
          11.1,
          6.3,
          1.89,
          13.5,
          9.36,
          11.28,
          2.97,
          46.2,
          1.8,
          8.76,
          6.3,
          34.32,
          79.11,
          91.8,
          8.79,
          21.33,
          59.43,
          28.08,
          30.96,
          25.56,
          34.2,
          3.48,
          11.64,
          107.52,
          5.7,
          7.02,
          12.36,
          16.2,
          11.07,
          32.64,
          16.2,
          40.8,
          49.86,
          9.27,
          28.71,
          24.93,
          44.46,
          37.08,
          8.28,
          0.54,
          31.59,
          24.42,
          31.56,
          12.96,
          6,
          84.24,
          14.94,
          14.94,
          20.07,
          34.44,
          13.86,
          2.46,
          2.43,
          7.02,
          7.56,
          38.43,
          13.5,
          4.86,
          9.72,
          7.98,
          367.08,
          122.25,
          7.65,
          19.8,
          28.86,
          1036.08,
          37.86,
          190.95,
          14.28,
          434.4,
          1.86,
          7.5,
          3.66,
          16.65,
          7.02,
          18.6,
          19.95,
          15.15,
          16.65,
          41.22,
          7.47,
          8.88,
          18,
          0,
          0,
          49.35,
          28.08,
          40.95,
          7.11,
          21.15,
          4.32,
          6.93,
          161.82,
          260.1,
          17.28,
          179.7,
          33.75,
          55.44,
          38.43,
          22.86,
          2.79,
          36.6,
          0,
          34.2,
          104.28,
          245.04,
          215.76,
          39,
          1.92,
          357.6,
          2.04,
          19.5,
          2.88,
          8.76,
          78.06,
          0.96,
          3.9,
          6.72,
          132.06,
          9.3,
          53.46,
          5.4,
          4.14,
          66.03,
          2.7,
          1.29,
          6.09,
          17.7,
          4.44,
          15.84,
          20.4,
          4.32,
          19.98,
          20.46,
          0,
          11.58,
          16.14,
          8.64,
          40.8,
          166.74,
          11.07,
          104.88,
          39.96,
          46.32,
          54.36,
          23.4,
          48.15,
          43.2,
          26.1,
          25.83,
          11.07,
          8.88,
          6.66,
          42.24,
          25.2,
          81.15,
          1.92,
          3.24,
          4.08,
          12,
          16.11,
          12.96,
          11.61,
          13.41,
          14.76,
          4.23,
          10.62,
          53.01,
          7.92,
          0.54,
          9.09,
          9.36,
          15.48,
          37.98,
          60.12,
          35.55,
          3.33,
          2.61,
          4.32,
          5.1,
          6,
          3.42,
          2.82,
          33.84,
          6.24,
          3.75,
          0.33,
          3.69,
          4.32,
          8.4,
          46.5,
          10.74,
          12.9,
          39.54,
          20.4,
          8.34,
          10.62,
          9.48,
          45.54,
          70.2,
          57.33,
          30.24,
          16.56,
          19.11,
          44.73,
          70.68,
          0.84,
          65.88,
          27.09,
          19.35,
          15.66,
          3.78,
          2.61,
          167.79,
          2.25,
          36,
          10.56,
          59.64,
          26.4,
          6.57,
          17.28,
          206.01,
          33.72,
          35.1,
          33.96,
          9.96,
          31.2,
          15.66,
          29.4,
          2.88,
          24.36,
          12.24,
          22.5,
          397.35,
          10.5,
          3.24,
          4.05,
          13.86,
          6.12,
          69.9,
          15.3,
          6.54,
          34.32,
          4.56,
          5.52,
          19.53,
          25.2,
          14.1,
          8.19,
          68.52,
          9.45,
          7.5,
          15.84,
          19.98,
          72.36,
          109.2,
          33.45,
          21.75,
          1.2,
          68.04,
          41.58,
          2.85,
          40.32,
          171.3,
          0,
          534.78,
          52.38,
          37.59,
          6.48,
          55.8,
          23.4,
          0.27,
          2.16,
          18.45,
          112.23,
          27.09,
          1.8,
          3.78,
          7.38,
          5.43,
          3.3,
          113.28,
          3.78,
          259.86,
          14.76,
          33.6,
          47.7,
          7.98,
          10.86,
          14.34,
          6.6,
          8.7,
          42.24,
          0,
          4.92,
          1.08,
          104.04,
          4.62,
          9.84,
          4.68,
          32.34,
          10.8,
          11.16,
          14.34,
          6.12,
          1.14,
          29.52,
          4.32,
          20.16,
          32.34,
          32.94,
          4.8,
          9.48,
          13.11,
          11.55,
          200.34,
          241.38,
          101.79,
          21.21,
          4.65,
          23.4,
          14.85,
          74.25,
          25.2,
          41.25,
          15.12,
          4.62,
          8.07,
          6.6,
          12.21,
          5.49,
          0.75,
          8.73,
          1.44,
          7.5,
          2.16,
          16.11,
          102.3,
          45.9,
          371.49,
          51.24,
          279.36,
          9.63,
          4.32,
          36.48,
          14.16,
          26.16,
          69.66,
          39.96,
          28.02,
          40.5,
          33.15,
          27.63,
          3.57,
          6.93,
          1.26,
          8.16,
          68.16,
          0.84,
          9.18,
          20.37,
          21.36,
          56.7,
          5.46,
          0,
          23.52,
          107.04,
          33.39,
          97.23,
          53.97,
          8.4,
          107.4,
          175.5,
          6,
          86.7,
          10.05,
          8.7,
          27.75,
          61.05,
          107.55,
          19.98,
          51.84,
          73.44,
          61.38,
          2.88,
          21.06,
          17.04,
          22.68,
          37.56,
          26.76,
          87.24,
          106.92,
          35.4,
          434.4,
          46.8,
          27.72,
          17.64,
          28.68,
          33.84,
          25.38,
          51.57,
          31.68,
          156.06,
          4.68,
          37.44,
          17.28,
          3.87,
          40.59,
          11.97,
          21.15,
          13.14,
          18.9,
          107.82,
          33.03,
          25.47,
          8.61,
          2.88,
          1.62,
          3.75,
          0.99,
          16.41,
          1.59,
          6.81,
          2.16,
          2.61,
          5.52,
          15,
          9,
          305.94,
          4.98,
          1.32,
          11.7,
          4.86,
          5.28,
          29.76,
          9.9,
          23.22,
          24.42,
          1.08,
          3.78,
          69.45,
          3.45,
          5.16,
          43.38,
          21.24,
          8.76,
          12.6,
          12.48,
          17.22,
          4.5,
          36.18,
          2.79,
          47.7,
          114.24,
          27.36,
          80.19,
          34.92,
          36.84,
          13.65,
          16.29,
          32.04,
          54.9,
          35.37,
          182.49,
          22.5,
          208.08,
          34.26,
          93.12,
          8.1,
          52.2,
          5.28,
          49.23,
          5.28,
          15,
          15.48,
          52.38,
          53.25,
          9.18,
          5.82,
          5.4,
          102,
          47.7,
          63,
          74.88,
          18.45,
          0.72,
          66.9,
          3.96,
          0,
          9.48,
          6.9,
          24.75,
          9,
          24.57,
          6.6,
          2.25,
          16.5,
          3.48,
          16.8,
          10.2,
          9.18,
          9,
          5.94,
          2.7,
          3.6,
          11.7,
          8.28,
          13.23,
          16.29,
          26.82,
          0,
          1.5,
          5.04,
          69.84,
          40.23,
          38.01,
          44.73,
          45.57,
          2.82,
          16.29,
          13.8,
          29.82,
          25.38,
          5.64,
          30.66,
          2.25,
          19.44,
          2.28,
          8.28,
          5.46,
          13.86,
          2.7,
          2.73,
          194.85,
          16.02,
          59.31,
          854.28,
          12.78,
          18.99,
          17.55,
          28.95,
          39.33,
          12.48,
          0,
          11.13,
          10.44,
          4.38,
          108.24,
          21.36,
          0,
          26.1,
          39.33,
          95.04,
          31.2,
          18.72,
          0,
          44.73,
          12.6,
          0.81,
          12,
          33.36,
          10.62,
          0.72,
          5.64,
          17.82,
          12.75,
          7.44,
          7.47,
          12.6,
          1.08,
          1.29,
          0,
          7.08,
          18.54,
          0,
          4.08,
          15.3,
          9.66,
          2.22,
          15.18,
          6.39,
          23.94,
          132.84,
          3.45,
          5.76,
          21,
          218.4,
          86.76,
          10.8,
          81.27,
          0.21,
          4.32,
          5.85,
          9.39,
          4.71,
          34.56,
          28.44,
          27.09,
          3.27,
          73.8,
          8.1,
          7.92,
          0.72,
          9.66,
          6.48,
          8.82,
          3.6,
          15.75,
          0.24,
          5.4,
          2.25,
          8.82,
          25.2,
          13.68,
          15.75,
          9.27,
          14.49,
          2.85,
          8.19,
          11.34,
          17.64,
          43.47,
          9.36,
          5.76,
          8.73,
          37.8,
          11.61,
          3.78,
          0.81,
          13.14,
          32.76,
          1.95,
          12.06,
          15.96,
          2.97,
          23.22,
          0.36,
          3.69,
          0.27,
          6.36,
          36.96,
          2.73,
          28.5,
          7.98,
          10.98,
          2.43,
          2.85,
          7.56,
          12.15,
          25.38,
          0.36,
          9.24,
          3.9,
          3.54,
          60.48,
          33.24,
          30,
          4.32,
          14.58,
          81.6,
          11.07,
          0.45,
          23.04,
          110.04,
          3.6,
          32.64,
          72.24,
          35.64,
          11.04,
          0.66,
          31.44,
          32.34,
          30.96,
          60.06,
          1.5,
          3.12,
          17.58,
          32.58,
          17.28,
          44.04,
          4.38,
          13.02,
          25.2,
          34.56,
          5.25,
          0,
          30.96,
          5.04,
          1.08,
          15,
          10.32,
          10.74,
          46.83,
          73.71,
          133.44,
          44.73,
          56.64,
          101.79,
          552.24,
          175.86,
          12.06,
          2.55,
          20.7,
          162.36,
          130.32,
          95.88,
          12,
          35.25,
          49.35,
          89.67,
          40.32,
          8.64,
          35.37,
          27.63,
          101.07,
          11.79,
          64.53,
          21.12,
          166.62,
          11.16,
          51.66,
          8.28,
          6,
          18.24,
          30.06,
          8.22,
          14.7,
          10.56,
          36.96,
          2.19,
          13.32,
          35.94,
          19.98,
          13.86,
          4.44,
          26.64,
          21.48,
          3.06,
          11.7,
          13.86,
          35.94,
          76.05,
          4.32,
          0,
          42.03,
          16.83,
          37.44,
          65.88,
          20.79,
          14.13,
          18,
          88.5,
          39.96,
          40.5,
          30.42,
          76.05,
          1.89,
          12.78,
          160.92,
          74.76,
          5.58,
          22.86,
          46.8,
          25.47,
          7.2,
          18,
          158.76,
          4.8,
          27.27,
          28.08,
          28.62,
          30.24,
          17.85,
          81.18,
          146.7,
          39.78,
          17.22,
          22.2,
          35.76,
          0.84,
          6.72,
          19.8,
          10.62,
          0.54,
          7.83,
          8.94,
          3.42,
          23.7,
          2.64,
          0.6,
          13.2,
          11.76,
          27.06,
          4.92,
          0.3,
          4.92,
          -21.6,
          -34.23,
          -42.36,
          -23.895,
          -7.725,
          -11.625,
          -63.18,
          -12.87,
          -8.325,
          -17.49,
          -2.67,
          -86.94,
          -35.22,
          -122.4,
          -17.055,
          -11.865,
          -2.07,
          -29.07
         ],
         "yaxis": "y"
        },
        {
         "hovertemplate": "Country=China<br>Category=Technology<br>Discount=%{x}<br>Profit=%{y}<br>Sales=%{marker.size}<extra></extra>",
         "legendgroup": "China",
         "marker": {
          "color": "#E74C3C",
          "size": [
           353,
           246,
           714,
           555,
           489,
           915,
           287,
           344,
           318,
           512,
           284,
           209,
           204,
           290,
           582,
           191,
           285,
           161,
           221,
           450,
           326,
           400,
           185,
           123,
           244,
           172,
           219,
           122,
           207,
           310,
           125,
           125,
           300,
           172,
           45,
           115,
           46,
           247,
           84,
           167,
           87,
           72,
           84,
           167,
           225,
           495,
           5725,
           410,
           223,
           584,
           442,
           2545,
           167,
           266,
           173,
           123,
           131,
           293,
           419,
           219,
           957,
           578,
           370,
           1527,
           3271,
           168,
           504,
           1109,
           5738,
           144,
           136,
           399,
           3181,
           5211,
           369,
           524,
           418,
           519,
           841,
           1215,
           136,
           1286,
           713,
           385,
           1081,
           1422,
           2519,
           785,
           587,
           635,
           1778,
           1927,
           360,
           2019,
           886,
           496,
           651,
           1422,
           1491,
           726,
           764,
           894,
           1175,
           674,
           892,
           997,
           1218,
           428,
           496,
           1311,
           2087,
           427,
           2415,
           3392,
           1157,
           973,
           866,
           360,
           264,
           382,
           378,
           383,
           249,
           643,
           297,
           383,
           760,
           294,
           239,
           249,
           1086,
           236,
           850,
           1468,
           367,
           323,
           255,
           856,
           1227,
           1066,
           940,
           523,
           916,
           513,
           121,
           486,
           605,
           139,
           52,
           1379,
           2195,
           1839,
           59,
           77,
           415,
           59,
           380,
           159,
           1026,
           79,
           77,
           96,
           119,
           990,
           1100,
           1272,
           1303,
           276,
           334,
           339,
           555,
           177,
           146,
           500,
           1273,
           639,
           304,
           1131,
           282,
           390,
           757,
           569,
           899,
           786,
           1774,
           1140,
           954,
           385,
           428,
           1318,
           334,
           1324,
           569,
           385,
           371,
           505,
           603,
           354,
           170,
           255,
           1145,
           870,
           964,
           522,
           932,
           396,
           392,
           884,
           2571,
           564,
           518,
           500,
           209,
           585,
           200,
           806,
           398,
           120,
           241,
           112,
           174,
           297,
           336,
           754,
           379,
           723,
           242,
           282,
           196,
           1275,
           1275,
           398,
           413,
           140,
           152,
           760,
           447,
           138,
           1278,
           464,
           374,
           504,
           716,
           195,
           261,
           1286,
           167,
           73,
           872,
           410,
           347,
           339,
           347,
           2545,
           912,
           2606,
           260,
           697,
           1275,
           1063,
           910,
           183,
           200,
           249,
           265,
           130,
           2044,
           1274,
           640,
           170,
           1158,
           1274,
           285,
           956,
           757,
           446,
           640,
           579,
           1693,
           1028,
           3200,
           1049,
           340,
           1521,
           760,
           1584,
           478,
           1501,
           968,
           1198,
           1266,
           786,
           958,
           633,
           423,
           713,
           497,
           637,
           1581,
           791,
           379,
           1716,
           901,
           3216,
           145,
           594,
           1447,
           579,
           726,
           487,
           760,
           358,
           2273,
           760,
           595,
           294,
           2174,
           468,
           517,
           157,
           157,
           897,
           763,
           862,
           526,
           478,
           701,
           804,
           925,
           1839,
           484,
           243,
           236,
           162,
           236,
           101,
           239,
           164,
           616,
           533,
           169,
           776,
           169,
           233,
           81,
           307,
           93,
           123,
           337,
           170,
           84,
           245,
           80,
           498,
           229,
           579,
           208,
           166,
           570,
           511,
           506,
           207,
           211,
           88,
           59,
           140,
           2331,
           123,
           217,
           59,
           1036,
           254,
           77,
           167,
           106,
           254,
           742,
           221,
           29,
           287,
           79,
           724,
           249,
           167,
           726,
           126,
           242,
           1025,
           431,
           112,
           347,
           139,
           229
          ],
          "sizemode": "area",
          "sizeref": 14.4,
          "symbol": "circle"
         },
         "mode": "markers",
         "name": "China",
         "showlegend": false,
         "type": "scattergl",
         "x": [
          0,
          0,
          0,
          0,
          0,
          0,
          0,
          0,
          0,
          0,
          0,
          0,
          0,
          0,
          0,
          0,
          0,
          0,
          0,
          0,
          0,
          0,
          0,
          0,
          0,
          0,
          0,
          0,
          0,
          0,
          0,
          0,
          0,
          0,
          0,
          0,
          0,
          0,
          0,
          0,
          0,
          0,
          0,
          0,
          0,
          0,
          0,
          0,
          0,
          0,
          0,
          0,
          0,
          0,
          0,
          0,
          0,
          0,
          0,
          0,
          0,
          0,
          0,
          0,
          0,
          0,
          0,
          0,
          0,
          0,
          0,
          0,
          0,
          0,
          0,
          0,
          0,
          0,
          0,
          0,
          0,
          0,
          0,
          0,
          0,
          0,
          0,
          0,
          0,
          0,
          0,
          0,
          0,
          0,
          0,
          0,
          0,
          0,
          0,
          0,
          0,
          0,
          0,
          0,
          0,
          0,
          0,
          0,
          0,
          0,
          0,
          0,
          0,
          0,
          0,
          0,
          0,
          0,
          0,
          0,
          0,
          0,
          0,
          0,
          0,
          0,
          0,
          0,
          0,
          0,
          0,
          0,
          0,
          0,
          0,
          0,
          0,
          0,
          0,
          0,
          0,
          0,
          0,
          0,
          0,
          0,
          0,
          0,
          0,
          0,
          0,
          0,
          0,
          0,
          0,
          0,
          0,
          0,
          0,
          0,
          0,
          0,
          0,
          0,
          0,
          0,
          0,
          0,
          0,
          0,
          0,
          0,
          0,
          0,
          0,
          0,
          0,
          0,
          0,
          0,
          0,
          0,
          0,
          0,
          0,
          0,
          0,
          0,
          0,
          0,
          0,
          0,
          0,
          0,
          0,
          0,
          0,
          0,
          0,
          0,
          0,
          0,
          0,
          0,
          0,
          0,
          0,
          0,
          0,
          0,
          0,
          0,
          0,
          0,
          0,
          0,
          0,
          0,
          0,
          0,
          0,
          0,
          0,
          0,
          0,
          0,
          0,
          0,
          0,
          0,
          0,
          0,
          0,
          0,
          0,
          0,
          0,
          0,
          0,
          0,
          0,
          0,
          0,
          0,
          0,
          0,
          0,
          0,
          0,
          0,
          0,
          0,
          0,
          0,
          0,
          0,
          0,
          0,
          0,
          0,
          0,
          0,
          0,
          0,
          0,
          0,
          0,
          0,
          0,
          0,
          0,
          0,
          0,
          0,
          0,
          0,
          0,
          0,
          0,
          0,
          0,
          0,
          0,
          0,
          0,
          0,
          0,
          0,
          0,
          0,
          0,
          0,
          0,
          0,
          0,
          0,
          0,
          0,
          0,
          0,
          0,
          0,
          0,
          0,
          0,
          0,
          0,
          0,
          0,
          0,
          0,
          0,
          0,
          0,
          0,
          0,
          0,
          0,
          0,
          0,
          0,
          0,
          0,
          0,
          0,
          0,
          0,
          0,
          0,
          0,
          0,
          0,
          0,
          0,
          0,
          0,
          0,
          0,
          0,
          0,
          0,
          0,
          0,
          0,
          0,
          0,
          0,
          0,
          0,
          0,
          0,
          0,
          0,
          0,
          0,
          0,
          0,
          0,
          0,
          0,
          0,
          0,
          0,
          0,
          0,
          0,
          0,
          0,
          0,
          0,
          0,
          0,
          0,
          0,
          0,
          0,
          0,
          0,
          0,
          0,
          0,
          0,
          0,
          0,
          0,
          0,
          0,
          0.5,
          0.5,
          0.5,
          0.5,
          0.5,
          0.5
         ],
         "xaxis": "x2",
         "y": [
          158.76,
          103.2,
          342.36,
          266.28,
          117.18,
          137.04,
          48.72,
          13.68,
          88.83,
          51.03,
          28.35,
          91.8,
          28.35,
          139.05,
          122.1,
          64.65,
          91.2,
          70.8,
          24.24,
          13.44,
          78.12,
          112.08,
          64.8,
          41.67,
          26.73,
          6.84,
          30.51,
          17.01,
          78.75,
          43.38,
          29.97,
          29.97,
          84.06,
          6.84,
          12.69,
          3.45,
          16.2,
          2.46,
          37.08,
          4.98,
          14.76,
          19.5,
          36.72,
          41.82,
          6.72,
          4.92,
          1602.99,
          69.66,
          69.12,
          216,
          185.7,
          1068.84,
          63.36,
          58.41,
          81.48,
          43.14,
          53.58,
          40.92,
          88.02,
          78.93,
          191.31,
          75,
          129.42,
          656.64,
          1341.15,
          58.86,
          201.72,
          498.96,
          630.99,
          18.75,
          64.02,
          87.6,
          1081.35,
          833.76,
          84.96,
          125.73,
          79.38,
          93.48,
          319.35,
          413.04,
          13.56,
          51.42,
          128.25,
          126.99,
          302.49,
          526.2,
          553.98,
          94.23,
          146.76,
          272.7,
          657.75,
          308.16,
          133.2,
          928.44,
          159.39,
          54.48,
          45.45,
          526.2,
          104.25,
          355.5,
          381.96,
          62.55,
          493.56,
          316.92,
          169.38,
          9.87,
          268.05,
          111.33,
          64.44,
          327.6,
          145.95,
          187.92,
          1134.84,
          271.08,
          300.78,
          9.72,
          34.56,
          79.14,
          42.18,
          183.18,
          151.35,
          57.36,
          4.92,
          44.94,
          14.82,
          72.72,
          144.42,
          144,
          7.14,
          4.92,
          369.09,
          73.14,
          136.05,
          381.6,
          106.26,
          6.39,
          40.77,
          68.46,
          73.5,
          468.96,
          141.03,
          214.29,
          36.63,
          0,
          7.23,
          189.36,
          36.15,
          68.22,
          17.58,
          441.12,
          1031.52,
          238.98,
          8.16,
          16.92,
          124.35,
          10.05,
          52.92,
          31.8,
          174.36,
          33,
          16.92,
          17.16,
          2.34,
          356.4,
          175.86,
          534.42,
          208.44,
          5.46,
          76.8,
          108.48,
          0,
          74.28,
          10.2,
          35.01,
          470.82,
          313.11,
          103.26,
          327.96,
          121.32,
          27.27,
          370.86,
          45.45,
          134.73,
          157.05,
          124.02,
          433.26,
          343.53,
          57.72,
          128.25,
          0,
          19.98,
          609.12,
          187.74,
          126.99,
          181.92,
          15.12,
          205.05,
          109.71,
          27.18,
          40.77,
          263.13,
          408.75,
          269.82,
          15.48,
          214.29,
          190.2,
          160.74,
          114.84,
          102.84,
          16.8,
          124.11,
          140.1,
          91.8,
          140.4,
          15.93,
          32.22,
          19.89,
          16.74,
          57.87,
          47.1,
          69.42,
          56.46,
          127.74,
          60.24,
          30.3,
          332.7,
          21.78,
          8.4,
          68.4,
          216.72,
          140.22,
          19.89,
          115.74,
          11.16,
          51.63,
          258.15,
          174.42,
          2.73,
          460.08,
          83.52,
          18.63,
          201.72,
          343.65,
          46.89,
          107.16,
          51.42,
          38.37,
          5.1,
          43.47,
          81.99,
          97.08,
          27.12,
          162.96,
          1068.84,
          309.78,
          364.8,
          46.74,
          132.3,
          165.66,
          361.41,
          391.35,
          43.8,
          15.93,
          59.76,
          13.26,
          31.26,
          756,
          382.2,
          76.74,
          16.98,
          254.52,
          573,
          2.82,
          468.48,
          302.7,
          218.52,
          121.5,
          150.39,
          829.5,
          20.37,
          1183.95,
          262.08,
          33.96,
          0,
          144.42,
          174.15,
          234.24,
          89.91,
          474,
          179.64,
          265.92,
          369.27,
          0,
          132.96,
          181.98,
          128.25,
          154.08,
          191.1,
          0,
          126.54,
          125.16,
          840.63,
          45,
          96.39,
          1.44,
          112.92,
          665.4,
          127.26,
          355.5,
          107.22,
          311.46,
          114.69,
          977.22,
          288.84,
          291.36,
          135.36,
          260.82,
          112.32,
          165.42,
          39.15,
          45.54,
          403.47,
          167.79,
          405,
          262.71,
          62.04,
          350.28,
          369.54,
          397.53,
          238.98,
          28.92,
          121.59,
          73.14,
          74.46,
          73.14,
          0.96,
          31.02,
          45.9,
          265.02,
          207.66,
          20.16,
          225.09,
          74.16,
          116.25,
          0.81,
          129.06,
          32.4,
          20.88,
          10.08,
          50.94,
          11.76,
          85.77,
          15.9,
          179.1,
          34.26,
          225.9,
          43.5,
          18.18,
          0,
          214.5,
          30.3,
          28.92,
          86.4,
          28.2,
          15.84,
          64.44,
          1025.46,
          20.88,
          108.63,
          12.96,
          455.76,
          40.65,
          16.92,
          73.44,
          30.78,
          40.65,
          7.38,
          70.5,
          6.48,
          48.72,
          33,
          101.22,
          89.55,
          4.98,
          101.64,
          36.45,
          106.2,
          -286.92,
          -172.275,
          -100.8,
          -20.82,
          -86.43,
          -155.88
         ],
         "yaxis": "y2"
        },
        {
         "hovertemplate": "Country=China<br>Category=Furniture<br>Discount=%{x}<br>Profit=%{y}<br>Sales=%{marker.size}<extra></extra>",
         "legendgroup": "China",
         "marker": {
          "color": "#E74C3C",
          "size": [
           1451,
           509,
           854,
           371,
           2878,
           780,
           725,
           423,
           1173,
           2061,
           1729,
           244,
           1938,
           438,
           340,
           1822,
           338,
           1548,
           149,
           2491,
           2471,
           2066,
           589,
           2473,
           365,
           1962,
           445,
           337,
           2183,
           2190,
           1358,
           1362,
           145,
           248,
           857,
           1374,
           168,
           247,
           977,
           822,
           854,
           1945,
           3048,
           298,
           840,
           168,
           1175,
           498,
           1097,
           3272,
           79,
           365,
           2337,
           176,
           1836,
           429,
           579,
           149,
           87,
           46,
           167,
           235,
           327,
           1586,
           179,
           930,
           870,
           446,
           914,
           95,
           167,
           441,
           387,
           1021,
           296,
           173,
           1290,
           402,
           275,
           181,
           251,
           729,
           498,
           1391,
           2820,
           252,
           405,
           286,
           1392,
           1819,
           1291,
           415,
           484,
           1371,
           169,
           1218,
           70,
           326,
           187,
           986,
           284,
           96,
           254,
           928,
           522,
           706,
           179,
           95,
           360,
           64,
           147,
           189,
           667,
           349,
           140,
           535,
           101,
           383,
           126,
           113,
           206,
           307,
           326,
           125,
           119,
           151,
           311,
           51,
           649,
           237,
           114,
           233,
           95,
           98,
           103,
           88,
           50,
           217,
           90,
           104,
           58,
           44,
           17,
           19,
           47,
           55,
           424,
           992,
           455,
           844,
           337,
           363,
           148,
           1828,
           373,
           681,
           290,
           628,
           591,
           173,
           2906,
           341,
           474,
           547,
           124,
           498,
           471,
           137,
           329,
           446,
           5049,
           336,
           507,
           2301,
           521,
           234,
           149,
           252,
           330,
           101,
           67,
           175,
           19,
           111,
           101,
           32,
           214,
           72,
           18,
           340,
           145,
           220,
           341,
           156,
           845,
           2063,
           857,
           252,
           754,
           828,
           711,
           872,
           1182,
           913,
           2063,
           1904,
           823,
           155,
           22,
           457,
           458,
           250,
           243,
           295,
           263,
           294,
           115,
           95,
           332,
           53,
           1052,
           1354,
           508,
           2471,
           1314,
           1455,
           1236,
           787,
           498,
           1358,
           365,
           1115,
           667,
           2347,
           1093,
           573,
           375,
           858,
           1447,
           738,
           618,
           509,
           168,
           364,
           437,
           367,
           362,
           725,
           774,
           729,
           729,
           246,
           725,
           825,
           288,
           731,
           249,
           49,
           49,
           50,
           25,
           44,
           103,
           38,
           220,
           51,
           101,
           103,
           233,
           85,
           38,
           222,
           113,
           103,
           48,
           48,
           345,
           156,
           150,
           425,
           218,
           175,
           770,
           127,
           371,
           101,
           117,
           698,
           265,
           53,
           284,
           316,
           79,
           151,
           330,
           79,
           195,
           255,
           76,
           220,
           259,
           75,
           151,
           53,
           191,
           1002,
           160,
           99,
           246,
           2754,
           1296,
           377,
           90,
           139,
           851,
           334,
           932,
           645,
           415,
           190,
           497,
           299,
           448,
           270,
           664,
           1860,
           250,
           658,
           267,
           642,
           457,
           131,
           171,
           835,
           106,
           522,
           3217,
           139,
           53,
           174,
           265,
           3298,
           1381,
           266,
           167,
           192,
           1021,
           401,
           1378,
           174,
           455,
           405,
           2348,
           190,
           334,
           95,
           357,
           1057,
           169,
           412,
           969,
           501,
           85,
           275,
           429,
           323,
           241,
           268,
           322,
           2761,
           397,
           125,
           476,
           818,
           145,
           371,
           1381,
           305,
           460,
           692,
           1444,
           986,
           3238,
           619,
           623,
           1888,
           1038,
           740,
           1760,
           657,
           142,
           1371,
           47,
           2215,
           1270,
           1445,
           1048,
           981,
           303,
           148,
           636,
           1029,
           747,
           2018,
           1086,
           2437,
           75,
           445,
           663,
           1837,
           252,
           2077,
           885,
           549,
           64,
           1119,
           638,
           897,
           1962,
           1008,
           1488,
           2615
          ],
          "sizemode": "area",
          "sizeref": 14.4,
          "symbol": "circle"
         },
         "mode": "markers",
         "name": "China",
         "showlegend": false,
         "type": "scattergl",
         "x": [
          0,
          0,
          0,
          0,
          0,
          0,
          0,
          0,
          0,
          0,
          0,
          0,
          0,
          0,
          0,
          0,
          0,
          0,
          0,
          0,
          0,
          0,
          0,
          0,
          0,
          0,
          0,
          0,
          0,
          0,
          0,
          0,
          0,
          0,
          0,
          0,
          0,
          0,
          0,
          0,
          0,
          0,
          0,
          0,
          0,
          0,
          0,
          0,
          0,
          0,
          0,
          0,
          0,
          0,
          0,
          0,
          0,
          0,
          0,
          0,
          0,
          0,
          0,
          0,
          0,
          0,
          0,
          0,
          0,
          0,
          0,
          0,
          0,
          0,
          0,
          0,
          0,
          0,
          0,
          0,
          0,
          0,
          0,
          0,
          0,
          0,
          0,
          0,
          0,
          0,
          0,
          0,
          0,
          0,
          0,
          0,
          0,
          0,
          0,
          0,
          0,
          0,
          0,
          0,
          0,
          0,
          0,
          0,
          0,
          0,
          0,
          0,
          0,
          0,
          0,
          0,
          0,
          0,
          0,
          0,
          0,
          0,
          0,
          0,
          0,
          0,
          0,
          0,
          0,
          0,
          0,
          0,
          0,
          0,
          0,
          0,
          0,
          0,
          0,
          0,
          0,
          0,
          0,
          0,
          0,
          0,
          0,
          0,
          0,
          0,
          0,
          0,
          0,
          0,
          0,
          0,
          0,
          0,
          0,
          0,
          0,
          0,
          0,
          0,
          0,
          0,
          0,
          0,
          0,
          0,
          0,
          0,
          0,
          0,
          0,
          0,
          0,
          0,
          0,
          0,
          0,
          0,
          0,
          0,
          0,
          0,
          0,
          0,
          0,
          0,
          0,
          0,
          0,
          0,
          0,
          0,
          0,
          0,
          0,
          0,
          0,
          0,
          0,
          0,
          0,
          0,
          0,
          0,
          0,
          0,
          0,
          0,
          0,
          0,
          0,
          0,
          0,
          0,
          0,
          0,
          0,
          0,
          0,
          0,
          0,
          0,
          0,
          0,
          0,
          0,
          0,
          0,
          0,
          0,
          0,
          0,
          0,
          0,
          0,
          0,
          0,
          0,
          0,
          0,
          0,
          0,
          0,
          0,
          0,
          0,
          0,
          0,
          0,
          0,
          0,
          0,
          0,
          0,
          0,
          0,
          0,
          0,
          0,
          0,
          0,
          0,
          0,
          0,
          0,
          0,
          0,
          0,
          0,
          0,
          0,
          0,
          0,
          0,
          0,
          0,
          0,
          0,
          0,
          0,
          0,
          0,
          0,
          0,
          0,
          0,
          0,
          0,
          0,
          0,
          0,
          0,
          0,
          0,
          0,
          0,
          0,
          0,
          0,
          0,
          0,
          0,
          0,
          0,
          0,
          0,
          0,
          0,
          0,
          0,
          0,
          0,
          0,
          0,
          0,
          0,
          0,
          0,
          0,
          0,
          0,
          0,
          0,
          0,
          0,
          0,
          0,
          0,
          0,
          0,
          0,
          0,
          0,
          0,
          0,
          0,
          0,
          0,
          0,
          0,
          0,
          0,
          0,
          0,
          0,
          0,
          0,
          0,
          0,
          0,
          0,
          0,
          0,
          0,
          0,
          0,
          0,
          0,
          0,
          0,
          0,
          0,
          0,
          0,
          0,
          0,
          0,
          0,
          0,
          0,
          0,
          0,
          0,
          0,
          0,
          0.3,
          0.3,
          0.3,
          0.3,
          0.5,
          0.3,
          0.3,
          0.3,
          0.3,
          0.3,
          0.3,
          0.5,
          0.5,
          0.5,
          0.3,
          0.3,
          0.3,
          0.3,
          0.3,
          0.5,
          0.5,
          0.3,
          0.3,
          0.3,
          0.3,
          0.3,
          0.3,
          0.5,
          0.3,
          0.3,
          0.3,
          0.5,
          0.3,
          0.3,
          0.5,
          0.5,
          0.3,
          0.3,
          0.3,
          0.3,
          0.3,
          0.3,
          0.3
         ],
         "xaxis": "x3",
         "y": [
          130.56,
          5.04,
          102.3,
          103.68,
          431.76,
          257.46,
          333.36,
          147.87,
          129.06,
          886.05,
          483.84,
          68.34,
          135.6,
          56.88,
          3.36,
          655.65,
          67.5,
          650.28,
          0,
          1046.16,
          518.76,
          103.2,
          117.72,
          1038.42,
          62.01,
          392.4,
          213.3,
          158.16,
          174.6,
          372.06,
          203.7,
          340.41,
          24.6,
          96.78,
          291.24,
          54.72,
          79.08,
          101.22,
          97.44,
          123.36,
          221.85,
          291.6,
          1463.07,
          0,
          100.8,
          20.16,
          187.92,
          224.28,
          252.24,
          1537.83,
          11.04,
          21.9,
          1098.45,
          0,
          238.68,
          85.86,
          98.28,
          2.97,
          0.84,
          3.66,
          76.56,
          82.2,
          150.54,
          0,
          69.93,
          158.1,
          191.25,
          26.7,
          91.38,
          22.74,
          81.96,
          207.15,
          61.92,
          112.32,
          144.9,
          76.23,
          618.96,
          164.7,
          16.47,
          77.64,
          122.94,
          247.92,
          104.49,
          556.38,
          338.22,
          123.3,
          117.36,
          57.24,
          97.38,
          654.72,
          25.65,
          149.49,
          232.11,
          137.07,
          33.84,
          267.75,
          7.65,
          123.72,
          29.88,
          108.36,
          68.22,
          31.8,
          91.2,
          64.92,
          114.75,
          91.68,
          10.68,
          22.74,
          169.2,
          18.51,
          61.56,
          69.84,
          173.34,
          104.67,
          70.14,
          230.1,
          10.05,
          179.82,
          27.6,
          49.68,
          57.48,
          21.42,
          48.87,
          29.85,
          58.2,
          54.18,
          49.68,
          13.32,
          136.26,
          4.65,
          13.68,
          18.6,
          1.86,
          23.4,
          15.42,
          21.96,
          11.04,
          36.9,
          26.1,
          35.28,
          15.69,
          7.02,
          0.51,
          5.85,
          16.5,
          27.57,
          25.38,
          456.24,
          90.9,
          160.35,
          158.16,
          32.64,
          71.1,
          438.75,
          89.55,
          74.88,
          40.56,
          31.35,
          218.7,
          57.03,
          1220.52,
          122.7,
          142.08,
          185.94,
          43.44,
          104.49,
          216.6,
          12.24,
          161.25,
          26.7,
          656.37,
          164.4,
          20.16,
          91.95,
          229.32,
          86.64,
          65.52,
          108.24,
          13.14,
          15.12,
          5.31,
          15.6,
          2.28,
          18.9,
          17.04,
          8.88,
          92.04,
          29.97,
          6.33,
          37.35,
          47.88,
          59.34,
          160.44,
          13.95,
          92.88,
          123.75,
          128.4,
          17.55,
          120.6,
          397.2,
          341.16,
          8.61,
          236.25,
          54.75,
          123.75,
          418.92,
          189.18,
          60.39,
          3.78,
          45.69,
          13.71,
          122.58,
          89.94,
          106.02,
          21,
          129.12,
          19.5,
          1.86,
          29.88,
          19.5,
          105.21,
          541.44,
          203.04,
          518.76,
          39.42,
          116.4,
          519.21,
          393.48,
          224.28,
          203.7,
          153.09,
          267.57,
          73.32,
          258.12,
          393.39,
          200.64,
          134.82,
          248.64,
          43.32,
          125.28,
          172.8,
          5.04,
          20.16,
          131.13,
          96.21,
          157.74,
          10.83,
          333.36,
          325.14,
          218.82,
          218.82,
          66.42,
          333.36,
          49.5,
          0,
          175.5,
          59.7,
          16.59,
          22.92,
          17.04,
          7.56,
          6.99,
          44.34,
          11.7,
          2.16,
          7.56,
          17.04,
          15.42,
          69.78,
          26.34,
          3.36,
          57.78,
          53.16,
          44.34,
          23.28,
          23.28,
          44.73,
          55.98,
          51.12,
          157.14,
          19.5,
          15.6,
          384.72,
          35.52,
          140.91,
          35.16,
          17.55,
          209.34,
          113.85,
          3.15,
          118.98,
          117,
          22.2,
          9,
          164.88,
          23.76,
          46.8,
          119.88,
          6.72,
          35.1,
          124.2,
          17.91,
          9,
          18.99,
          40.08,
          250.38,
          28.68,
          21.72,
          93.6,
          358.02,
          285.12,
          162.12,
          38.82,
          15.3,
          93.6,
          83.46,
          242.13,
          309.48,
          149.49,
          45.48,
          238.32,
          116.55,
          8.91,
          78.24,
          26.55,
          316.2,
          114.84,
          164.4,
          117.6,
          38.43,
          45.69,
          1.26,
          34.26,
          208.65,
          9.54,
          114.75,
          611.1,
          15.3,
          4.77,
          1.68,
          10.56,
          1055.25,
          593.91,
          10.62,
          76.56,
          55.53,
          112.32,
          176.4,
          206.64,
          53.82,
          163.68,
          117.36,
          727.95,
          68.4,
          83.46,
          22.74,
          21.36,
          0,
          6.72,
          70.02,
          348.81,
          30,
          0.84,
          16.47,
          85.86,
          138.96,
          79.5,
          109.8,
          25.62,
          110.34,
          15.84,
          19.92,
          114.18,
          376.35,
          62.46,
          33.39,
          55.17,
          2.94,
          87.3,
          -207.732,
          330.048,
          -408.618,
          -740.295,
          -544.77,
          -62.34,
          -161.964,
          -311.598,
          21.12,
          -326.97,
          93.846,
          -71.025,
          -1097.28,
          -24.66,
          -221.571,
          -36.288,
          103.068,
          -284.526,
          210.15,
          -36.375,
          -5.97,
          109.089,
          -220.419,
          -234.846,
          -576.909,
          -155.097,
          -487.368,
          -70.44,
          63.606,
          -255.96,
          183.636,
          -191.565,
          59.166,
          -341.28,
          -395.235,
          -15.39,
          255.795,
          118.359,
          -205.188,
          420.3,
          28.773,
          -488.916,
          -821.961
         ],
         "yaxis": "y3"
        },
        {
         "hovertemplate": "Country=Australia<br>Category=Office Supplies<br>Discount=%{x}<br>Profit=%{y}<br>Sales=%{marker.size}<extra></extra>",
         "legendgroup": "Australia",
         "marker": {
          "color": "#3498DB",
          "size": [
           149,
           48,
           383,
           18,
           26,
           26,
           191,
           90,
           88,
           62,
           253,
           66,
           295,
           34,
           96,
           55,
           58,
           104,
           57,
           41,
           34,
           210,
           167,
           69,
           99,
           99,
           74,
           68,
           78,
           9,
           69,
           86,
           200,
           516,
           275,
           72,
           132,
           282,
           55,
           6,
           6,
           17,
           19,
           62,
           46,
           37,
           58,
           537,
           82,
           10,
           58,
           156,
           406,
           23,
           56,
           27,
           14,
           13,
           59,
           30,
           117,
           60,
           275,
           95,
           51,
           68,
           204,
           131,
           152,
           13,
           33,
           26,
           2075,
           38,
           63,
           98,
           33,
           18,
           77,
           22,
           71,
           24,
           54,
           140,
           23,
           73,
           159,
           125,
           85,
           144,
           1587,
           100,
           110,
           45,
           29,
           37,
           24,
           1245,
           57,
           59,
           27,
           61,
           499,
           36,
           89,
           153,
           43,
           15,
           46,
           17,
           16,
           24,
           9,
           8,
           2050,
           9,
           30,
           34,
           123,
           58,
           14,
           39,
           120,
           21,
           8,
           32,
           16,
           1903,
           19,
           39,
           115,
           63,
           53,
           399,
           59,
           66,
           61,
           34,
           72,
           19,
           59,
           955,
           17,
           8,
           27,
           245,
           29,
           7,
           36,
           56,
           108,
           13,
           36,
           56,
           67,
           8,
           58,
           43,
           37,
           18,
           27,
           32,
           327,
           64,
           372,
           43,
           5,
           14,
           69,
           49,
           182,
           24,
           43,
           24,
           17,
           21,
           10,
           74,
           664,
           39,
           21,
           29,
           32,
           24,
           86,
           141,
           25,
           45,
           15,
           78,
           13,
           15,
           27,
           13,
           71,
           10,
           45,
           19,
           36,
           42,
           25,
           78,
           120,
           18,
           11,
           13,
           17,
           25,
           26,
           43,
           28,
           209,
           207,
           13,
           136,
           19,
           87,
           623,
           33,
           87,
           10,
           81,
           117,
           27,
           6,
           49,
           25,
           17,
           97,
           15,
           44,
           34,
           57,
           19,
           595,
           19,
           66,
           69,
           64,
           36,
           10,
           25,
           30,
           89,
           7,
           32,
           15,
           20,
           387,
           48,
           1894,
           13,
           119,
           8,
           96,
           2525,
           59,
           82,
           81,
           36,
           65,
           5,
           33,
           60,
           6,
           18,
           135,
           26,
           109,
           85,
           73,
           61,
           4,
           53,
           29,
           84,
           39,
           27,
           36,
           49,
           77,
           41,
           80,
           48,
           35,
           109,
           40,
           1287,
           145,
           11,
           1005,
           30,
           78,
           65,
           20,
           172,
           52,
           118,
           32,
           101,
           27,
           148,
           8,
           84,
           14,
           100,
           12,
           25,
           724,
           19,
           45,
           33,
           72,
           33,
           244,
           58,
           36,
           43,
           13,
           18,
           14,
           27,
           28,
           13,
           39,
           45,
           19,
           19,
           599,
           13,
           23,
           62,
           7,
           14,
           101,
           10,
           47,
           17,
           15,
           15,
           34,
           41,
           59,
           27,
           21,
           75,
           13,
           30,
           44,
           61,
           13,
           60,
           58,
           12,
           13,
           737,
           81,
           160,
           19,
           14,
           381,
           127,
           15,
           24,
           10,
           76,
           359,
           132,
           71,
           23,
           131,
           63,
           36,
           178,
           86,
           60,
           56,
           58,
           686,
           68,
           53,
           70,
           26,
           320,
           14,
           61,
           67,
           13,
           24,
           19,
           125,
           560,
           48,
           366,
           42,
           24,
           87,
           689,
           714,
           46,
           34,
           41,
           71,
           346,
           500,
           63,
           61,
           36,
           218,
           125,
           247,
           41,
           952,
           77,
           26,
           215,
           75,
           95,
           197,
           212,
           46,
           218,
           38,
           120,
           71,
           21,
           380,
           3570,
           16,
           36,
           806,
           172,
           90,
           46,
           45,
           131,
           15,
           154,
           85,
           30,
           222,
           56,
           10,
           246,
           12,
           15,
           336,
           81,
           120,
           68,
           368,
           67,
           82,
           589,
           25,
           126,
           54,
           104,
           99,
           229,
           488,
           15,
           137,
           62,
           78,
           53,
           22,
           37,
           133,
           23,
           7,
           61,
           32,
           61,
           55,
           39,
           24,
           8,
           51,
           43,
           254,
           321,
           21,
           840,
           41,
           256,
           50,
           53,
           2499,
           21,
           123,
           148,
           139,
           47,
           44,
           27,
           26,
           16,
           843,
           43,
           66,
           21,
           59,
           35,
           127,
           81,
           67,
           110,
           43,
           65,
           43,
           148,
           202,
           465,
           92,
           4864,
           33,
           134,
           54,
           51,
           63,
           206,
           122,
           45,
           260,
           21,
           33,
           45,
           89,
           30,
           10,
           59,
           29,
           10,
           28,
           141,
           16,
           809,
           43,
           318,
           103,
           46,
           104,
           99,
           23,
           1419,
           571,
           54,
           78,
           47,
           33,
           52,
           51,
           244,
           130,
           31,
           4192,
           136,
           602,
           92,
           220,
           241,
           44,
           50,
           39,
           77,
           540,
           60,
           25,
           92,
           269,
           82,
           46,
           61,
           94,
           23,
           44,
           336,
           78,
           15,
           142,
           74,
           12,
           100,
           30,
           37,
           63,
           54,
           55,
           42,
           25,
           46,
           1680,
           152,
           44,
           165,
           61,
           74,
           45,
           895,
           228,
           276,
           86,
           80,
           65,
           91,
           609,
           178,
           451,
           40,
           85,
           18,
           81,
           167,
           119,
           55,
           1667,
           1895,
           224,
           111,
           28,
           76,
           65,
           81,
           191,
           10,
           28,
           322,
           246,
           130,
           11,
           76,
           116,
           18,
           15,
           29,
           293,
           208,
           36,
           47,
           139,
           37,
           737,
           51,
           48,
           127,
           49,
           55,
           714,
           73,
           27,
           69,
           13,
           142,
           18,
           16,
           214,
           30,
           46,
           15,
           88,
           123,
           23,
           16,
           24,
           69,
           11,
           114,
           75,
           130,
           91,
           24,
           23,
           44,
           159,
           20,
           138,
           58,
           68,
           30,
           73,
           17,
           122,
           102,
           84,
           17,
           24,
           119,
           352,
           47,
           20,
           103,
           166,
           70,
           54,
           35,
           132,
           29,
           261,
           60,
           35,
           284,
           38,
           15,
           19,
           39,
           230,
           134,
           78,
           6,
           44,
           142,
           52,
           440,
           136,
           162,
           31,
           30,
           342,
           42,
           54,
           147,
           133,
           43,
           47,
           32,
           283,
           7,
           1535,
           46,
           107,
           15,
           83,
           44,
           97,
           107,
           441,
           42,
           42,
           47,
           60,
           142,
           91,
           128,
           60,
           119,
           39,
           325,
           178,
           43,
           183,
           39,
           112,
           140,
           86,
           614,
           63,
           138,
           37,
           24,
           865,
           71,
           111,
           25,
           2367,
           473,
           334,
           46,
           226,
           15,
           30,
           108,
           156,
           39,
           13,
           337,
           7,
           85,
           48,
           43,
           55,
           44,
           46,
           25,
           135,
           96,
           37,
           30,
           131,
           280,
           349,
           154,
           55,
           197,
           44,
           60,
           29,
           80,
           69,
           176,
           266,
           256,
           143,
           69,
           59,
           87,
           120,
           27,
           32,
           62,
           35,
           21,
           16,
           43,
           6,
           40,
           104,
           38,
           21,
           191,
           36,
           89,
           182,
           37,
           110,
           199,
           30,
           36,
           68,
           249,
           20,
           39,
           38,
           60,
           81,
           92,
           15,
           45,
           23,
           67,
           33,
           24,
           48,
           75,
           67,
           30,
           84,
           127,
           26,
           66,
           24,
           135,
           24,
           113,
           16,
           82,
           22,
           176,
           174,
           8,
           89,
           25,
           68,
           55,
           39,
           29,
           501,
           131,
           380,
           88,
           41,
           104,
           242,
           93,
           77,
           197,
           3606,
           23,
           23,
           15,
           85,
           89,
           44,
           128,
           17,
           126,
           308,
           110,
           110,
           949,
           22,
           222,
           84,
           35,
           40,
           175,
           115,
           254,
           45,
           72,
           30,
           356,
           51,
           203,
           40,
           54,
           48,
           48,
           58,
           220,
           1394,
           94,
           45,
           25,
           26,
           33,
           121,
           50,
           20,
           5,
           19,
           218,
           387,
           52,
           31,
           29,
           84,
           148,
           82,
           485,
           44,
           161,
           2527,
           35,
           27,
           59,
           22,
           49,
           52,
           66,
           183,
           47,
           113,
           129,
           19,
           3739,
           68,
           253,
           167,
           69,
           13,
           96,
           39,
           51,
           86,
           20,
           312,
           77,
           82,
           34,
           126,
           262,
           25,
           117,
           13,
           43,
           31,
           135,
           74,
           27,
           72,
           12,
           19,
           142,
           75,
           24,
           24,
           71,
           22,
           220,
           83,
           1714,
           15,
           40,
           36,
           41,
           161,
           138,
           116,
           22,
           24,
           53,
           462,
           45,
           379,
           23,
           13,
           20,
           198,
           208,
           39,
           92,
           60,
           26,
           53,
           9,
           150,
           191,
           4624,
           38,
           12,
           90,
           28,
           1416,
           24,
           11,
           127,
           62,
           142,
           72,
           20,
           48,
           57,
           271,
           118,
           6,
           46,
           167,
           26,
           178,
           19,
           62,
           36,
           52,
           19,
           111,
           30,
           73,
           51,
           160,
           118,
           347,
           25,
           84,
           205,
           87,
           50,
           71,
           191,
           18,
           52,
           40,
           18,
           13,
           89,
           65,
           75,
           156,
           62,
           264,
           68,
           32,
           97,
           79,
           31,
           170,
           26,
           41,
           84,
           60,
           140,
           31,
           190,
           42,
           44,
           77,
           170,
           36,
           39,
           59,
           107,
           110,
           989,
           216,
           78,
           39,
           63,
           17,
           66,
           59,
           222,
           80,
           58,
           314,
           43,
           48,
           1754,
           39,
           714,
           66,
           24,
           95,
           178,
           50,
           5,
           45,
           76,
           58,
           19,
           108,
           46,
           32,
           75,
           52,
           31,
           58,
           80,
           88,
           24,
           24,
           18,
           136,
           64,
           32,
           78,
           551,
           116,
           241,
           42,
           49,
           44,
           107,
           134,
           66,
           15,
           28,
           14,
           24,
           31,
           37,
           29,
           809,
           94,
           136,
           47,
           26,
           82,
           20,
           113,
           46,
           244,
           3421,
           142,
           13,
           40,
           254,
           105,
           29,
           363,
           47,
           176,
           347,
           109,
           270,
           261,
           53,
           51,
           70,
           74,
           100,
           20,
           10,
           24,
           15,
           133,
           46,
           8,
           49,
           55,
           93,
           1286,
           12,
           30,
           106,
           16,
           53,
           86,
           27,
           29,
           184,
           73,
           171,
           94,
           30,
           162,
           161,
           60,
           78,
           48,
           28,
           16,
           15,
           758,
           32,
           191,
           8,
           1603,
           30,
           87,
           32,
           173,
           91,
           828,
           20,
           31,
           56,
           55,
           339,
           27,
           16,
           64,
           48,
           10,
           50,
           18,
           223,
           12,
           30,
           222,
           43,
           37,
           22,
           571,
           35,
           40,
           95,
           107,
           155,
           189,
           163,
           136,
           33,
           153,
           40,
           23,
           23,
           31,
           67,
           569,
           353,
           84,
           87,
           362,
           47,
           210,
           171,
           30,
           35,
           53,
           48,
           138,
           84,
           156,
           143,
           101,
           117,
           7,
           39,
           115,
           1349,
           21,
           743,
           88,
           160,
           41,
           55,
           691,
           129,
           221,
           112,
           31,
           44,
           20,
           1122,
           78,
           11,
           24,
           50,
           50,
           14,
           86,
           83,
           168,
           91,
           24,
           12,
           19,
           139,
           24,
           72,
           26,
           91,
           342,
           160,
           900,
           226,
           130,
           164,
           66,
           21,
           184,
           27,
           28,
           12,
           23,
           18,
           37,
           262,
           343,
           134,
           97,
           975,
           22,
           7,
           43,
           54,
           36,
           18,
           51,
           20,
           71,
           121,
           69,
           136,
           24,
           96,
           104,
           78,
           58,
           256,
           1888,
           210,
           126,
           178,
           38,
           70,
           81,
           154,
           65,
           8,
           69,
           67,
           1250,
           143,
           126,
           17,
           67,
           37,
           54,
           309,
           39,
           14,
           70,
           176,
           55,
           33,
           29,
           89,
           95,
           343,
           11,
           23,
           134,
           30,
           232,
           42,
           483,
           25,
           45,
           24,
           19,
           75,
           213,
           55,
           122,
           174,
           13,
           153,
           30,
           52,
           12,
           116,
           16,
           46,
           19,
           49,
           85,
           417,
           105,
           71,
           121,
           87,
           31,
           1256,
           73,
           106,
           39,
           29,
           54,
           256,
           513,
           31,
           55,
           120,
           28,
           15,
           15,
           32,
           143,
           136,
           124,
           67,
           25,
           14,
           51,
           23,
           809,
           290,
           31,
           205,
           192,
           23,
           110,
           205,
           166,
           36,
           131,
           13,
           743,
           88,
           97,
           576,
           220,
           24,
           6,
           28,
           10,
           213,
           28,
           31,
           164,
           70,
           47,
           85,
           134,
           68,
           3811,
           1789,
           19,
           242,
           39,
           54,
           331,
           276,
           36,
           15,
           51,
           67,
           13,
           22,
           19,
           24,
           100,
           8,
           35,
           53,
           18,
           29,
           279,
           95,
           71,
           10,
           64,
           22,
           442,
           52,
           125,
           31,
           57,
           50,
           26,
           10,
           12,
           91,
           27,
           24,
           52,
           22,
           33,
           68,
           24,
           34,
           126,
           195,
           38,
           47,
           263,
           87,
           27,
           47,
           24,
           48,
           13,
           40,
           7,
           18,
           25,
           53,
           22,
           27,
           30,
           52,
           53,
           114,
           172,
           29,
           11,
           45,
           10,
           14,
           13,
           285,
           93,
           297,
           53,
           34,
           9,
           184,
           47,
           158,
           11,
           1680,
           93,
           13,
           50,
           88,
           154,
           12,
           32,
           130,
           163,
           30,
           135,
           48,
           891,
           113,
           119,
           30,
           160,
           51,
           462,
           32,
           81,
           120,
           54,
           131,
           12,
           210,
           106,
           81,
           105,
           146,
           42,
           86,
           57,
           33,
           27,
           24,
           86,
           61,
           45,
           50,
           85,
           241,
           80,
           51,
           50,
           122,
           22,
           37,
           40,
           121,
           284,
           267,
           806,
           89,
           37,
           74,
           146,
           54,
           18,
           44,
           40,
           76,
           54,
           36,
           48,
           973
          ],
          "sizemode": "area",
          "sizeref": 14.4,
          "symbol": "circle"
         },
         "mode": "markers",
         "name": "Australia",
         "showlegend": true,
         "type": "scattergl",
         "x": [
          0,
          0,
          0,
          0,
          0,
          0,
          0,
          0,
          0,
          0,
          0,
          0,
          0,
          0,
          0,
          0,
          0,
          0,
          0,
          0,
          0,
          0,
          0,
          0,
          0,
          0,
          0,
          0,
          0,
          0,
          0,
          0,
          0,
          0,
          0,
          0,
          0,
          0,
          0,
          0,
          0,
          0,
          0,
          0,
          0,
          0,
          0,
          0,
          0,
          0,
          0,
          0,
          0,
          0,
          0,
          0,
          0,
          0,
          0,
          0,
          0,
          0,
          0,
          0,
          0,
          0,
          0,
          0,
          0,
          0,
          0,
          0,
          0,
          0,
          0,
          0,
          0,
          0,
          0,
          0,
          0,
          0,
          0,
          0,
          0,
          0,
          0,
          0,
          0,
          0,
          0,
          0,
          0,
          0,
          0,
          0.4,
          0.4,
          0.4,
          0.4,
          0.4,
          0.4,
          0.4,
          0.4,
          0.4,
          0.4,
          0.4,
          0.4,
          0.4,
          0.4,
          0.4,
          0.4,
          0.4,
          0.4,
          0.4,
          0.4,
          0.4,
          0.4,
          0.4,
          0.4,
          0.4,
          0.4,
          0.4,
          0.4,
          0.4,
          0.4,
          0.4,
          0.4,
          0.4,
          0.4,
          0.4,
          0.4,
          0.4,
          0.4,
          0.4,
          0.4,
          0.4,
          0.4,
          0.4,
          0.4,
          0.4,
          0.4,
          0.4,
          0.4,
          0.4,
          0.4,
          0.4,
          0.4,
          0.4,
          0.4,
          0.4,
          0.4,
          0.4,
          0.4,
          0.4,
          0.4,
          0.4,
          0.4,
          0.4,
          0.4,
          0.4,
          0.4,
          0.4,
          0.4,
          0.4,
          0.4,
          0.4,
          0.4,
          0.4,
          0.4,
          0.4,
          0.4,
          0.4,
          0.4,
          0.4,
          0.4,
          0.4,
          0.4,
          0.4,
          0.4,
          0.4,
          0.4,
          0.4,
          0.4,
          0.4,
          0.4,
          0.4,
          0.4,
          0.4,
          0.4,
          0.4,
          0.4,
          0.4,
          0.4,
          0.4,
          0.4,
          0.4,
          0.4,
          0.4,
          0.4,
          0.4,
          0.4,
          0.4,
          0.4,
          0.4,
          0.4,
          0.4,
          0.4,
          0.4,
          0.4,
          0.4,
          0.4,
          0.4,
          0.4,
          0.4,
          0.4,
          0.4,
          0.4,
          0.4,
          0.4,
          0.4,
          0.4,
          0.4,
          0.4,
          0.4,
          0.4,
          0.4,
          0.4,
          0.4,
          0.4,
          0.4,
          0.4,
          0.4,
          0.4,
          0.4,
          0.4,
          0.4,
          0.4,
          0.4,
          0.4,
          0.4,
          0.4,
          0.4,
          0.4,
          0.4,
          0.4,
          0.4,
          0.4,
          0.4,
          0.4,
          0.4,
          0.4,
          0.4,
          0.4,
          0.4,
          0.4,
          0.4,
          0.4,
          0.4,
          0.4,
          0.4,
          0.4,
          0.4,
          0.4,
          0.4,
          0.4,
          0.4,
          0.4,
          0.4,
          0.4,
          0.4,
          0.4,
          0.4,
          0.4,
          0.4,
          0.4,
          0.4,
          0.4,
          0.4,
          0.4,
          0.4,
          0.4,
          0.4,
          0.4,
          0.4,
          0.4,
          0.4,
          0.4,
          0.4,
          0.4,
          0.4,
          0.4,
          0.4,
          0.4,
          0.4,
          0.4,
          0.4,
          0.4,
          0.4,
          0.4,
          0.4,
          0.4,
          0.4,
          0.4,
          0.4,
          0.4,
          0.4,
          0.4,
          0.4,
          0.4,
          0.4,
          0.4,
          0.4,
          0.4,
          0.4,
          0.4,
          0.4,
          0.4,
          0.4,
          0.4,
          0.4,
          0.4,
          0.4,
          0.4,
          0.4,
          0.4,
          0.4,
          0.4,
          0.4,
          0.4,
          0.4,
          0.4,
          0.4,
          0.4,
          0.4,
          0.4,
          0.4,
          0.4,
          0.4,
          0.4,
          0.4,
          0.4,
          0.4,
          0.4,
          0.4,
          0.4,
          0.4,
          0.4,
          0.4,
          0.4,
          0.4,
          0.4,
          0.4,
          0.4,
          0.4,
          0.4,
          0.1,
          0.1,
          0.1,
          0.1,
          0.1,
          0.1,
          0.1,
          0.1,
          0.1,
          0.1,
          0.1,
          0.1,
          0.1,
          0.1,
          0.1,
          0.1,
          0.1,
          0.1,
          0.1,
          0.1,
          0.1,
          0.1,
          0.1,
          0.1,
          0.1,
          0.1,
          0.1,
          0.1,
          0.1,
          0.1,
          0.1,
          0.1,
          0.1,
          0.1,
          0.1,
          0.1,
          0.1,
          0.1,
          0.1,
          0.1,
          0.1,
          0.1,
          0.1,
          0.1,
          0.1,
          0.1,
          0.1,
          0.1,
          0.1,
          0.1,
          0.1,
          0.1,
          0.1,
          0.1,
          0.1,
          0.1,
          0.1,
          0.1,
          0.1,
          0.1,
          0.1,
          0.1,
          0.1,
          0.1,
          0.1,
          0.1,
          0.1,
          0.1,
          0.1,
          0.1,
          0.1,
          0.1,
          0.1,
          0.1,
          0.1,
          0.1,
          0.1,
          0.1,
          0.1,
          0.1,
          0.1,
          0.1,
          0.1,
          0.1,
          0.1,
          0.1,
          0.1,
          0.1,
          0.1,
          0.1,
          0.1,
          0.1,
          0.1,
          0.1,
          0.1,
          0.1,
          0.1,
          0.1,
          0.1,
          0.1,
          0.1,
          0.1,
          0.1,
          0.1,
          0.1,
          0.1,
          0.1,
          0.1,
          0.1,
          0.1,
          0.1,
          0.1,
          0.1,
          0.1,
          0.1,
          0.1,
          0.1,
          0.1,
          0.1,
          0.1,
          0.1,
          0.1,
          0.1,
          0.1,
          0.1,
          0.1,
          0.1,
          0.1,
          0.1,
          0.1,
          0.1,
          0.1,
          0.1,
          0.1,
          0.1,
          0.1,
          0.1,
          0.1,
          0.1,
          0.1,
          0.1,
          0.1,
          0.1,
          0.1,
          0.1,
          0.1,
          0.1,
          0.1,
          0.1,
          0.1,
          0.1,
          0.1,
          0.1,
          0.1,
          0.1,
          0.1,
          0.1,
          0.1,
          0.1,
          0.1,
          0.1,
          0.1,
          0.1,
          0.1,
          0.1,
          0.1,
          0.1,
          0.1,
          0.1,
          0.1,
          0.1,
          0.1,
          0.1,
          0.1,
          0.1,
          0.1,
          0.1,
          0.1,
          0.1,
          0.1,
          0.1,
          0.1,
          0.1,
          0.1,
          0.1,
          0.1,
          0.1,
          0.1,
          0.1,
          0.1,
          0.1,
          0.1,
          0.1,
          0.1,
          0.1,
          0.1,
          0.1,
          0.1,
          0.1,
          0.1,
          0.1,
          0.1,
          0.1,
          0.1,
          0.1,
          0.1,
          0.1,
          0.1,
          0.1,
          0.1,
          0.1,
          0.1,
          0.1,
          0.1,
          0.1,
          0.1,
          0.1,
          0.1,
          0.1,
          0.1,
          0.1,
          0.1,
          0.1,
          0.1,
          0.1,
          0.1,
          0.1,
          0.1,
          0.1,
          0.1,
          0.1,
          0.1,
          0.1,
          0.1,
          0.1,
          0.1,
          0.1,
          0.1,
          0.1,
          0.1,
          0.1,
          0.1,
          0.1,
          0.1,
          0.1,
          0.1,
          0.1,
          0.1,
          0.1,
          0.1,
          0.1,
          0.1,
          0.1,
          0.1,
          0.1,
          0.1,
          0.1,
          0.1,
          0.1,
          0.1,
          0.1,
          0.1,
          0.1,
          0.1,
          0.1,
          0.1,
          0.1,
          0.1,
          0.1,
          0.1,
          0.1,
          0.1,
          0.1,
          0.1,
          0.1,
          0.1,
          0.1,
          0.1,
          0.1,
          0.1,
          0.1,
          0.1,
          0.1,
          0.1,
          0.1,
          0.1,
          0.1,
          0.1,
          0.1,
          0.1,
          0.1,
          0.1,
          0.1,
          0.1,
          0.1,
          0.1,
          0.1,
          0.1,
          0.1,
          0.1,
          0.1,
          0.1,
          0.1,
          0.1,
          0.1,
          0.1,
          0.1,
          0.1,
          0.1,
          0.1,
          0.1,
          0.1,
          0.1,
          0.1,
          0.1,
          0.1,
          0.1,
          0.1,
          0.1,
          0.1,
          0.1,
          0.1,
          0.1,
          0.1,
          0.1,
          0.1,
          0.1,
          0.1,
          0.1,
          0.1,
          0.1,
          0.1,
          0.1,
          0.1,
          0.1,
          0.1,
          0.1,
          0.1,
          0.1,
          0.1,
          0.1,
          0.1,
          0.1,
          0.1,
          0.1,
          0.1,
          0.1,
          0.1,
          0.1,
          0.1,
          0.1,
          0.1,
          0.1,
          0.1,
          0.1,
          0.1,
          0.1,
          0.1,
          0.1,
          0.1,
          0.1,
          0.1,
          0.1,
          0.1,
          0.1,
          0.1,
          0.1,
          0.1,
          0.1,
          0.1,
          0.1,
          0.1,
          0.1,
          0.1,
          0.1,
          0.1,
          0.1,
          0.1,
          0.1,
          0.1,
          0.1,
          0.1,
          0.1,
          0.1,
          0.1,
          0.1,
          0.1,
          0.1,
          0.1,
          0.1,
          0.1,
          0.1,
          0.1,
          0.1,
          0.1,
          0.1,
          0.1,
          0.1,
          0.1,
          0.1,
          0.1,
          0.1,
          0.1,
          0.1,
          0.1,
          0.1,
          0.1,
          0.1,
          0.1,
          0.1,
          0.1,
          0.1,
          0.1,
          0.1,
          0.1,
          0.1,
          0.1,
          0.1,
          0.1,
          0.1,
          0.1,
          0.1,
          0.1,
          0.1,
          0.1,
          0.1,
          0.1,
          0.1,
          0.1,
          0.1,
          0.1,
          0.1,
          0.1,
          0.1,
          0.1,
          0.1,
          0.1,
          0.1,
          0.1,
          0.1,
          0.1,
          0.1,
          0.1,
          0.1,
          0.1,
          0.1,
          0.1,
          0.1,
          0.1,
          0.1,
          0.1,
          0.1,
          0.1,
          0.1,
          0.1,
          0.1,
          0.1,
          0.1,
          0.1,
          0.1,
          0.1,
          0.1,
          0.1,
          0.1,
          0.1,
          0.1,
          0.1,
          0.1,
          0.1,
          0.1,
          0.1,
          0.1,
          0.1,
          0.1,
          0.1,
          0.1,
          0.1,
          0.1,
          0.1,
          0.1,
          0.1,
          0.1,
          0.1,
          0.1,
          0.1,
          0.1,
          0.1,
          0.1,
          0.1,
          0.1,
          0.1,
          0.1,
          0.1,
          0.1,
          0.1,
          0.1,
          0.1,
          0.1,
          0.1,
          0.1,
          0.1,
          0.1,
          0.1,
          0.1,
          0.1,
          0.1,
          0.1,
          0.1,
          0.1,
          0.1,
          0.1,
          0.1,
          0.1,
          0.1,
          0.1,
          0.1,
          0.1,
          0.1,
          0.1,
          0.1,
          0.1,
          0.1,
          0.1,
          0.1,
          0.1,
          0.1,
          0.1,
          0.1,
          0.1,
          0.1,
          0.1,
          0.1,
          0.1,
          0.1,
          0.1,
          0.1,
          0.1,
          0.1,
          0.1,
          0.1,
          0.1,
          0.1,
          0.1,
          0.1,
          0.1,
          0.1,
          0.1,
          0.1,
          0.1,
          0.1,
          0.1,
          0.1,
          0.1,
          0.1,
          0.1,
          0.1,
          0.1,
          0.1,
          0.1,
          0.1,
          0.1,
          0.1,
          0.1,
          0.1,
          0.1,
          0.1,
          0.1,
          0.1,
          0.1,
          0.1,
          0.1,
          0.1,
          0.1,
          0.1,
          0.1,
          0.1,
          0.1,
          0.1,
          0.1,
          0.1,
          0.1,
          0.1,
          0.1,
          0.1,
          0.1,
          0.1,
          0.1,
          0.1,
          0.1,
          0.1,
          0.1,
          0.1,
          0.1,
          0.1,
          0.1,
          0.1,
          0.1,
          0.1,
          0.1,
          0.1,
          0.1,
          0.1,
          0.1,
          0.1,
          0.1,
          0.1,
          0.1,
          0.1,
          0.1,
          0.1,
          0.1,
          0.1,
          0.1,
          0.1,
          0.1,
          0.1,
          0.1,
          0.1,
          0.1,
          0.1,
          0.1,
          0.1,
          0.1,
          0.1,
          0.1,
          0.1,
          0.1,
          0.1,
          0.1,
          0.1,
          0.1,
          0.1,
          0.1,
          0.1,
          0.1,
          0.1,
          0.1,
          0.1,
          0.1,
          0.1,
          0.1,
          0.1,
          0.1,
          0.1,
          0.1,
          0.1,
          0.1,
          0.1,
          0.1,
          0.1,
          0.1,
          0.1,
          0.1,
          0.1,
          0.1,
          0.1,
          0.1,
          0.1,
          0.1,
          0.1,
          0.1,
          0.1,
          0.1,
          0.1,
          0.1,
          0.1,
          0.1,
          0.1,
          0.1,
          0.1,
          0.1,
          0.1,
          0.1,
          0.1,
          0.1,
          0.1,
          0.1,
          0.1,
          0.1,
          0.1,
          0.1,
          0.1,
          0.1,
          0.1,
          0.1,
          0.1,
          0.1,
          0.1,
          0.1,
          0.1,
          0.1,
          0.1,
          0.1,
          0.1,
          0.1,
          0.1,
          0.1,
          0.1,
          0.1,
          0.1,
          0.1,
          0.1,
          0.1,
          0.1,
          0.1,
          0.1,
          0.1,
          0.1,
          0.1,
          0.1,
          0.1,
          0.1,
          0.1,
          0.1,
          0.1,
          0.1,
          0.1,
          0.1,
          0.1,
          0.1,
          0.1,
          0.1,
          0.1,
          0.1,
          0.1,
          0.1,
          0.1,
          0.1,
          0.1,
          0.1,
          0.1,
          0.1,
          0.1,
          0.1,
          0.1,
          0.1,
          0.1,
          0.1,
          0.1,
          0.1,
          0.1,
          0.1,
          0.1,
          0.1,
          0.1,
          0.1,
          0.1,
          0.1,
          0.1,
          0.1,
          0.1,
          0.1,
          0.1,
          0.1,
          0.1,
          0.1,
          0.1,
          0.1,
          0.1,
          0.1,
          0.1,
          0.1,
          0.1,
          0.1,
          0.1,
          0.1,
          0.1,
          0.1,
          0.1,
          0.1,
          0.1,
          0.1,
          0.1,
          0.1,
          0.1,
          0.1,
          0.1,
          0.1,
          0.1,
          0.1,
          0.1,
          0.1,
          0.1,
          0.1,
          0.1,
          0.1,
          0.1,
          0.1,
          0.1,
          0.1,
          0.1,
          0.1,
          0.1,
          0.1,
          0.1,
          0.1,
          0.1,
          0.1,
          0.1,
          0.1,
          0.1,
          0.1,
          0.1,
          0.1,
          0.1,
          0.1,
          0.1,
          0.1,
          0.1,
          0.1,
          0.1,
          0.1,
          0.1,
          0.1,
          0.1,
          0.1,
          0.1,
          0.1,
          0.1,
          0.1,
          0.1,
          0.1,
          0.1,
          0.1,
          0.1,
          0.1,
          0.1,
          0.1,
          0.1,
          0.1,
          0.1,
          0.1,
          0.1,
          0.1,
          0.1,
          0.1,
          0.1,
          0.1,
          0.1,
          0.1,
          0.1,
          0.1,
          0.1,
          0.1,
          0.1,
          0.1,
          0.1,
          0.1,
          0.1,
          0.1,
          0.1,
          0.1,
          0.1,
          0.1,
          0.1,
          0.1,
          0.1,
          0.1,
          0.1,
          0.1,
          0.1,
          0.1,
          0.1,
          0.1,
          0.1,
          0.1,
          0.1,
          0.1,
          0.1,
          0.1,
          0.1,
          0.1,
          0.1,
          0.1,
          0.1,
          0.1,
          0.1,
          0.1,
          0.1,
          0.1,
          0.1,
          0.1,
          0.1,
          0.1,
          0.1,
          0.1,
          0.1,
          0.1,
          0.1,
          0.1,
          0.1,
          0.1,
          0.1,
          0.1,
          0.1,
          0.1,
          0.1,
          0.1,
          0.1,
          0.1,
          0.1,
          0.1,
          0.1,
          0.1,
          0.1,
          0.1,
          0.1,
          0.1,
          0.1,
          0.1,
          0.1,
          0.1,
          0.1,
          0.1,
          0.1,
          0.1,
          0.1,
          0.1,
          0.1,
          0.1,
          0.1,
          0.1,
          0.1,
          0.1,
          0.1,
          0.1,
          0.1,
          0.1,
          0.1,
          0.1,
          0.1,
          0.1,
          0.1,
          0.1,
          0.1,
          0.1,
          0.1,
          0.1,
          0.1,
          0.1,
          0.1,
          0.1,
          0.1,
          0.1,
          0.1,
          0.1,
          0.1,
          0.1,
          0.1,
          0.1,
          0.1,
          0.1,
          0.1,
          0.1,
          0.1,
          0.1,
          0.1,
          0.1,
          0.1,
          0.1,
          0.1,
          0.1,
          0.1,
          0.1,
          0.1,
          0.1,
          0.1,
          0.1,
          0.1,
          0.1,
          0.1,
          0.1,
          0.1,
          0.1,
          0.1,
          0.1,
          0.1,
          0.1,
          0.1,
          0.1,
          0.1,
          0.1,
          0.1,
          0.1,
          0.1,
          0.1,
          0.1,
          0.1,
          0.1,
          0.1,
          0.1,
          0.1,
          0.1,
          0.1,
          0.1,
          0.1,
          0.1,
          0.1,
          0.1,
          0.1,
          0.1,
          0.1,
          0.1,
          0.1,
          0.1,
          0.1,
          0.1,
          0.1,
          0.1,
          0.1,
          0.1,
          0.1,
          0.1,
          0.1,
          0.1,
          0.1,
          0.1,
          0.1,
          0.1,
          0.1,
          0.1,
          0.1,
          0.1,
          0.1,
          0.1,
          0.1,
          0.1,
          0.1,
          0.1,
          0.1,
          0.1,
          0.1,
          0.1,
          0.1,
          0.1,
          0.1,
          0.1,
          0.1,
          0.1,
          0.1,
          0.1,
          0.1,
          0.1,
          0.1,
          0.1,
          0.1,
          0.1,
          0.1,
          0.1,
          0.1,
          0.1,
          0.1,
          0.1,
          0.1,
          0.1,
          0.1,
          0.1,
          0.1,
          0.1,
          0.1,
          0.1,
          0.1,
          0.1,
          0.1,
          0.1,
          0.1,
          0.1,
          0.1,
          0.1,
          0.1,
          0.1,
          0.1,
          0.1,
          0.1,
          0.1,
          0.1,
          0.1,
          0.1,
          0.1,
          0.1,
          0.1,
          0.1,
          0.1,
          0.1,
          0.1,
          0.1,
          0.1,
          0.1,
          0.1,
          0.1,
          0.1,
          0.1,
          0.1,
          0.1,
          0.1,
          0.1,
          0.1,
          0.1,
          0.1,
          0.1,
          0.1,
          0.1,
          0.1,
          0.1,
          0.1,
          0.1,
          0.1,
          0.1,
          0.1,
          0.1,
          0.1,
          0.1,
          0.1,
          0.1,
          0.1,
          0.1,
          0.1,
          0.1,
          0.1,
          0.1,
          0.1,
          0.1,
          0.1,
          0.1,
          0.1,
          0.1,
          0.1,
          0.1,
          0.1,
          0.1,
          0.1,
          0.1,
          0.1,
          0.1,
          0.1,
          0.1,
          0.1,
          0.1,
          0.1,
          0.1,
          0.1,
          0.1,
          0.1,
          0.1,
          0.1,
          0.1,
          0.1,
          0.1,
          0.1,
          0.1,
          0.1,
          0.1,
          0.1,
          0.1,
          0.1,
          0.1,
          0.1,
          0.1,
          0.1,
          0.1,
          0.1,
          0.1,
          0.1,
          0.1,
          0.1,
          0.1,
          0.1,
          0.1,
          0.1,
          0.1,
          0.1,
          0.1,
          0.1,
          0.1,
          0.1,
          0.1,
          0.1,
          0.1,
          0.1,
          0.1,
          0.1,
          0.1,
          0.1,
          0.1,
          0.1,
          0.1,
          0.1,
          0.1,
          0.1,
          0.1,
          0.1,
          0.1,
          0.1,
          0.1,
          0.1,
          0.1,
          0.1,
          0.1,
          0.1,
          0.1,
          0.1,
          0.1,
          0.1,
          0.1,
          0.1,
          0.1,
          0.1,
          0.1,
          0.1,
          0.1,
          0.1,
          0.1,
          0.1,
          0.1,
          0.1,
          0.1,
          0.1,
          0.1,
          0.1,
          0.1,
          0.1,
          0.1,
          0.1,
          0.1,
          0.1,
          0.1,
          0.1,
          0.1,
          0.1,
          0.1,
          0.1,
          0.1,
          0.1,
          0.1,
          0.1,
          0.1,
          0.1,
          0.1,
          0.1,
          0.1,
          0.1,
          0.1,
          0.1,
          0.1,
          0.1,
          0.1,
          0.1,
          0.1,
          0.1,
          0.1,
          0.1,
          0.1,
          0.1
         ],
         "xaxis": "x",
         "y": [
          5.88,
          2.28,
          114.66,
          2.1,
          4.44,
          5.22,
          28.68,
          5.28,
          6.96,
          21.72,
          50.4,
          7.74,
          102.96,
          8.46,
          7.56,
          6,
          8.64,
          32.1,
          2.7,
          12.96,
          5.7,
          83.7,
          15,
          16.62,
          31.8,
          22.68,
          16.32,
          14.94,
          20.88,
          3.03,
          26.1,
          23.04,
          96,
          108.24,
          137.34,
          12.78,
          10.44,
          135.3,
          13.2,
          0.69,
          2.37,
          0.48,
          2.28,
          16.68,
          0.9,
          1.8,
          16.17,
          64.32,
          21.96,
          4.44,
          8.64,
          26.52,
          178.8,
          1.62,
          21.78,
          5.04,
          0.24,
          2.52,
          25.32,
          10.56,
          17.46,
          3.54,
          137.34,
          19.8,
          14.4,
          0,
          46.8,
          7.8,
          8.88,
          1.2,
          8.22,
          8.28,
          892.2,
          7.62,
          18.84,
          1.92,
          8.94,
          6.3,
          11.52,
          10.86,
          14.04,
          4.68,
          26.76,
          55.8,
          0.45,
          7.92,
          50.76,
          48.6,
          7.62,
          10.02,
          666.48,
          22.92,
          17.52,
          17.88,
          6.72,
          -9.288,
          -7.632,
          62.184,
          6.51,
          7.728,
          -6.264,
          -9.144,
          -232.776,
          -9.564,
          -10.35,
          -69.09,
          -7.974,
          1.458,
          -21.516,
          -10.128,
          1.056,
          -12.648,
          -4.356,
          -3.996,
          -512.712,
          -3.228,
          0.954,
          -15.264,
          -59.304,
          -28.98,
          -1.488,
          -8.544,
          -10.032,
          1.368,
          0.324,
          -7.608,
          -1.386,
          95.004,
          -8.064,
          -24.516,
          -3.864,
          -6.36,
          -35.136,
          -173.292,
          -4.128,
          10.944,
          3.024,
          -11.388,
          1.2,
          -2.292,
          -16.776,
          -413.76,
          0.828,
          0.864,
          4.008,
          -147.12,
          -5.886,
          -4.338,
          -18,
          -27.096,
          -45.144,
          -4.884,
          -0.048,
          -18.816,
          -32.448,
          1.398,
          -30.024,
          -10.206,
          -4.464,
          -2.694,
          -7.68,
          -4.932,
          5.352,
          1.044,
          43.32,
          4.248,
          -0.972,
          1.392,
          -38.22,
          -26.808,
          -27.342,
          -0.828,
          7.17,
          -13.608,
          -4.464,
          -13.296,
          -1.374,
          11.016,
          -409.44,
          -22.266,
          -6.144,
          -6.408,
          1.068,
          -12.492,
          -56.16,
          -51.78,
          -4.2,
          -11.91,
          1.932,
          -41.958,
          1.068,
          -7.14,
          -3.348,
          -0.648,
          -14.352,
          -3.312,
          3.672,
          0.318,
          4.152,
          -26.232,
          -0.072,
          -44.424,
          -15.984,
          -7.932,
          -6.696,
          -8.676,
          0.24,
          3.276,
          -2.184,
          -10.68,
          -9.912,
          -108.15,
          17.172,
          -6.024,
          20.4,
          -8.376,
          -32.022,
          -290.97,
          -17.388,
          -27.57,
          -3.06,
          -24.426,
          -23.544,
          -14.454,
          -2.442,
          -4.86,
          -8.37,
          -5.28,
          3.204,
          -7.14,
          -23.4,
          5.736,
          -32.37,
          -11.736,
          -129.024,
          -4.644,
          -40.512,
          3.42,
          5.316,
          -23.832,
          -1.038,
          -14.328,
          -15.516,
          -57.81,
          -3.996,
          1.572,
          0.24,
          -9.42,
          -245.16,
          -2.43,
          -221.112,
          -8.676,
          9.9,
          -2.748,
          -3.216,
          -294.816,
          -23.544,
          1.338,
          -19.08,
          0.6,
          -14.076,
          0.216,
          1.044,
          -33.876,
          -3.912,
          -10.008,
          22.41,
          -6.066,
          0,
          -27.18,
          4.824,
          -25.632,
          -0.3,
          -15.024,
          0.432,
          -11.328,
          -13.248,
          -17.88,
          -5.52,
          -6.624,
          -20.52,
          -26.904,
          13.146,
          1.602,
          -10.71,
          7.236,
          -8.784,
          -536.448,
          -60.384,
          -5.994,
          83.736,
          -18.108,
          -22.176,
          -6.48,
          -1.386,
          -71.748,
          -20.988,
          -37.536,
          -7.038,
          -33.744,
          -12.264,
          -73.92,
          0.504,
          -40.734,
          -0.708,
          -51.72,
          0.57,
          -7.65,
          -84.576,
          -1.26,
          -4.584,
          2.16,
          -42.18,
          -17.388,
          -89.376,
          6.744,
          2.34,
          -11.556,
          -3.42,
          2.7,
          1.536,
          -17.688,
          2.784,
          -8.676,
          -11.088,
          3.72,
          -11.556,
          -2.568,
          -319.728,
          -4.14,
          -7.632,
          -1.056,
          -2.748,
          -4.728,
          -18.612,
          0.972,
          -29.976,
          -10.128,
          0.732,
          -3.996,
          -0.564,
          -15.72,
          -24.48,
          -6.264,
          -12.948,
          4.932,
          -4.884,
          -4.572,
          -0.048,
          -5.088,
          -4.248,
          -7.968,
          -1.932,
          -4.464,
          -4.416,
          261.819,
          15.165,
          60.48,
          3.24,
          3.978,
          -4.275,
          19.8,
          2.457,
          -0.834,
          1.68,
          15.96,
          -4.08,
          58.665,
          2.352,
          4.626,
          -10.278,
          22.38,
          9.648,
          7.848,
          37.236,
          11.898,
          16.29,
          19.836,
          129.384,
          15.825,
          9.891,
          20.115,
          4.242,
          56.73,
          0.606,
          8.136,
          8.892,
          -1.164,
          8.904,
          -1.746,
          -5.58,
          24.846,
          4.032,
          48.708,
          -4.617,
          8.892,
          -9.69,
          -53.886,
          277.74,
          15.405,
          2.25,
          9.495,
          11.772,
          118.755,
          83.322,
          5.565,
          26.478,
          14.508,
          86.955,
          27.765,
          109.872,
          13.554,
          -53.01,
          7.587,
          -0.588,
          16.485,
          -3.345,
          2.004,
          6.444,
          37.65,
          11.676,
          72.72,
          12.537,
          -4.02,
          15.675,
          8.454,
          113.859,
          674.163,
          0.33,
          8.244,
          -62.853,
          53.079,
          2.943,
          11.676,
          -4.59,
          53.694,
          1.98,
          63.117,
          -3.93,
          8.631,
          -0.105,
          7.509,
          3.66,
          87.273,
          2.637,
          3.819,
          59.4,
          4.464,
          -1.344,
          4.5,
          126.756,
          10.41,
          22.59,
          71.838,
          1.368,
          20.943,
          2.976,
          3.426,
          -11.055,
          -25.44,
          59.583,
          4.062,
          4.548,
          -6.276,
          12.096,
          8.232,
          9.348,
          2.016,
          58.947,
          6.9,
          0.843,
          16.248,
          -2.916,
          7.404,
          22.758,
          -0.12,
          2.142,
          1.758,
          13.518,
          -1.92,
          8.37,
          -35.616,
          8.454,
          37.269,
          -4.2,
          105.195,
          4.422,
          18.36,
          499.446,
          5.184,
          1.335,
          4.833,
          44.694,
          18.645,
          11.088,
          -2.691,
          6.708,
          2.091,
          -56.322,
          1.422,
          29.172,
          8.454,
          15.624,
          3.48,
          14.004,
          4.464,
          26.13,
          -7.326,
          9.945,
          15.804,
          12.276,
          65.637,
          89.775,
          98.118,
          -2.07,
          162.12,
          2.898,
          32.787,
          -2.412,
          20.889,
          4.182,
          82.188,
          17.628,
          14.913,
          8.565,
          4.83,
          7.002,
          17.634,
          3.924,
          12.105,
          3.894,
          8.541,
          -1.629,
          4.533,
          3.723,
          23.436,
          7.296,
          161.7,
          18.618,
          56.406,
          43.605,
          14.82,
          20.772,
          24.084,
          2.97,
          110.313,
          25.038,
          16.776,
          -3.534,
          19.752,
          2.898,
          -5.265,
          5.643,
          13.392,
          56.43,
          13.599,
          1164.267,
          37.845,
          213.888,
          1.002,
          9.63,
          2.619,
          -2.946,
          18.774,
          7.242,
          -6.921,
          53.859,
          3.24,
          5.532,
          32.655,
          119.7,
          24.39,
          12.249,
          5.355,
          15.624,
          -0.54,
          9.336,
          81.783,
          9.567,
          -0.009,
          -12.648,
          4.905,
          3.45,
          13.338,
          -0.018,
          13.062,
          20.898,
          23.856,
          10.344,
          9.66,
          2.226,
          12.27,
          -149.364,
          5.022,
          -2.946,
          -18.306,
          4.668,
          -5.85,
          -2.046,
          39.75,
          40.485,
          3.006,
          13.365,
          15.939,
          2.856,
          2.955,
          0,
          -15.861,
          150.252,
          12.249,
          7.512,
          4.122,
          12.546,
          29.556,
          17.064,
          15.342,
          18.396,
          505.176,
          67.08,
          19.704,
          10.143,
          33.543,
          19.512,
          18.837,
          25.398,
          4.329,
          11.187,
          67.92,
          8.055,
          31.608,
          1.539,
          9.255,
          10.305,
          7.866,
          -1.569,
          7.008,
          104.076,
          -9.3,
          0,
          13.56,
          26.235,
          -0.858,
          261.819,
          -2.97,
          17.568,
          14.067,
          5.901,
          -6.102,
          277.74,
          -2.436,
          -0.654,
          -7.695,
          2.082,
          -7.938,
          7.599,
          4.548,
          -0.045,
          6.075,
          4.524,
          -1.014,
          1.914,
          16.326,
          1.452,
          -1.458,
          -0.534,
          -7.695,
          3.039,
          50.688,
          22.29,
          0,
          19.236,
          6.471,
          0.486,
          7.269,
          21.165,
          1.284,
          30.69,
          19.836,
          -1.524,
          10.053,
          0,
          -0.954,
          -13.572,
          26.97,
          14.94,
          3.075,
          7.281,
          -2.664,
          46.824,
          8.862,
          8.826,
          38.982,
          -7.44,
          13.188,
          -1.197,
          9.96,
          5.778,
          1.248,
          107.388,
          16.428,
          15.444,
          37.608,
          16.896,
          -1.014,
          2.322,
          3.852,
          -5.166,
          28.152,
          -3.534,
          2.274,
          2.907,
          50.463,
          10.992,
          166.17,
          -10.638,
          43.152,
          -3.468,
          3.702,
          129.003,
          4.65,
          10.242,
          62.118,
          -0.063,
          -4.32,
          18.645,
          -2.514,
          62.664,
          1.905,
          -102.411,
          4.524,
          16.464,
          -0.522,
          18.414,
          -2.946,
          5.328,
          47.52,
          39.09,
          9.66,
          -0.585,
          19.452,
          15.33,
          -7.938,
          -7.092,
          8.46,
          11.316,
          -2.664,
          -1.767,
          100.989,
          74.949,
          17.274,
          18.096,
          10.785,
          23.46,
          32.616,
          -9.528,
          211.26,
          15.324,
          58.338,
          4.095,
          8.91,
          345.933,
          -6.561,
          45.516,
          -0.351,
          604.86,
          120.972,
          81.354,
          8.097,
          -10.11,
          5.832,
          11.673,
          -2.616,
          31.128,
          17.364,
          2.562,
          74.688,
          0.207,
          32.193,
          -2.196,
          17.46,
          13.338,
          3.918,
          12.354,
          4.59,
          34.452,
          39.18,
          14.916,
          12.456,
          -10.278,
          111.816,
          31.032,
          63.117,
          22.383,
          6.39,
          19.305,
          18.03,
          9.918,
          24.024,
          2.274,
          -11.784,
          11.808,
          -5.736,
          -1.647,
          30.387,
          11.673,
          37.62,
          47.889,
          11.052,
          13.095,
          12.42,
          3.474,
          3.825,
          -1.257,
          -1.92,
          2.37,
          7.932,
          5.76,
          10.035,
          -2.1,
          -17.199,
          -0.798,
          32.595,
          50.46,
          5.31,
          4.878,
          -20.034,
          2.61,
          14.805,
          23.142,
          -19.38,
          5.196,
          5.175,
          1.638,
          3.24,
          29.502,
          1.986,
          4.083,
          12.978,
          -2.556,
          26.13,
          8.028,
          3.147,
          10.584,
          -3.345,
          22.128,
          5.97,
          3.672,
          32.49,
          5.88,
          2.856,
          6.132,
          59.85,
          6.822,
          17.469,
          4.314,
          24.39,
          4.266,
          7.704,
          0,
          3.648,
          10.788,
          -0.351,
          17.955,
          17.784,
          8.22,
          -1.35,
          61.248,
          -7.335,
          113.859,
          -5.892,
          6.348,
          10.386,
          -16.191,
          3.948,
          6.87,
          6.444,
          1202.016,
          2.535,
          5.838,
          0.108,
          18.81,
          21.858,
          17.391,
          5.634,
          0.552,
          20.943,
          17.01,
          -7.389,
          26.703,
          421.578,
          4.266,
          54.24,
          18.672,
          -3.834,
          -1.842,
          23.256,
          11.472,
          16.896,
          12.978,
          9.486,
          7.638,
          -31.722,
          11.934,
          13.41,
          7.074,
          22.008,
          13.38,
          21.204,
          8.91,
          -14.778,
          572.925,
          14.574,
          18.414,
          10.707,
          11.055,
          9.756,
          44.253,
          17.124,
          7.782,
          0.291,
          -1.746,
          -24.225,
          29.976,
          14.904,
          -3.138,
          7.326,
          5.625,
          -16.398,
          15.516,
          102.276,
          -4.935,
          59.004,
          561.48,
          13.347,
          -0.654,
          26.046,
          0.711,
          0.534,
          14.904,
          -5.913,
          69.078,
          -1.08,
          48.543,
          32.868,
          2.565,
          747.816,
          -1.524,
          2.718,
          18.504,
          6.138,
          1.725,
          -9.666,
          -0.027,
          5.658,
          16.065,
          4.11,
          62.316,
          20.415,
          16.416,
          -1.572,
          40.485,
          69.813,
          8.7,
          27.243,
          0.81,
          14.88,
          7.662,
          54.081,
          12.24,
          11.052,
          29.385,
          -0.663,
          7.812,
          3.132,
          25.776,
          5.76,
          -0.108,
          -4.158,
          7.44,
          9.63,
          9.093,
          647.595,
          3.69,
          -1.452,
          11.088,
          9.495,
          -7.368,
          58.338,
          2.457,
          4.533,
          -0.294,
          23.466,
          -0.108,
          17.475,
          25.242,
          -1.326,
          3.852,
          3.522,
          -21.96,
          62.385,
          13.224,
          11.052,
          15.276,
          3.798,
          19.53,
          2.223,
          -16.674,
          63.252,
          1644.03,
          16.842,
          1.704,
          17.91,
          11.052,
          0,
          2.142,
          -0.132,
          40.866,
          -4.992,
          18.816,
          -4.86,
          2.136,
          12.12,
          25.263,
          24.045,
          24.732,
          -0.093,
          19.446,
          9.207,
          4.095,
          25.623,
          3.99,
          1.995,
          0.354,
          16.068,
          6.714,
          19.704,
          12.468,
          -2.436,
          9.048,
          3.51,
          -2.772,
          123.291,
          8.592,
          -6.561,
          -22.728,
          0,
          11.106,
          26.901,
          46.512,
          -1.026,
          5.733,
          -4.068,
          -0.408,
          3.42,
          14.715,
          20.748,
          4.104,
          15.579,
          3.36,
          23.454,
          14.982,
          12.6,
          25.92,
          13.02,
          3.684,
          -15.288,
          8.166,
          10.092,
          28.98,
          25.29,
          1.476,
          -3.468,
          50.46,
          4.2,
          18.378,
          22.356,
          39.6,
          1.521,
          12.492,
          -2.628,
          33.255,
          23.256,
          395.352,
          28.62,
          -0.054,
          5.697,
          6.3,
          7.506,
          -5.271,
          4.5,
          91.032,
          -8.937,
          8.295,
          87.276,
          9.066,
          1.002,
          214.368,
          -3.12,
          277.74,
          -2.988,
          -2.16,
          34.803,
          -0.084,
          16.194,
          0.399,
          17.475,
          33.792,
          19.95,
          6.762,
          3.495,
          18.144,
          9.096,
          9.162,
          -0.639,
          -0.69,
          7.02,
          14.148,
          24.498,
          4.704,
          8.622,
          -0.408,
          24.174,
          15.633,
          12.906,
          0.783,
          24.426,
          14.172,
          101.934,
          5.058,
          11.928,
          1.458,
          -2.436,
          52.26,
          -1.572,
          6.048,
          6.165,
          1.686,
          10.41,
          4.761,
          -0.858,
          13.104,
          -0.189,
          31.374,
          52.902,
          5.616,
          5.406,
          28.302,
          5.715,
          7.26,
          0.501,
          75.798,
          874.167,
          3.141,
          5.526,
          0.825,
          76.176,
          -5.967,
          4.455,
          76.707,
          8.862,
          11.736,
          69.3,
          25.32,
          77.955,
          -8.73,
          18.36,
          3.375,
          5.46,
          26.109,
          42.066,
          0.621,
          4.227,
          10.5,
          1.98,
          53.091,
          4.083,
          2.274,
          16.47,
          19.593,
          -8.307,
          228.585,
          5.544,
          0.66,
          38.844,
          -1.143,
          7.596,
          6.618,
          -0.609,
          12.252,
          -12.315,
          2.364,
          64.386,
          31.374,
          12.096,
          53.694,
          1.746,
          11.94,
          -3.534,
          6.816,
          -1.902,
          2.124,
          -0.345,
          -84.195,
          9.207,
          65.592,
          2.934,
          142.344,
          7.368,
          -4.887,
          9.63,
          53.844,
          16.116,
          331.236,
          0.672,
          1.008,
          10.614,
          18.825,
          30.048,
          9.09,
          -1.302,
          22.032,
          7.875,
          1.575,
          14.385,
          -0.411,
          32.115,
          0.66,
          10.053,
          19.59,
          9.405,
          9.405,
          4.533,
          215.865,
          11.97,
          -1.452,
          25.23,
          30.756,
          58.473,
          20.955,
          68.664,
          37.845,
          2.82,
          15.174,
          -3.255,
          9.876,
          9.876,
          0.648,
          20.754,
          37.863,
          23.472,
          18.672,
          -8.775,
          -16.176,
          13.11,
          11.592,
          -18.996,
          10.269,
          13.338,
          19.422,
          2.664,
          16.578,
          23.238,
          44.82,
          3.006,
          1.113,
          7.488,
          1.308,
          -0.12,
          11.475,
          389.775,
          8.454,
          181.56,
          35.199,
          -16.11,
          0.402,
          18.18,
          -30.852,
          37.26,
          36.864,
          29.808,
          1.644,
          17.697,
          1.944,
          24.894,
          13.824,
          3.672,
          5.76,
          13.374,
          13.374,
          3.594,
          32.586,
          19.32,
          1.812,
          37.305,
          8.784,
          1.404,
          5.136,
          56.895,
          -2.187,
          22.368,
          11.583,
          17.07,
          129.003,
          37.212,
          260.034,
          49.977,
          28.77,
          56.475,
          29.172,
          5.37,
          30.687,
          -0.321,
          -2.187,
          3.99,
          9.876,
          1.584,
          12.036,
          43.614,
          64.692,
          -6.03,
          0,
          119.166,
          -1.971,
          0.615,
          17.073,
          -2.412,
          4.743,
          1.512,
          22.065,
          8.73,
          3.042,
          49.869,
          17.514,
          -6.138,
          2.598,
          41.58,
          2.259,
          6.957,
          10.863,
          -17.22,
          0,
          34.905,
          1.359,
          41.325,
          8.724,
          13.188,
          19.755,
          63.117,
          27.927,
          2.295,
          23.625,
          20.754,
          444.297,
          34.884,
          28.008,
          7.722,
          -1.635,
          16.335,
          16.632,
          -20.655,
          6.786,
          0.618,
          1.428,
          66.468,
          1.773,
          7.002,
          0.318,
          17.808,
          32.796,
          11.37,
          4.794,
          2.226,
          22.113,
          -3.051,
          43.725,
          11.619,
          10.542,
          4.59,
          1.962,
          2.076,
          6.612,
          28.08,
          73.08,
          4.83,
          21.693,
          69.564,
          4.179,
          -1.71,
          -2.34,
          2.88,
          1.008,
          24.327,
          -1.734,
          16.905,
          6.612,
          10.902,
          18.948,
          41.544,
          8.19,
          9.408,
          29.52,
          7.62,
          8.43,
          488.595,
          2.4,
          25.788,
          13.5,
          0.567,
          4.536,
          82.593,
          119.592,
          7.245,
          15.342,
          36.036,
          2.151,
          2.52,
          2.52,
          13.095,
          34.866,
          37.782,
          -2.769,
          14.076,
          6.69,
          1.854,
          1.68,
          2.535,
          287.679,
          -25.92,
          3.324,
          6.768,
          -19.332,
          6.9,
          -8.652,
          27.21,
          36.771,
          -0.801,
          56.646,
          1.725,
          181.56,
          24.498,
          24.66,
          -25.71,
          9.63,
          9.312,
          2.37,
          1.224,
          4.344,
          28.206,
          1.224,
          8.124,
          5.325,
          12.396,
          19.26,
          21.66,
          50.4,
          6.678,
          -42.504,
          99.348,
          6.588,
          -21.6,
          12.051,
          17.898,
          73.386,
          110.412,
          4.743,
          0.324,
          7.935,
          8.892,
          5.712,
          6.918,
          3.24,
          7.509,
          22.128,
          0.165,
          11.562,
          2.256,
          6.51,
          1.248,
          3.06,
          31.626,
          -4.041,
          1.206,
          6.984,
          -1.731,
          117.81,
          6.378,
          49.875,
          -3.468,
          5.565,
          1.053,
          11.733,
          4.344,
          2.748,
          35.268,
          -2.97,
          0.498,
          2.88,
          4.266,
          0.702,
          4.47,
          5.811,
          -3.789,
          1.335,
          64.956,
          0.666,
          -2.694,
          8.712,
          26.922,
          9.3,
          16.821,
          2.142,
          17.232,
          4.35,
          6.246,
          1.905,
          -0.408,
          0.267,
          22.986,
          6.228,
          -2.97,
          -0.465,
          19.491,
          18.27,
          34.146,
          1.869,
          9.369,
          1.539,
          18.414,
          0.336,
          -0.951,
          2.373,
          37.884,
          36.12,
          52.71,
          -1.233,
          5.976,
          -0.528,
          77.784,
          13.11,
          15.66,
          0,
          -149.364,
          17.49,
          4.35,
          15.048,
          -7.872,
          -13.842,
          5.544,
          -2.916,
          40.383,
          68.664,
          10.053,
          29.964,
          17.586,
          79.08,
          17.469,
          -6.735,
          10.644,
          63.852,
          5.643,
          -0.108,
          8.736,
          -1.962,
          50.58,
          16.632,
          27.57,
          1.158,
          11.592,
          36.54,
          12.546,
          11.625,
          27.459,
          -4.617,
          21.912,
          11.97,
          8.622,
          -2.115,
          6.471,
          20.874,
          2.016,
          -3.033,
          15.048,
          15.06,
          5.328,
          -3.618,
          9.048,
          18.774,
          16.296,
          2.457,
          -0.858,
          12.978,
          -10.92,
          6.282,
          11.88,
          -35.994,
          38.31,
          5.31,
          13.164,
          14.517,
          -1.197,
          4.908,
          -2.436,
          7.848,
          6.678,
          10.242,
          11.184,
          15.006,
          32.424
         ],
         "yaxis": "y"
        },
        {
         "hovertemplate": "Country=Australia<br>Category=Technology<br>Discount=%{x}<br>Profit=%{y}<br>Sales=%{marker.size}<extra></extra>",
         "legendgroup": "Australia",
         "marker": {
          "color": "#3498DB",
          "size": [
           261,
           162,
           296,
           116,
           81,
           607,
           533,
           177,
           558,
           149,
           349,
           140,
           498,
           475,
           757,
           349,
           264,
           810,
           695,
           88,
           504,
           306,
           249,
           892,
           242,
           2544,
           347,
           498,
           1288,
           164,
           633,
           249,
           1267,
           486,
           101,
           312,
           488,
           229,
           229,
           92,
           745,
           1336,
           16,
           505,
           124,
           425,
           724,
           454,
           88,
           378,
           403,
           104,
           967,
           265,
           169,
           318,
           331,
           884,
           181,
           151,
           138,
           293,
           182,
           60,
           1113,
           346,
           202,
           52,
           786,
           50,
           419,
           316,
           364,
           572,
           38,
           151,
           767,
           69,
           333,
           232,
           26,
           288,
           84,
           93,
           268,
           1035,
           106,
           100,
           69,
           80,
           747,
           23,
           203,
           357,
           56,
           224,
           287,
           456,
           129,
           701,
           186,
           524,
           208,
           264,
           239,
           484,
           70,
           183,
           84,
           151,
           86,
           303,
           128,
           302,
           357,
           1113,
           179,
           69,
           316,
           138,
           229,
           36,
           318,
           100,
           354,
           69,
           773,
           102,
           49,
           211,
           104,
           143,
           210,
           384,
           207,
           771,
           57,
           229,
           480,
           209,
           529,
           410,
           956,
           1720,
           1933,
           149,
           1028,
           215,
           139,
           153,
           206,
           1162,
           512,
           329,
           560,
           262,
           847,
           578,
           237,
           1943,
           1172,
           229,
           540,
           256,
           1696,
           74,
           331,
           466,
           969,
           1703,
           848,
           184,
           219,
           776,
           199,
           130,
           234,
           1415,
           414,
           132,
           554,
           111,
           405,
           461,
           780,
           201,
           156,
           1863,
           245,
           129,
           217,
           448,
           576,
           347,
           450,
           268,
           177,
           450,
           448,
           1411,
           340,
           309,
           251,
           101,
           973,
           133,
           206,
           878,
           176,
           248,
           1711,
           1649,
           1774,
           335,
           153,
           141,
           219,
           260,
           112,
           138,
           25,
           450,
           1128,
           130,
           378,
           109,
           2863,
           1725,
           342,
           152,
           224,
           299,
           2892,
           573,
           323,
           1613,
           340,
           535,
           3524,
           107,
           288,
           327,
           1649,
           1190,
           401,
           114,
           888,
           246,
           187,
           58,
           216,
           106,
           154,
           224,
           96,
           729,
           269,
           428,
           1709,
           516,
           646,
           444,
           278,
           225,
           2043,
           300,
           450,
           573,
           405,
           258,
           125,
           299,
           404,
           373,
           224,
           143,
           317,
           124,
           861,
           45,
           212,
           216,
           482,
           132,
           299,
           79,
           472,
           227,
           152,
           390,
           100,
           528,
           532,
           198,
           83,
           1379,
           125,
           576,
           131,
           464,
           662,
           155,
           527,
           368,
           839,
           563,
           351,
           262,
           543,
           641,
           1411,
           275,
           342,
           111,
           669,
           109,
           306,
           428,
           103,
           99,
           751,
           59,
           293,
           413,
           1432,
           257,
           363,
           864,
           201,
           201,
           646,
           368,
           251,
           634,
           885,
           846,
           179,
           264,
           248,
           751,
           1687,
           1338,
           202,
           2863,
           101,
           165,
           264,
           48,
           323,
           26,
           172,
           1152,
           153,
           359,
           144,
           532,
           347,
           579,
           116,
           1725,
           973,
           96,
           314,
           180,
           306,
           329,
           259,
           384,
           1718,
           239,
           2875,
           2053,
           499,
           525,
           107,
           431,
           461,
           900,
           195,
           862,
           381,
           403,
           76,
           227,
           215,
           637,
           308,
           930,
           108,
           122,
           615,
           50,
           253,
           233,
           1069,
           1432,
           359,
           105,
           245,
           198,
           261,
           124,
           474,
           66,
           2300,
           645,
           128,
           199,
           212,
           392,
           351,
           458,
           224,
           478,
           1201,
           193,
           223,
           198,
           508,
           665,
           888,
           2053,
           417,
           657,
           344,
           145,
           239,
           2566,
           1172,
           712,
           528,
           469,
           458,
           793,
           542,
           645,
           264,
           665,
           718,
           207,
           892,
           132,
           268,
           372,
           315,
           40,
           825,
           1717,
           75,
           235,
           377,
           492,
           198,
           1018,
           373,
           478,
           103,
           150,
           752,
           662,
           452,
           513,
           2384,
           350,
           472,
           1080,
           122,
           765,
           1721,
           454,
           246,
           117,
           1661,
           4448,
           1116,
           2875,
           82,
           462,
           1431,
           207,
           134,
           333,
           5175,
           2075,
           187,
           655,
           306,
           42,
           891,
           156,
           776,
           1977,
           528,
           1342,
           330,
           168,
           518,
           381,
           2898,
           138,
           124,
           441,
           79,
           116,
           263,
           202,
           220,
           231,
           1696,
           641,
           311,
           447,
           91,
           74,
           1641,
           662,
           53,
           137,
           71,
           345,
           393,
           368,
           736,
           216,
           773,
           860,
           252,
           1922,
           620,
           446,
           335,
           197,
           669,
           1208,
           235,
           1403,
           385,
           368,
           707,
           461,
           24,
           1222,
           308,
           115,
           729,
           1649,
           188,
           529,
           104,
           130,
           75,
           2015,
           561,
           344,
           757,
           479,
           626,
           69,
           166,
           72,
           364,
           310,
           137,
           907,
           634,
           330,
           476,
           863,
           369,
           281,
           53,
           228,
           384,
           267,
           512,
           75,
           113,
           3068,
           94,
           374,
           1602,
           1129,
           688,
           234,
           2863,
           306,
           443,
           293,
           757,
           218,
           3300,
           60,
           109,
           643,
           1954,
           125,
           1597,
           949,
           90,
           801,
           770,
           118,
           312,
           227,
           303,
           794,
           276,
           2293,
           201,
           1131,
           187,
           205,
           735,
           1018,
           1071,
           179,
           153,
           1725,
           107,
           382,
           116,
           341,
           698,
           1157,
           303,
           948,
           40,
           458,
           235,
           393,
           502,
           260,
           367
          ],
          "sizemode": "area",
          "sizeref": 14.4,
          "symbol": "circle"
         },
         "mode": "markers",
         "name": "Australia",
         "showlegend": false,
         "type": "scattergl",
         "x": [
          0,
          0,
          0,
          0,
          0,
          0,
          0,
          0,
          0,
          0,
          0,
          0,
          0,
          0,
          0,
          0,
          0,
          0,
          0,
          0,
          0,
          0,
          0,
          0,
          0,
          0,
          0,
          0,
          0,
          0,
          0,
          0,
          0,
          0,
          0,
          0,
          0,
          0,
          0,
          0.4,
          0.4,
          0.4,
          0.4,
          0.4,
          0.4,
          0.4,
          0.4,
          0.4,
          0.4,
          0.4,
          0.4,
          0.4,
          0.4,
          0.4,
          0.4,
          0.4,
          0.4,
          0.4,
          0.4,
          0.4,
          0.4,
          0.4,
          0.4,
          0.4,
          0.4,
          0.4,
          0.4,
          0.4,
          0.4,
          0.4,
          0.4,
          0.4,
          0.4,
          0.4,
          0.4,
          0.4,
          0.4,
          0.4,
          0.4,
          0.4,
          0.4,
          0.4,
          0.4,
          0.4,
          0.4,
          0.4,
          0.4,
          0.4,
          0.4,
          0.4,
          0.4,
          0.4,
          0.4,
          0.4,
          0.4,
          0.4,
          0.4,
          0.4,
          0.4,
          0.4,
          0.4,
          0.4,
          0.4,
          0.4,
          0.4,
          0.4,
          0.4,
          0.4,
          0.4,
          0.4,
          0.4,
          0.4,
          0.4,
          0.4,
          0.4,
          0.4,
          0.4,
          0.4,
          0.4,
          0.4,
          0.4,
          0.4,
          0.4,
          0.4,
          0.4,
          0.4,
          0.4,
          0.4,
          0.4,
          0.4,
          0.4,
          0.4,
          0.4,
          0.4,
          0.4,
          0.4,
          0.4,
          0.4,
          0.1,
          0.1,
          0.1,
          0.1,
          0.1,
          0.1,
          0.1,
          0.1,
          0.1,
          0.1,
          0.1,
          0.1,
          0.1,
          0.1,
          0.1,
          0.1,
          0.1,
          0.1,
          0.1,
          0.1,
          0.1,
          0.1,
          0.1,
          0.1,
          0.1,
          0.1,
          0.1,
          0.1,
          0.1,
          0.1,
          0.1,
          0.1,
          0.1,
          0.1,
          0.1,
          0.1,
          0.1,
          0.1,
          0.1,
          0.1,
          0.1,
          0.1,
          0.1,
          0.1,
          0.1,
          0.1,
          0.1,
          0.1,
          0.1,
          0.1,
          0.1,
          0.1,
          0.1,
          0.1,
          0.1,
          0.1,
          0.1,
          0.1,
          0.1,
          0.1,
          0.1,
          0.1,
          0.1,
          0.1,
          0.1,
          0.1,
          0.1,
          0.1,
          0.1,
          0.1,
          0.1,
          0.1,
          0.1,
          0.1,
          0.1,
          0.1,
          0.1,
          0.1,
          0.1,
          0.1,
          0.1,
          0.1,
          0.1,
          0.1,
          0.1,
          0.1,
          0.1,
          0.1,
          0.1,
          0.1,
          0.1,
          0.1,
          0.1,
          0.1,
          0.1,
          0.1,
          0.1,
          0.1,
          0.1,
          0.1,
          0.1,
          0.1,
          0.1,
          0.1,
          0.1,
          0.1,
          0.1,
          0.1,
          0.1,
          0.1,
          0.1,
          0.1,
          0.1,
          0.1,
          0.1,
          0.1,
          0.1,
          0.1,
          0.1,
          0.1,
          0.1,
          0.1,
          0.1,
          0.1,
          0.1,
          0.1,
          0.1,
          0.1,
          0.1,
          0.1,
          0.1,
          0.1,
          0.1,
          0.1,
          0.1,
          0.1,
          0.1,
          0.1,
          0.1,
          0.1,
          0.1,
          0.1,
          0.1,
          0.1,
          0.1,
          0.1,
          0.1,
          0.1,
          0.1,
          0.1,
          0.1,
          0.1,
          0.1,
          0.1,
          0.1,
          0.1,
          0.1,
          0.1,
          0.1,
          0.1,
          0.1,
          0.1,
          0.1,
          0.1,
          0.1,
          0.1,
          0.1,
          0.1,
          0.1,
          0.1,
          0.1,
          0.1,
          0.1,
          0.1,
          0.1,
          0.1,
          0.1,
          0.1,
          0.1,
          0.1,
          0.1,
          0.1,
          0.1,
          0.1,
          0.1,
          0.1,
          0.1,
          0.1,
          0.1,
          0.1,
          0.1,
          0.1,
          0.1,
          0.1,
          0.1,
          0.1,
          0.1,
          0.1,
          0.1,
          0.1,
          0.1,
          0.1,
          0.1,
          0.1,
          0.1,
          0.1,
          0.1,
          0.1,
          0.1,
          0.1,
          0.1,
          0.1,
          0.1,
          0.1,
          0.1,
          0.1,
          0.1,
          0.1,
          0.1,
          0.1,
          0.1,
          0.1,
          0.1,
          0.1,
          0.1,
          0.1,
          0.1,
          0.1,
          0.1,
          0.1,
          0.1,
          0.1,
          0.1,
          0.1,
          0.1,
          0.1,
          0.1,
          0.1,
          0.1,
          0.1,
          0.1,
          0.1,
          0.1,
          0.1,
          0.1,
          0.1,
          0.1,
          0.1,
          0.1,
          0.1,
          0.1,
          0.1,
          0.1,
          0.1,
          0.1,
          0.1,
          0.1,
          0.1,
          0.1,
          0.1,
          0.1,
          0.1,
          0.1,
          0.1,
          0.1,
          0.1,
          0.1,
          0.1,
          0.1,
          0.1,
          0.1,
          0.1,
          0.1,
          0.1,
          0.1,
          0.1,
          0.1,
          0.1,
          0.1,
          0.1,
          0.1,
          0.1,
          0.1,
          0.1,
          0.1,
          0.1,
          0.1,
          0.1,
          0.1,
          0.1,
          0.1,
          0.1,
          0.1,
          0.1,
          0.1,
          0.1,
          0.1,
          0.1,
          0.1,
          0.1,
          0.1,
          0.1,
          0.1,
          0.1,
          0.1,
          0.1,
          0.1,
          0.1,
          0.1,
          0.1,
          0.1,
          0.1,
          0.1,
          0.1,
          0.1,
          0.1,
          0.1,
          0.1,
          0.1,
          0.1,
          0.1,
          0.1,
          0.1,
          0.1,
          0.1,
          0.1,
          0.1,
          0.1,
          0.1,
          0.1,
          0.1,
          0.1,
          0.1,
          0.1,
          0.1,
          0.1,
          0.1,
          0.1,
          0.1,
          0.1,
          0.1,
          0.1,
          0.1,
          0.1,
          0.1,
          0.1,
          0.1,
          0.1,
          0.1,
          0.1,
          0.1,
          0.1,
          0.1,
          0.1,
          0.1,
          0.1,
          0.1,
          0.1,
          0.1,
          0.1,
          0.1,
          0.1,
          0.1,
          0.1,
          0.1,
          0.1,
          0.1,
          0.1,
          0.1,
          0.1,
          0.1,
          0.1,
          0.1,
          0.1,
          0.1,
          0.1,
          0.1,
          0.1,
          0.1,
          0.1,
          0.1,
          0.1,
          0.1,
          0.1,
          0.1,
          0.1,
          0.1,
          0.1,
          0.1,
          0.1,
          0.1,
          0.1,
          0.1,
          0.1,
          0.1,
          0.1,
          0.1,
          0.1,
          0.1,
          0.1,
          0.1,
          0.1,
          0.1,
          0.1,
          0.1,
          0.1,
          0.1,
          0.1,
          0.1,
          0.1,
          0.1,
          0.1,
          0.1,
          0.1,
          0.1,
          0.1,
          0.1,
          0.1,
          0.1,
          0.1,
          0.1,
          0.1,
          0.1,
          0.1,
          0.1,
          0.1,
          0.1,
          0.1,
          0.1,
          0.1,
          0.1,
          0.1,
          0.1,
          0.1,
          0.1,
          0.1,
          0.1,
          0.1,
          0.1,
          0.1,
          0.1,
          0.1,
          0.1,
          0.1,
          0.1,
          0.1,
          0.1,
          0.1,
          0.1,
          0.1,
          0.1,
          0.1,
          0.1,
          0.1,
          0.1,
          0.1,
          0.1,
          0.1,
          0.1,
          0.1,
          0.1,
          0.1,
          0.1,
          0.1,
          0.1,
          0.1,
          0.1,
          0.1,
          0.1,
          0.1,
          0.1,
          0.1,
          0.1,
          0.1,
          0.1,
          0.1,
          0.1,
          0.1,
          0.1,
          0.1,
          0.1,
          0.1,
          0.1,
          0.1,
          0.1,
          0.1,
          0.1,
          0.1,
          0.1,
          0.1,
          0.1,
          0.1,
          0.1,
          0.1,
          0.1
         ],
         "xaxis": "x2",
         "y": [
          44.28,
          38.88,
          70.92,
          45.18,
          19.53,
          115.32,
          85.2,
          74.28,
          44.64,
          46.08,
          83.82,
          29.34,
          9.84,
          85.5,
          136.26,
          146.4,
          0,
          372.3,
          201.6,
          28.2,
          201.72,
          30.6,
          77.04,
          44.46,
          21.78,
          305.28,
          97.08,
          119.52,
          489.42,
          52.32,
          132.96,
          4.92,
          139.32,
          223.38,
          14.04,
          143.55,
          180.54,
          34.26,
          9.12,
          -45.948,
          -211.224,
          44.436,
          -3.564,
          -42.06,
          -53.784,
          -84.996,
          72.408,
          -143.64,
          -38.148,
          12.528,
          -60.528,
          -10.368,
          -435.168,
          26.46,
          8.448,
          -196.188,
          -209.688,
          -397.8,
          -117.756,
          -37.674,
          -27.588,
          -78.372,
          9.024,
          -26.184,
          -705.096,
          -207.792,
          -10.104,
          -30.996,
          91.59,
          3.288,
          -132.624,
          -210.864,
          -170.016,
          -362.556,
          -5.148,
          -65.46,
          114.972,
          -27.51,
          -221.904,
          -112.56,
          -9.996,
          -14.4,
          13.914,
          12.384,
          -156.258,
          -86.436,
          -23.04,
          -25.116,
          -41.304,
          -31.956,
          -435.84,
          -15.408,
          -13.554,
          -231.732,
          5.592,
          -67.17,
          -191.52,
          -45.69,
          8.55,
          -257.202,
          -59.058,
          -139.77,
          -24.36,
          -114.444,
          -127.764,
          -217.584,
          -30.528,
          -6.12,
          -26.568,
          -7.578,
          11.442,
          -75.72,
          -23.496,
          -151.08,
          -124.824,
          -705.096,
          -98.406,
          3.42,
          -126.624,
          -85.116,
          38.196,
          -0.048,
          -196.188,
          -26.688,
          -129.972,
          -41.304,
          -25.764,
          -17.028,
          -4.956,
          -66.996,
          -12.18,
          -64.428,
          -55.908,
          -134.364,
          -27.576,
          -321.372,
          -21.096,
          -7.656,
          58.638,
          88.056,
          188.01,
          150.264,
          191.214,
          382.176,
          -128.88,
          3.258,
          182.688,
          7.158,
          18.432,
          33.948,
          13.74,
          284.085,
          130.833,
          51.084,
          174.015,
          101.958,
          348.012,
          32.121,
          10.368,
          258.93,
          195.18,
          50.922,
          108.072,
          96.804,
          -37.83,
          19.596,
          88.182,
          176.088,
          -75.546,
          737.925,
          310.95,
          75.591,
          29.241,
          181.062,
          35.4,
          4.308,
          20.766,
          235.521,
          -32.208,
          5.808,
          -18.465,
          8.568,
          -31.524,
          132.993,
          320.715,
          26.847,
          66.042,
          393.24,
          100.788,
          54.408,
          57.888,
          129.336,
          57.534,
          -11.61,
          69.894,
          17.844,
          3.801,
          69.894,
          129.336,
          580.02,
          113.463,
          20.61,
          25.092,
          2.172,
          194.427,
          20.67,
          -13.812,
          87.675,
          56.736,
          49.602,
          -190.125,
          36.624,
          492.624,
          3.681,
          -13.608,
          6.216,
          67.992,
          8.604,
          13.644,
          49.14,
          0.543,
          105.021,
          62.664,
          -8.667,
          113.505,
          17.01,
          858.9,
          747.612,
          125.22,
          3.258,
          -19.962,
          -6.705,
          160.605,
          222.822,
          50.148,
          394.245,
          -0.045,
          -53.478,
          861.372,
          9.495,
          28.767,
          76.17,
          -109.962,
          -106.002,
          173.916,
          41.85,
          -69.258,
          19.122,
          58.005,
          14.058,
          7.101,
          41.154,
          44.364,
          34.842,
          20.148,
          234.645,
          35.796,
          37.98,
          588.735,
          229.176,
          -71.82,
          123.228,
          24.744,
          34.947,
          -136.26,
          123.264,
          -20.07,
          203.586,
          -31.524,
          103.296,
          54.297,
          43.056,
          62.685,
          28.875,
          52.182,
          -12.804,
          13.944,
          39.996,
          143.325,
          1.992,
          49.53,
          7.101,
          107.148,
          46.902,
          -6.705,
          14.94,
          167.76,
          -0.03,
          57.3,
          173.151,
          17.7,
          -41.16,
          -53.25,
          -15.435,
          12.96,
          137.688,
          34.704,
          243.096,
          -2.946,
          41.25,
          264.825,
          34.437,
          81.885,
          -0.162,
          121.113,
          143.718,
          31.149,
          101.958,
          217.266,
          234.876,
          486.054,
          88.29,
          79.845,
          29.601,
          289.86,
          33.996,
          -0.048,
          37.98,
          27.36,
          -1.122,
          175.035,
          18.912,
          12.792,
          -0.036,
          509.01,
          45.672,
          -36.48,
          259.2,
          64.845,
          26.847,
          -71.82,
          151.182,
          111.582,
          77.472,
          255.432,
          46.998,
          19.875,
          114.612,
          79.992,
          -33.45,
          674.772,
          311.994,
          71.76,
          858.9,
          29.268,
          52.974,
          -23.556,
          10.074,
          -25.182,
          1.152,
          9.546,
          25.488,
          10.203,
          -24.012,
          19.092,
          47.202,
          -11.61,
          -38.568,
          -3.87,
          747.612,
          194.427,
          20.148,
          48.888,
          36.024,
          -6.828,
          94.995,
          63.261,
          110.91,
          610.812,
          -16.008,
          511.095,
          638.46,
          171.648,
          46.662,
          9.495,
          -33.576,
          133.206,
          149.877,
          36.828,
          -95.76,
          -29.682,
          53.694,
          1.629,
          37.83,
          18.99,
          127.476,
          -34.173,
          227.268,
          -12.024,
          -12.195,
          225.396,
          1.086,
          87.096,
          49.155,
          391.944,
          413.49,
          11.835,
          12.789,
          67.968,
          13.14,
          115.86,
          38.67,
          -52.716,
          2.904,
          408.876,
          157.698,
          22.836,
          2.1,
          75.402,
          -39.285,
          31.149,
          167.976,
          49.716,
          169.776,
          226.845,
          -6.525,
          -9.927,
          13.14,
          186.204,
          -0.195,
          246.456,
          638.46,
          134.364,
          -65.709,
          126.114,
          54.684,
          84.888,
          28.404,
          195.18,
          -79.092,
          88.044,
          78.072,
          111.843,
          343.836,
          126.564,
          157.698,
          44.022,
          162.477,
          -79.737,
          -16.104,
          207.996,
          5.808,
          62.4,
          16.488,
          41.832,
          9.687,
          54.87,
          725.085,
          -5.856,
          81.012,
          79.512,
          54.624,
          70.353,
          214.857,
          82.86,
          100.74,
          -6.906,
          13.332,
          25.053,
          183.771,
          75.258,
          193.608,
          794.577,
          66.186,
          162.582,
          275.904,
          14.877,
          118.875,
          19.08,
          136.206,
          2.7,
          -3.924,
          110.649,
          444.483,
          37.05,
          511.095,
          12.771,
          -36.015,
          -127.215,
          41.298,
          48.876,
          88.803,
          919.971,
          276.534,
          8.286,
          240.252,
          47.55,
          16.809,
          257.388,
          52.062,
          301.812,
          592.812,
          88.044,
          -44.82,
          58.689,
          37.275,
          -40.26,
          -29.682,
          901.56,
          -13.884,
          -11.058,
          -44.196,
          3.456,
          -3.87,
          75.996,
          71.76,
          34.146,
          66.546,
          -37.83,
          234.876,
          -24.156,
          14.82,
          3.984,
          5.712,
          473.907,
          286.731,
          2.304,
          -1.53,
          25.134,
          34.422,
          148.41,
          73.332,
          8.04,
          64.8,
          326.448,
          28.56,
          30.726,
          704.628,
          124.005,
          128.694,
          78,
          8.658,
          7.362,
          -80.55,
          18.216,
          296.082,
          68.508,
          147.252,
          78.489,
          61.452,
          -2.439,
          325.611,
          -34.173,
          28.116,
          -32.472,
          36.624,
          29.085,
          188.01,
          13.824,
          4.302,
          11.634,
          850.836,
          212.01,
          126.114,
          210.21,
          148.995,
          257.424,
          9.216,
          58.968,
          7.95,
          133.245,
          61.947,
          31.938,
          110.88,
          -49.47,
          -7.335,
          58.104,
          277.992,
          4.05,
          106.005,
          7.062,
          83.7,
          110.91,
          -26.739,
          130.833,
          16.572,
          17.451,
          1124.901,
          33.552,
          128.736,
          587.19,
          112.725,
          213.972,
          20.766,
          763.275,
          -0.048,
          152.418,
          45.585,
          302.73,
          94.311,
          366.282,
          3.993,
          17.01,
          -50.052,
          282.126,
          34.704,
          -53.37,
          -105.456,
          11.952,
          266.868,
          170.982,
          40.506,
          104.124,
          -22.8,
          121.092,
          -8.976,
          -0.024,
          509.568,
          64.845,
          414.6,
          8.286,
          -22.782,
          -0.324,
          -22.698,
          71.421,
          19.875,
          -3.414,
          306.657,
          11.925,
          80.541,
          29.496,
          -7.608,
          147.348,
          -38.664,
          94.116,
          200.076,
          1.338,
          -10.242,
          -13.128,
          148.41,
          50.1,
          95.175,
          56.91
         ],
         "yaxis": "y2"
        },
        {
         "hovertemplate": "Country=Australia<br>Category=Furniture<br>Discount=%{x}<br>Profit=%{y}<br>Sales=%{marker.size}<extra></extra>",
         "legendgroup": "Australia",
         "marker": {
          "color": "#3498DB",
          "size": [
           2125,
           399,
           730,
           599,
           363,
           171,
           140,
           44,
           220,
           25,
           24,
           32,
           780,
           1145,
           183,
           274,
           158,
           352,
           2842,
           1848,
           1512,
           97,
           403,
           382,
           284,
           144,
           367,
           1838,
           167,
           534,
           2301,
           747,
           3024,
           985,
           157,
           511,
           1859,
           1491,
           424,
           954,
           1789,
           2993,
           2952,
           1809,
           1180,
           236,
           402,
           3233,
           379,
           213,
           363,
           946,
           58,
           363,
           647,
           346,
           2615,
           561,
           275,
           176,
           651,
           311,
           224,
           689,
           1833,
           688,
           123,
           159,
           38,
           75,
           741,
           552,
           181,
           223,
           86,
           174,
           78,
           70,
           58,
           580,
           74,
           237,
           27,
           38,
           880,
           106,
           170,
           159,
           85,
           91,
           953,
           158,
           269,
           823,
           85,
           51,
           434,
           180,
           90,
           191,
           33,
           118,
           267,
           204,
           54,
           159,
           706,
           237,
           148,
           1050,
           34,
           1536,
           263,
           190,
           2398,
           293,
           190,
           467,
           1582,
           243,
           102,
           132,
           89,
           619,
           31,
           88,
           34,
           1654,
           330,
           204,
           178,
           70,
           107,
           557,
           206,
           545,
           57,
           1103,
           171,
           465,
           379,
           292,
           476,
           51,
           299,
           871,
           538,
           184,
           100,
           269,
           317,
           654,
           292,
           493,
           385,
           565,
           65,
           699,
           250,
           1321,
           34,
           1705,
           415,
           159,
           646,
           1211,
           181,
           327,
           153,
           1059,
           48,
           193,
           5760,
           249,
           154,
           1572,
           811,
           348,
           599,
           160,
           154,
           114,
           660,
           88,
           375,
           195,
           1228,
           415,
           1652,
           227,
           231,
           182,
           263,
           267,
           811,
           309,
           395,
           1655,
           4100,
           45,
           651,
           1637,
           410,
           172,
           87,
           900,
           236,
           374,
           3139,
           702,
           982,
           588,
           324,
           902,
           52,
           88,
           773,
           139,
           453,
           608,
           231,
           437,
           826,
           583,
           187,
           174,
           363,
           300,
           107,
           397,
           99,
           47,
           1113,
           387,
           208,
           879,
           232,
           60,
           223,
           1968,
           2131,
           76,
           359,
           787,
           139,
           95,
           176,
           36,
           201,
           1253,
           447,
           308,
           129,
           835,
           45,
           188,
           154,
           85,
           1303,
           460,
           463,
           143,
           124,
           1058,
           793,
           342,
           51,
           776,
           775,
           1161,
           144,
           135,
           661,
           2619,
           39,
           97,
           1640,
           226,
           176,
           583,
           891,
           334,
           150,
           821,
           793,
           1314,
           264,
           127,
           845,
           482,
           374,
           935,
           973,
           37,
           478,
           545,
           231,
           293,
           286,
           613,
           134,
           222,
           68,
           43,
           63,
           778,
           449,
           165,
           152,
           424,
           355,
           1752,
           654,
           2057,
           660,
           2635,
           266,
           168,
           309,
           39,
           419,
           102,
           111,
           146,
           140,
           444,
           1586,
           1241,
           257,
           2068,
           200,
           592,
           307,
           2544,
           353,
           461,
           226,
           823,
           316,
           295,
           97,
           1631,
           697,
           456,
           545,
           317,
           402,
           897,
           463,
           132,
           190,
           439,
           1112,
           492,
           159,
           150,
           756,
           101,
           34,
           742,
           218,
           359,
           227,
           301,
           620,
           1241,
           335,
           1714,
           355,
           112,
           137,
           191,
           327,
           143,
           254,
           111,
           157,
           820,
           701,
           545,
           1112,
           204,
           225,
           789,
           760,
           126,
           449,
           2046,
           152,
           157,
           659,
           128,
           595,
           228,
           1028,
           1864,
           119,
           104,
           164,
           331,
           91,
           85,
           391,
           333,
           129,
           85,
           91,
           1655,
           172,
           209,
           596,
           34,
           151,
           452,
           293,
           626,
           97,
           218,
           2760,
           162,
           47,
           988,
           335,
           697,
           150,
           258,
           302,
           129,
           804,
           105,
           221,
           338,
           454,
           1568,
           54,
           477,
           1187,
           77,
           434,
           277,
           369,
           318,
           2504,
           1613,
           756,
           1637,
           362,
           706,
           402,
           196,
           458,
           103,
           821,
           250,
           264,
           267,
           114,
           464,
           44,
           925,
           271,
           258,
           1256,
           1657,
           76,
           170,
           346,
           852,
           654,
           135,
           684,
           198,
           136,
           657,
           57,
           740,
           151,
           456,
           3709,
           529,
           327,
           401,
           655,
           191,
           339,
           212,
           165,
           608,
           76,
           136,
           99,
           159,
           127,
           103,
           213,
           18,
           221,
           169,
           43,
           587,
           196,
           43,
           460,
           51,
           1109,
           381,
           48,
           2221,
           179,
           328,
           2892,
           85,
           912,
           309,
           153,
           41,
           653,
           222,
           114,
           34,
           884,
           259,
           237,
           2596,
           108,
           2068,
           875,
           396,
           299,
           396,
           744,
           1162,
           674,
           355,
           444,
           880,
           44,
           182,
           2757,
           107,
           911,
           164,
           1652,
           231,
           1177,
           517,
           91,
           657,
           100,
           158,
           120,
           382,
           296,
           750,
           85,
           93,
           763,
           1285,
           594,
           409,
           1230,
           1252,
           101,
           313,
           156,
           88,
           40,
           2885,
           150,
           271,
           23,
           157,
           76,
           2439,
           51,
           747,
           74,
           947,
           329,
           766,
           85,
           154,
           239,
           846,
           458,
           1082,
           831,
           1635,
           88,
           5487,
           1236,
           659,
           93,
           355,
           1234,
           1038
          ],
          "sizemode": "area",
          "sizeref": 14.4,
          "symbol": "circle"
         },
         "mode": "markers",
         "name": "Australia",
         "showlegend": false,
         "type": "scattergl",
         "x": [
          0,
          0,
          0,
          0,
          0,
          0,
          0,
          0,
          0,
          0,
          0,
          0,
          0,
          0,
          0,
          0,
          0,
          0,
          0,
          0,
          0,
          0,
          0,
          0,
          0,
          0,
          0,
          0,
          0,
          0.3,
          0.3,
          0.3,
          0.3,
          0.3,
          0.6,
          0.6,
          0.3,
          0.3,
          0.3,
          0.3,
          0.3,
          0.3,
          0.3,
          0.3,
          0.3,
          0.3,
          0.6,
          0.3,
          0.3,
          0.3,
          0.3,
          0.3,
          0.6,
          0.3,
          0.3,
          0.3,
          0.3,
          0.6,
          0.6,
          0.3,
          0.3,
          0.6,
          0.3,
          0.3,
          0.3,
          0.4,
          0.4,
          0.4,
          0.4,
          0.4,
          0.4,
          0.4,
          0.4,
          0.4,
          0.4,
          0.4,
          0.4,
          0.4,
          0.4,
          0.4,
          0.4,
          0.4,
          0.4,
          0.4,
          0.4,
          0.4,
          0.4,
          0.4,
          0.4,
          0.4,
          0.4,
          0.4,
          0.4,
          0.4,
          0.4,
          0.4,
          0.4,
          0.4,
          0.4,
          0.4,
          0.4,
          0.4,
          0.4,
          0.4,
          0.4,
          0.4,
          0.4,
          0.4,
          0.4,
          0.4,
          0.4,
          0.4,
          0.4,
          0.4,
          0.4,
          0.4,
          0.4,
          0.4,
          0.4,
          0.4,
          0.4,
          0.4,
          0.4,
          0.4,
          0.4,
          0.4,
          0.4,
          0.4,
          0.4,
          0.4,
          0.4,
          0.4,
          0.4,
          0.4,
          0.4,
          0.4,
          0.4,
          0.4,
          0.4,
          0.4,
          0.4,
          0.1,
          0.1,
          0.1,
          0.1,
          0.1,
          0.1,
          0.1,
          0.1,
          0.1,
          0.1,
          0.1,
          0.1,
          0.1,
          0.1,
          0.1,
          0.1,
          0.1,
          0.1,
          0.1,
          0.1,
          0.1,
          0.1,
          0.1,
          0.1,
          0.1,
          0.1,
          0.1,
          0.1,
          0.1,
          0.1,
          0.1,
          0.1,
          0.1,
          0.1,
          0.1,
          0.1,
          0.1,
          0.1,
          0.1,
          0.1,
          0.1,
          0.1,
          0.1,
          0.1,
          0.1,
          0.1,
          0.1,
          0.1,
          0.1,
          0.1,
          0.1,
          0.1,
          0.1,
          0.1,
          0.1,
          0.1,
          0.1,
          0.1,
          0.1,
          0.1,
          0.1,
          0.1,
          0.1,
          0.1,
          0.1,
          0.1,
          0.1,
          0.1,
          0.1,
          0.1,
          0.1,
          0.1,
          0.1,
          0.1,
          0.1,
          0.1,
          0.1,
          0.1,
          0.1,
          0.1,
          0.1,
          0.1,
          0.1,
          0.1,
          0.1,
          0.1,
          0.1,
          0.1,
          0.1,
          0.1,
          0.1,
          0.1,
          0.1,
          0.1,
          0.1,
          0.1,
          0.1,
          0.1,
          0.1,
          0.1,
          0.1,
          0.1,
          0.1,
          0.1,
          0.1,
          0.1,
          0.1,
          0.1,
          0.1,
          0.1,
          0.1,
          0.1,
          0.1,
          0.1,
          0.1,
          0.1,
          0.1,
          0.1,
          0.1,
          0.1,
          0.1,
          0.1,
          0.1,
          0.1,
          0.1,
          0.1,
          0.1,
          0.1,
          0.1,
          0.1,
          0.1,
          0.1,
          0.1,
          0.1,
          0.1,
          0.1,
          0.1,
          0.1,
          0.1,
          0.1,
          0.1,
          0.1,
          0.1,
          0.1,
          0.1,
          0.1,
          0.1,
          0.1,
          0.1,
          0.1,
          0.1,
          0.1,
          0.1,
          0.1,
          0.1,
          0.1,
          0.1,
          0.1,
          0.1,
          0.1,
          0.1,
          0.1,
          0.1,
          0.1,
          0.1,
          0.1,
          0.1,
          0.1,
          0.1,
          0.1,
          0.1,
          0.1,
          0.1,
          0.1,
          0.1,
          0.1,
          0.1,
          0.1,
          0.1,
          0.1,
          0.1,
          0.1,
          0.1,
          0.1,
          0.1,
          0.1,
          0.1,
          0.1,
          0.1,
          0.1,
          0.1,
          0.1,
          0.1,
          0.1,
          0.1,
          0.1,
          0.1,
          0.1,
          0.1,
          0.1,
          0.1,
          0.1,
          0.1,
          0.1,
          0.1,
          0.1,
          0.1,
          0.1,
          0.1,
          0.1,
          0.1,
          0.1,
          0.1,
          0.1,
          0.1,
          0.1,
          0.1,
          0.1,
          0.1,
          0.1,
          0.1,
          0.1,
          0.1,
          0.1,
          0.1,
          0.1,
          0.1,
          0.1,
          0.1,
          0.1,
          0.1,
          0.1,
          0.1,
          0.1,
          0.1,
          0.1,
          0.1,
          0.1,
          0.1,
          0.1,
          0.1,
          0.1,
          0.1,
          0.1,
          0.1,
          0.1,
          0.1,
          0.1,
          0.1,
          0.1,
          0.1,
          0.1,
          0.1,
          0.1,
          0.1,
          0.1,
          0.1,
          0.1,
          0.1,
          0.1,
          0.1,
          0.1,
          0.1,
          0.1,
          0.1,
          0.1,
          0.1,
          0.1,
          0.1,
          0.1,
          0.1,
          0.1,
          0.1,
          0.1,
          0.1,
          0.1,
          0.1,
          0.1,
          0.1,
          0.1,
          0.1,
          0.1,
          0.1,
          0.1,
          0.1,
          0.1,
          0.1,
          0.1,
          0.1,
          0.1,
          0.1,
          0.1,
          0.1,
          0.1,
          0.1,
          0.1,
          0.1,
          0.1,
          0.1,
          0.1,
          0.1,
          0.1,
          0.1,
          0.1,
          0.1,
          0.1,
          0.1,
          0.1,
          0.1,
          0.1,
          0.1,
          0.1,
          0.1,
          0.1,
          0.1,
          0.1,
          0.1,
          0.1,
          0.1,
          0.1,
          0.1,
          0.1,
          0.1,
          0.1,
          0.1,
          0.1,
          0.1,
          0.1,
          0.1,
          0.1,
          0.1,
          0.1,
          0.1,
          0.1,
          0.1,
          0.1,
          0.1,
          0.1,
          0.1,
          0.1,
          0.1,
          0.1,
          0.1,
          0.1,
          0.1,
          0.1,
          0.1,
          0.1,
          0.1,
          0.1,
          0.1,
          0.1,
          0.1,
          0.1,
          0.1,
          0.1,
          0.1,
          0.1,
          0.1,
          0.1,
          0.1,
          0.1,
          0.1,
          0.1,
          0.1,
          0.1,
          0.1,
          0.1,
          0.1,
          0.1,
          0.1,
          0.1,
          0.1,
          0.1,
          0.1,
          0.1,
          0.1,
          0.1,
          0.1,
          0.1,
          0.1,
          0.1,
          0.1,
          0.1,
          0.1,
          0.1,
          0.1,
          0.1,
          0.1,
          0.1,
          0.1,
          0.1,
          0.1,
          0.1,
          0.1,
          0.1,
          0.1,
          0.1,
          0.1,
          0.1,
          0.1,
          0.1,
          0.1,
          0.1,
          0.1,
          0.1,
          0.1,
          0.1,
          0.1,
          0.1,
          0.1,
          0.1,
          0.1,
          0.1,
          0.1,
          0.1,
          0.1,
          0.1,
          0.1,
          0.1,
          0.1,
          0.1,
          0.1,
          0.1,
          0.1,
          0.1,
          0.1,
          0.1,
          0.1,
          0.1,
          0.1,
          0.1,
          0.1,
          0.1,
          0.1,
          0.1,
          0.1,
          0.1,
          0.1,
          0.1,
          0.1,
          0.1,
          0.1,
          0.1,
          0.1,
          0.1,
          0.1,
          0.1,
          0.1,
          0.1,
          0.1,
          0.1,
          0.1,
          0.1,
          0.1
         ],
         "xaxis": "x3",
         "y": [
          148.68,
          115.56,
          124.02,
          17.88,
          10.89,
          34.26,
          4.08,
          11.94,
          109.92,
          5.52,
          1.89,
          2.52,
          202.68,
          228.96,
          10.98,
          63.06,
          22.08,
          129.96,
          852.48,
          738.96,
          498.96,
          31.92,
          48.24,
          80.16,
          68.22,
          67.68,
          21.96,
          275.52,
          81.96,
          -144.891,
          -953.442,
          -234.846,
          86.319,
          -225.24,
          -195.936,
          -191.88,
          -26.67,
          170.235,
          -133.362,
          -81.81,
          204.282,
          726.825,
          -632.799,
          -258.495,
          151.695,
          26.895,
          -140.724,
          -277.155,
          -119.274,
          39.453,
          -98.646,
          -351.405,
          -66.696,
          -119.187,
          -55.431,
          9.867,
          -821.961,
          -210.24,
          -158.208,
          7.56,
          -158.1,
          -373.68,
          -64.101,
          -226.464,
          -445.113,
          -436.08,
          -51.48,
          -95.676,
          -7.632,
          -29.928,
          -333.564,
          -331.38,
          -12.168,
          -18.648,
          -18.66,
          -8.82,
          -50.976,
          -3.552,
          -6.768,
          77.292,
          -28.296,
          -102.78,
          -10.248,
          -20.208,
          44.016,
          3.492,
          -108.036,
          -95.424,
          -22.77,
          4.536,
          -428.868,
          -39.6,
          -134.676,
          -411.498,
          2.844,
          -33.336,
          -166.47,
          -90.204,
          -1.512,
          -6.516,
          -13.866,
          -58.782,
          -80.244,
          -10.29,
          -30.372,
          -95.424,
          -117.702,
          -102.78,
          -29.676,
          -314.904,
          -13.206,
          -409.626,
          -122.784,
          -82.224,
          -1479.126,
          -9.828,
          -82.224,
          -109.074,
          -870.3,
          -44.532,
          -15.336,
          6.51,
          -59.568,
          -31.068,
          -2.1,
          -20.616,
          -6.786,
          -689.256,
          -126.48,
          -51.192,
          -115.92,
          -10.464,
          -60.744,
          -306.216,
          -85.728,
          -145.38,
          -15.252,
          55.14,
          -17.16,
          -255.864,
          63.144,
          38.874,
          15.831,
          9.654,
          36.48,
          367.488,
          -0.072,
          55.089,
          16.614,
          83.688,
          -35.238,
          -50.898,
          38.874,
          -21.933,
          12.792,
          -31.44,
          -1.503,
          38.784,
          41.535,
          484.224,
          10.782,
          378.876,
          179.676,
          21,
          57.24,
          376.596,
          24,
          94.29,
          40.644,
          235.377,
          -0.531,
          70.626,
          -0.336,
          71.964,
          17.118,
          87.264,
          -63.06,
          23.22,
          106.395,
          30.024,
          27.297,
          35.262,
          242.112,
          23.406,
          149.76,
          10.86,
          354.627,
          87.657,
          55.08,
          98.127,
          71.796,
          -4.104,
          99.432,
          -26.82,
          -36.126,
          -20.658,
          21.906,
          165.348,
          956.58,
          16.668,
          -50.712,
          472.836,
          4.536,
          20.988,
          22.236,
          9.972,
          -2.79,
          -4.32,
          941.688,
          179.43,
          87.255,
          189.39,
          -25.224,
          100.128,
          4.011,
          28.371,
          -51.645,
          27.693,
          146.088,
          60.744,
          25.677,
          58.311,
          27.54,
          77.748,
          12.348,
          44.316,
          140.904,
          46.662,
          46.122,
          70.533,
          29.706,
          -3.708,
          407.988,
          -34.47,
          83.004,
          -0.216,
          15.48,
          23.301,
          34.674,
          262.38,
          473.595,
          32.709,
          63.837,
          227.178,
          27.693,
          29.652,
          78.228,
          16.026,
          75.933,
          -41.796,
          143.916,
          95.739,
          -3.006,
          -27.864,
          15.108,
          2.079,
          17.118,
          10.305,
          -101.424,
          -30.672,
          159.417,
          52.416,
          -2.808,
          340.872,
          8.766,
          -30.393,
          2.781,
          94.806,
          146.328,
          489.984,
          12.72,
          13.482,
          44.04,
          232.68,
          -0.465,
          35.538,
          382.632,
          87.732,
          56.742,
          77.748,
          158.355,
          -33.525,
          24.921,
          218.715,
          8.766,
          102.072,
          79.005,
          38.223,
          197.244,
          176.565,
          24.696,
          20.622,
          -75.672,
          12.702,
          -31.908,
          205.725,
          46.155,
          65.097,
          104.832,
          -40.896,
          11.865,
          41.808,
          20.421,
          6.63,
          0.693,
          198.72,
          174.438,
          -3.744,
          -10.176,
          103.632,
          -7.929,
          38.925,
          -50.898,
          -0.12,
          242.112,
          116.952,
          115.305,
          11.187,
          -20.658,
          2.61,
          32.55,
          16.974,
          38.106,
          53.307,
          43.488,
          153.06,
          17.532,
          124.011,
          39.996,
          206.685,
          11.064,
          216.888,
          88.614,
          621.792,
          39.24,
          66.564,
          22.47,
          -0.048,
          21,
          117.81,
          11.895,
          652.2,
          247.722,
          -30.528,
          60.6,
          123.291,
          -44.676,
          -10.044,
          25.632,
          58.671,
          -8.46,
          87.864,
          135.855,
          131.229,
          -17.619,
          25.035,
          16.785,
          20.232,
          -0.438,
          271.992,
          55.59,
          75.708,
          98.127,
          50.07,
          20.538,
          124.011,
          133.893,
          228.48,
          -7.929,
          7.458,
          22.626,
          78.39,
          -7.278,
          11.07,
          92.952,
          -2.487,
          69.624,
          191.316,
          15.57,
          60.6,
          135.855,
          2.244,
          64.908,
          -61.35,
          75.93,
          -5.64,
          174.438,
          591.045,
          16.896,
          69.624,
          -0.162,
          45.306,
          -59.58,
          65.844,
          274.08,
          455.565,
          26.385,
          46.416,
          -7.311,
          69.786,
          4.98,
          -1.908,
          30.312,
          66.564,
          6.966,
          -7.608,
          -3.042,
          165.348,
          20.988,
          48.588,
          -39.84,
          -0.438,
          -3.507,
          -25.152,
          22.752,
          -34.836,
          35.538,
          79.875,
          -214.725,
          51.984,
          -2.115,
          43.857,
          126.555,
          247.722,
          24.921,
          31.482,
          6.714,
          19.998,
          -89.352,
          19.746,
          46.524,
          131.598,
          186.75,
          661.86,
          -0.009,
          -31.872,
          -39.6,
          -7.704,
          28.71,
          18.375,
          110.607,
          10.554,
          834.552,
          -143.568,
          243.48,
          -36.39,
          28.077,
          156.918,
          8.856,
          -19.665,
          121.932,
          12.366,
          218.715,
          41.535,
          17.616,
          -26.82,
          6.225,
          -30.987,
          18.042,
          61.656,
          -0.006,
          28.608,
          97.65,
          -110.52,
          23.508,
          60.408,
          49.923,
          189.438,
          -50.898,
          -0.018,
          7.56,
          68.145,
          2.979,
          145.872,
          3.096,
          41.118,
          65.226,
          45.558,
          -288.765,
          -0.009,
          123.435,
          35.595,
          -14.556,
          -2.124,
          135.6,
          63.705,
          -7.362,
          60.744,
          32.709,
          -6.066,
          -9.93,
          52.878,
          38.223,
          -1.314,
          33.15,
          8.013,
          4.788,
          61.968,
          5.274,
          45.504,
          -19.665,
          -1.002,
          5.103,
          9.654,
          86.202,
          139.776,
          10.554,
          123.354,
          37.854,
          87.486,
          96.39,
          -1.095,
          101.214,
          34.236,
          25.461,
          13.947,
          -7.29,
          29.601,
          37.77,
          7.92,
          353.43,
          -28.794,
          102.672,
          923.013,
          19.11,
          206.685,
          311.016,
          175.86,
          -3.348,
          149.652,
          -66.12,
          -103.41,
          97.293,
          -7.929,
          153.06,
          68.256,
          5.916,
          40.248,
          275.583,
          46.122,
          70.728,
          43.743,
          55.08,
          33.282,
          353.133,
          109.107,
          -3.042,
          -29.244,
          9.978,
          26.34,
          46.602,
          -17.055,
          49.308,
          -41.805,
          4.635,
          6.21,
          288.015,
          199.782,
          -39.708,
          118.209,
          286.974,
          417.276,
          20.232,
          72.882,
          62.253,
          13.644,
          15.534,
          -224.595,
          25.035,
          -0.006,
          3.771,
          47.007,
          31.356,
          867.027,
          9.654,
          265.68,
          1.596,
          -0.021,
          -14.622,
          8.505,
          19.8,
          17.118,
          -15.954,
          18.756,
          121.932,
          -72.303,
          175.314,
          -127.245,
          28.371,
          2316.51,
          -96.255,
          -0.162,
          29.922,
          70.812,
          -0.021,
          149.769
         ],
         "yaxis": "y3"
        }
       ],
       "layout": {
        "annotations": [
         {
          "font": {},
          "showarrow": false,
          "text": "Category=Office Supplies",
          "x": 0.15999999999999998,
          "xanchor": "center",
          "xref": "paper",
          "y": 1,
          "yanchor": "bottom",
          "yref": "paper"
         },
         {
          "font": {},
          "showarrow": false,
          "text": "Category=Technology",
          "x": 0.49999999999999994,
          "xanchor": "center",
          "xref": "paper",
          "y": 1,
          "yanchor": "bottom",
          "yref": "paper"
         },
         {
          "font": {},
          "showarrow": false,
          "text": "Category=Furniture",
          "x": 0.8399999999999999,
          "xanchor": "center",
          "xref": "paper",
          "y": 1,
          "yanchor": "bottom",
          "yref": "paper"
         }
        ],
        "font": {
         "size": 12
        },
        "height": 800,
        "legend": {
         "itemsizing": "constant",
         "title": {
          "text": "Country"
         },
         "tracegroupgap": 0
        },
        "template": {
         "data": {
          "bar": [
           {
            "error_x": {
             "color": "#2a3f5f"
            },
            "error_y": {
             "color": "#2a3f5f"
            },
            "marker": {
             "line": {
              "color": "#E5ECF6",
              "width": 0.5
             },
             "pattern": {
              "fillmode": "overlay",
              "size": 10,
              "solidity": 0.2
             }
            },
            "type": "bar"
           }
          ],
          "barpolar": [
           {
            "marker": {
             "line": {
              "color": "#E5ECF6",
              "width": 0.5
             },
             "pattern": {
              "fillmode": "overlay",
              "size": 10,
              "solidity": 0.2
             }
            },
            "type": "barpolar"
           }
          ],
          "carpet": [
           {
            "aaxis": {
             "endlinecolor": "#2a3f5f",
             "gridcolor": "white",
             "linecolor": "white",
             "minorgridcolor": "white",
             "startlinecolor": "#2a3f5f"
            },
            "baxis": {
             "endlinecolor": "#2a3f5f",
             "gridcolor": "white",
             "linecolor": "white",
             "minorgridcolor": "white",
             "startlinecolor": "#2a3f5f"
            },
            "type": "carpet"
           }
          ],
          "choropleth": [
           {
            "colorbar": {
             "outlinewidth": 0,
             "ticks": ""
            },
            "type": "choropleth"
           }
          ],
          "contour": [
           {
            "colorbar": {
             "outlinewidth": 0,
             "ticks": ""
            },
            "colorscale": [
             [
              0,
              "#0d0887"
             ],
             [
              0.1111111111111111,
              "#46039f"
             ],
             [
              0.2222222222222222,
              "#7201a8"
             ],
             [
              0.3333333333333333,
              "#9c179e"
             ],
             [
              0.4444444444444444,
              "#bd3786"
             ],
             [
              0.5555555555555556,
              "#d8576b"
             ],
             [
              0.6666666666666666,
              "#ed7953"
             ],
             [
              0.7777777777777778,
              "#fb9f3a"
             ],
             [
              0.8888888888888888,
              "#fdca26"
             ],
             [
              1,
              "#f0f921"
             ]
            ],
            "type": "contour"
           }
          ],
          "contourcarpet": [
           {
            "colorbar": {
             "outlinewidth": 0,
             "ticks": ""
            },
            "type": "contourcarpet"
           }
          ],
          "heatmap": [
           {
            "colorbar": {
             "outlinewidth": 0,
             "ticks": ""
            },
            "colorscale": [
             [
              0,
              "#0d0887"
             ],
             [
              0.1111111111111111,
              "#46039f"
             ],
             [
              0.2222222222222222,
              "#7201a8"
             ],
             [
              0.3333333333333333,
              "#9c179e"
             ],
             [
              0.4444444444444444,
              "#bd3786"
             ],
             [
              0.5555555555555556,
              "#d8576b"
             ],
             [
              0.6666666666666666,
              "#ed7953"
             ],
             [
              0.7777777777777778,
              "#fb9f3a"
             ],
             [
              0.8888888888888888,
              "#fdca26"
             ],
             [
              1,
              "#f0f921"
             ]
            ],
            "type": "heatmap"
           }
          ],
          "heatmapgl": [
           {
            "colorbar": {
             "outlinewidth": 0,
             "ticks": ""
            },
            "colorscale": [
             [
              0,
              "#0d0887"
             ],
             [
              0.1111111111111111,
              "#46039f"
             ],
             [
              0.2222222222222222,
              "#7201a8"
             ],
             [
              0.3333333333333333,
              "#9c179e"
             ],
             [
              0.4444444444444444,
              "#bd3786"
             ],
             [
              0.5555555555555556,
              "#d8576b"
             ],
             [
              0.6666666666666666,
              "#ed7953"
             ],
             [
              0.7777777777777778,
              "#fb9f3a"
             ],
             [
              0.8888888888888888,
              "#fdca26"
             ],
             [
              1,
              "#f0f921"
             ]
            ],
            "type": "heatmapgl"
           }
          ],
          "histogram": [
           {
            "marker": {
             "pattern": {
              "fillmode": "overlay",
              "size": 10,
              "solidity": 0.2
             }
            },
            "type": "histogram"
           }
          ],
          "histogram2d": [
           {
            "colorbar": {
             "outlinewidth": 0,
             "ticks": ""
            },
            "colorscale": [
             [
              0,
              "#0d0887"
             ],
             [
              0.1111111111111111,
              "#46039f"
             ],
             [
              0.2222222222222222,
              "#7201a8"
             ],
             [
              0.3333333333333333,
              "#9c179e"
             ],
             [
              0.4444444444444444,
              "#bd3786"
             ],
             [
              0.5555555555555556,
              "#d8576b"
             ],
             [
              0.6666666666666666,
              "#ed7953"
             ],
             [
              0.7777777777777778,
              "#fb9f3a"
             ],
             [
              0.8888888888888888,
              "#fdca26"
             ],
             [
              1,
              "#f0f921"
             ]
            ],
            "type": "histogram2d"
           }
          ],
          "histogram2dcontour": [
           {
            "colorbar": {
             "outlinewidth": 0,
             "ticks": ""
            },
            "colorscale": [
             [
              0,
              "#0d0887"
             ],
             [
              0.1111111111111111,
              "#46039f"
             ],
             [
              0.2222222222222222,
              "#7201a8"
             ],
             [
              0.3333333333333333,
              "#9c179e"
             ],
             [
              0.4444444444444444,
              "#bd3786"
             ],
             [
              0.5555555555555556,
              "#d8576b"
             ],
             [
              0.6666666666666666,
              "#ed7953"
             ],
             [
              0.7777777777777778,
              "#fb9f3a"
             ],
             [
              0.8888888888888888,
              "#fdca26"
             ],
             [
              1,
              "#f0f921"
             ]
            ],
            "type": "histogram2dcontour"
           }
          ],
          "mesh3d": [
           {
            "colorbar": {
             "outlinewidth": 0,
             "ticks": ""
            },
            "type": "mesh3d"
           }
          ],
          "parcoords": [
           {
            "line": {
             "colorbar": {
              "outlinewidth": 0,
              "ticks": ""
             }
            },
            "type": "parcoords"
           }
          ],
          "pie": [
           {
            "automargin": true,
            "type": "pie"
           }
          ],
          "scatter": [
           {
            "fillpattern": {
             "fillmode": "overlay",
             "size": 10,
             "solidity": 0.2
            },
            "type": "scatter"
           }
          ],
          "scatter3d": [
           {
            "line": {
             "colorbar": {
              "outlinewidth": 0,
              "ticks": ""
             }
            },
            "marker": {
             "colorbar": {
              "outlinewidth": 0,
              "ticks": ""
             }
            },
            "type": "scatter3d"
           }
          ],
          "scattercarpet": [
           {
            "marker": {
             "colorbar": {
              "outlinewidth": 0,
              "ticks": ""
             }
            },
            "type": "scattercarpet"
           }
          ],
          "scattergeo": [
           {
            "marker": {
             "colorbar": {
              "outlinewidth": 0,
              "ticks": ""
             }
            },
            "type": "scattergeo"
           }
          ],
          "scattergl": [
           {
            "marker": {
             "colorbar": {
              "outlinewidth": 0,
              "ticks": ""
             }
            },
            "type": "scattergl"
           }
          ],
          "scattermapbox": [
           {
            "marker": {
             "colorbar": {
              "outlinewidth": 0,
              "ticks": ""
             }
            },
            "type": "scattermapbox"
           }
          ],
          "scatterpolar": [
           {
            "marker": {
             "colorbar": {
              "outlinewidth": 0,
              "ticks": ""
             }
            },
            "type": "scatterpolar"
           }
          ],
          "scatterpolargl": [
           {
            "marker": {
             "colorbar": {
              "outlinewidth": 0,
              "ticks": ""
             }
            },
            "type": "scatterpolargl"
           }
          ],
          "scatterternary": [
           {
            "marker": {
             "colorbar": {
              "outlinewidth": 0,
              "ticks": ""
             }
            },
            "type": "scatterternary"
           }
          ],
          "surface": [
           {
            "colorbar": {
             "outlinewidth": 0,
             "ticks": ""
            },
            "colorscale": [
             [
              0,
              "#0d0887"
             ],
             [
              0.1111111111111111,
              "#46039f"
             ],
             [
              0.2222222222222222,
              "#7201a8"
             ],
             [
              0.3333333333333333,
              "#9c179e"
             ],
             [
              0.4444444444444444,
              "#bd3786"
             ],
             [
              0.5555555555555556,
              "#d8576b"
             ],
             [
              0.6666666666666666,
              "#ed7953"
             ],
             [
              0.7777777777777778,
              "#fb9f3a"
             ],
             [
              0.8888888888888888,
              "#fdca26"
             ],
             [
              1,
              "#f0f921"
             ]
            ],
            "type": "surface"
           }
          ],
          "table": [
           {
            "cells": {
             "fill": {
              "color": "#EBF0F8"
             },
             "line": {
              "color": "white"
             }
            },
            "header": {
             "fill": {
              "color": "#C8D4E3"
             },
             "line": {
              "color": "white"
             }
            },
            "type": "table"
           }
          ]
         },
         "layout": {
          "annotationdefaults": {
           "arrowcolor": "#2a3f5f",
           "arrowhead": 0,
           "arrowwidth": 1
          },
          "autotypenumbers": "strict",
          "coloraxis": {
           "colorbar": {
            "outlinewidth": 0,
            "ticks": ""
           }
          },
          "colorscale": {
           "diverging": [
            [
             0,
             "#8e0152"
            ],
            [
             0.1,
             "#c51b7d"
            ],
            [
             0.2,
             "#de77ae"
            ],
            [
             0.3,
             "#f1b6da"
            ],
            [
             0.4,
             "#fde0ef"
            ],
            [
             0.5,
             "#f7f7f7"
            ],
            [
             0.6,
             "#e6f5d0"
            ],
            [
             0.7,
             "#b8e186"
            ],
            [
             0.8,
             "#7fbc41"
            ],
            [
             0.9,
             "#4d9221"
            ],
            [
             1,
             "#276419"
            ]
           ],
           "sequential": [
            [
             0,
             "#0d0887"
            ],
            [
             0.1111111111111111,
             "#46039f"
            ],
            [
             0.2222222222222222,
             "#7201a8"
            ],
            [
             0.3333333333333333,
             "#9c179e"
            ],
            [
             0.4444444444444444,
             "#bd3786"
            ],
            [
             0.5555555555555556,
             "#d8576b"
            ],
            [
             0.6666666666666666,
             "#ed7953"
            ],
            [
             0.7777777777777778,
             "#fb9f3a"
            ],
            [
             0.8888888888888888,
             "#fdca26"
            ],
            [
             1,
             "#f0f921"
            ]
           ],
           "sequentialminus": [
            [
             0,
             "#0d0887"
            ],
            [
             0.1111111111111111,
             "#46039f"
            ],
            [
             0.2222222222222222,
             "#7201a8"
            ],
            [
             0.3333333333333333,
             "#9c179e"
            ],
            [
             0.4444444444444444,
             "#bd3786"
            ],
            [
             0.5555555555555556,
             "#d8576b"
            ],
            [
             0.6666666666666666,
             "#ed7953"
            ],
            [
             0.7777777777777778,
             "#fb9f3a"
            ],
            [
             0.8888888888888888,
             "#fdca26"
            ],
            [
             1,
             "#f0f921"
            ]
           ]
          },
          "colorway": [
           "#636efa",
           "#EF553B",
           "#00cc96",
           "#ab63fa",
           "#FFA15A",
           "#19d3f3",
           "#FF6692",
           "#B6E880",
           "#FF97FF",
           "#FECB52"
          ],
          "font": {
           "color": "#2a3f5f"
          },
          "geo": {
           "bgcolor": "white",
           "lakecolor": "white",
           "landcolor": "#E5ECF6",
           "showlakes": true,
           "showland": true,
           "subunitcolor": "white"
          },
          "hoverlabel": {
           "align": "left"
          },
          "hovermode": "closest",
          "mapbox": {
           "style": "light"
          },
          "paper_bgcolor": "white",
          "plot_bgcolor": "#E5ECF6",
          "polar": {
           "angularaxis": {
            "gridcolor": "white",
            "linecolor": "white",
            "ticks": ""
           },
           "bgcolor": "#E5ECF6",
           "radialaxis": {
            "gridcolor": "white",
            "linecolor": "white",
            "ticks": ""
           }
          },
          "scene": {
           "xaxis": {
            "backgroundcolor": "#E5ECF6",
            "gridcolor": "white",
            "gridwidth": 2,
            "linecolor": "white",
            "showbackground": true,
            "ticks": "",
            "zerolinecolor": "white"
           },
           "yaxis": {
            "backgroundcolor": "#E5ECF6",
            "gridcolor": "white",
            "gridwidth": 2,
            "linecolor": "white",
            "showbackground": true,
            "ticks": "",
            "zerolinecolor": "white"
           },
           "zaxis": {
            "backgroundcolor": "#E5ECF6",
            "gridcolor": "white",
            "gridwidth": 2,
            "linecolor": "white",
            "showbackground": true,
            "ticks": "",
            "zerolinecolor": "white"
           }
          },
          "shapedefaults": {
           "line": {
            "color": "#2a3f5f"
           }
          },
          "ternary": {
           "aaxis": {
            "gridcolor": "white",
            "linecolor": "white",
            "ticks": ""
           },
           "baxis": {
            "gridcolor": "white",
            "linecolor": "white",
            "ticks": ""
           },
           "bgcolor": "#E5ECF6",
           "caxis": {
            "gridcolor": "white",
            "linecolor": "white",
            "ticks": ""
           }
          },
          "title": {
           "x": 0.05
          },
          "xaxis": {
           "automargin": true,
           "gridcolor": "white",
           "linecolor": "white",
           "ticks": "",
           "title": {
            "standoff": 15
           },
           "zerolinecolor": "white",
           "zerolinewidth": 2
          },
          "yaxis": {
           "automargin": true,
           "gridcolor": "white",
           "linecolor": "white",
           "ticks": "",
           "title": {
            "standoff": 15
           },
           "zerolinecolor": "white",
           "zerolinewidth": 2
          }
         }
        },
        "title": {
         "text": "국가, 카테고리별 할인율과 이익 비교"
        },
        "width": 1000,
        "xaxis": {
         "anchor": "y",
         "domain": [
          0,
          0.31999999999999995
         ],
         "title": {
          "text": "Discount"
         }
        },
        "xaxis2": {
         "anchor": "y2",
         "domain": [
          0.33999999999999997,
          0.6599999999999999
         ],
         "matches": "x",
         "title": {
          "text": "Discount"
         }
        },
        "xaxis3": {
         "anchor": "y3",
         "domain": [
          0.6799999999999999,
          0.9999999999999999
         ],
         "matches": "x",
         "title": {
          "text": "Discount"
         }
        },
        "yaxis": {
         "anchor": "x",
         "domain": [
          0,
          1
         ],
         "title": {
          "text": "Profit"
         }
        },
        "yaxis2": {
         "anchor": "x2",
         "domain": [
          0,
          1
         ],
         "matches": "y",
         "showticklabels": false
        },
        "yaxis3": {
         "anchor": "x3",
         "domain": [
          0,
          1
         ],
         "matches": "y",
         "showticklabels": false
        }
       }
      }
     },
     "metadata": {},
     "output_type": "display_data"
    }
   ],
   "source": [
    "df_copy = df[['Country', 'Category', 'Sales', 'Discount', 'Quantity', 'Profit']].copy()\n",
    "df_copy = df_copy[df_copy['Country'].isin(['Australia', 'China'])]  \n",
    "\n",
    "color_map = {\"China\": \"#E74C3C\", \"Australia\": \"#3498DB\"}\n",
    "\n",
    "fig = px.scatter(df_copy, \n",
    "                 x=\"Discount\", y=\"Profit\", \n",
    "                 color=\"Country\", \n",
    "                 size=\"Sales\", \n",
    "                 facet_col=\"Category\",  \n",
    "                 title=\"국가, 카테고리별 할인율과 이익 비교\",\n",
    "                 color_discrete_map=color_map)  \n",
    "\n",
    "fig.update_layout(width=1000, height=800, \n",
    "                  font=dict(size=12)) \n",
    "\n",
    "fig.show()\n",
    "\n"
   ]
  },
  {
   "cell_type": "code",
   "execution_count": 61,
   "metadata": {},
   "outputs": [
    {
     "data": {
      "text/html": [
       "<table class=\"simpletable\">\n",
       "<caption>OLS Regression Results</caption>\n",
       "<tr>\n",
       "  <th>Dep. Variable:</th>         <td>Profit</td>      <th>  R-squared:         </th> <td>   0.085</td> \n",
       "</tr>\n",
       "<tr>\n",
       "  <th>Model:</th>                   <td>OLS</td>       <th>  Adj. R-squared:    </th> <td>   0.085</td> \n",
       "</tr>\n",
       "<tr>\n",
       "  <th>Method:</th>             <td>Least Squares</td>  <th>  F-statistic:       </th> <td>   264.1</td> \n",
       "</tr>\n",
       "<tr>\n",
       "  <th>Date:</th>             <td>Sat, 10 May 2025</td> <th>  Prob (F-statistic):</th> <td>7.45e-57</td> \n",
       "</tr>\n",
       "<tr>\n",
       "  <th>Time:</th>                 <td>16:11:28</td>     <th>  Log-Likelihood:    </th> <td> -18118.</td> \n",
       "</tr>\n",
       "<tr>\n",
       "  <th>No. Observations:</th>      <td>  2837</td>      <th>  AIC:               </th> <td>3.624e+04</td>\n",
       "</tr>\n",
       "<tr>\n",
       "  <th>Df Residuals:</th>          <td>  2835</td>      <th>  BIC:               </th> <td>3.625e+04</td>\n",
       "</tr>\n",
       "<tr>\n",
       "  <th>Df Model:</th>              <td>     1</td>      <th>                     </th>     <td> </td>    \n",
       "</tr>\n",
       "<tr>\n",
       "  <th>Covariance Type:</th>      <td>nonrobust</td>    <th>                     </th>     <td> </td>    \n",
       "</tr>\n",
       "</table>\n",
       "<table class=\"simpletable\">\n",
       "<tr>\n",
       "      <td></td>        <th>coef</th>     <th>std err</th>      <th>t</th>      <th>P>|t|</th>  <th>[0.025</th>    <th>0.975]</th>  \n",
       "</tr>\n",
       "<tr>\n",
       "  <th>const</th>    <td>   90.7715</td> <td>    4.287</td> <td>   21.175</td> <td> 0.000</td> <td>   82.366</td> <td>   99.177</td>\n",
       "</tr>\n",
       "<tr>\n",
       "  <th>Discount</th> <td> -377.2381</td> <td>   23.212</td> <td>  -16.252</td> <td> 0.000</td> <td> -422.752</td> <td> -331.724</td>\n",
       "</tr>\n",
       "</table>\n",
       "<table class=\"simpletable\">\n",
       "<tr>\n",
       "  <th>Omnibus:</th>       <td>2460.998</td> <th>  Durbin-Watson:     </th>  <td>   1.935</td> \n",
       "</tr>\n",
       "<tr>\n",
       "  <th>Prob(Omnibus):</th>  <td> 0.000</td>  <th>  Jarque-Bera (JB):  </th> <td>228343.790</td>\n",
       "</tr>\n",
       "<tr>\n",
       "  <th>Skew:</th>           <td> 3.629</td>  <th>  Prob(JB):          </th>  <td>    0.00</td> \n",
       "</tr>\n",
       "<tr>\n",
       "  <th>Kurtosis:</th>       <td>46.348</td>  <th>  Cond. No.          </th>  <td>    8.78</td> \n",
       "</tr>\n",
       "</table><br/><br/>Notes:<br/>[1] Standard Errors assume that the covariance matrix of the errors is correctly specified."
      ],
      "text/latex": [
       "\\begin{center}\n",
       "\\begin{tabular}{lclc}\n",
       "\\toprule\n",
       "\\textbf{Dep. Variable:}    &      Profit      & \\textbf{  R-squared:         } &     0.085   \\\\\n",
       "\\textbf{Model:}            &       OLS        & \\textbf{  Adj. R-squared:    } &     0.085   \\\\\n",
       "\\textbf{Method:}           &  Least Squares   & \\textbf{  F-statistic:       } &     264.1   \\\\\n",
       "\\textbf{Date:}             & Sat, 10 May 2025 & \\textbf{  Prob (F-statistic):} &  7.45e-57   \\\\\n",
       "\\textbf{Time:}             &     16:11:28     & \\textbf{  Log-Likelihood:    } &   -18118.   \\\\\n",
       "\\textbf{No. Observations:} &        2837      & \\textbf{  AIC:               } & 3.624e+04   \\\\\n",
       "\\textbf{Df Residuals:}     &        2835      & \\textbf{  BIC:               } & 3.625e+04   \\\\\n",
       "\\textbf{Df Model:}         &           1      & \\textbf{                     } &             \\\\\n",
       "\\textbf{Covariance Type:}  &    nonrobust     & \\textbf{                     } &             \\\\\n",
       "\\bottomrule\n",
       "\\end{tabular}\n",
       "\\begin{tabular}{lcccccc}\n",
       "                  & \\textbf{coef} & \\textbf{std err} & \\textbf{t} & \\textbf{P$> |$t$|$} & \\textbf{[0.025} & \\textbf{0.975]}  \\\\\n",
       "\\midrule\n",
       "\\textbf{const}    &      90.7715  &        4.287     &    21.175  &         0.000        &       82.366    &       99.177     \\\\\n",
       "\\textbf{Discount} &    -377.2381  &       23.212     &   -16.252  &         0.000        &     -422.752    &     -331.724     \\\\\n",
       "\\bottomrule\n",
       "\\end{tabular}\n",
       "\\begin{tabular}{lclc}\n",
       "\\textbf{Omnibus:}       & 2460.998 & \\textbf{  Durbin-Watson:     } &     1.935   \\\\\n",
       "\\textbf{Prob(Omnibus):} &   0.000  & \\textbf{  Jarque-Bera (JB):  } & 228343.790  \\\\\n",
       "\\textbf{Skew:}          &   3.629  & \\textbf{  Prob(JB):          } &      0.00   \\\\\n",
       "\\textbf{Kurtosis:}      &  46.348  & \\textbf{  Cond. No.          } &      8.78   \\\\\n",
       "\\bottomrule\n",
       "\\end{tabular}\n",
       "%\\caption{OLS Regression Results}\n",
       "\\end{center}\n",
       "\n",
       "Notes: \\newline\n",
       " [1] Standard Errors assume that the covariance matrix of the errors is correctly specified."
      ],
      "text/plain": [
       "<class 'statsmodels.iolib.summary.Summary'>\n",
       "\"\"\"\n",
       "                            OLS Regression Results                            \n",
       "==============================================================================\n",
       "Dep. Variable:                 Profit   R-squared:                       0.085\n",
       "Model:                            OLS   Adj. R-squared:                  0.085\n",
       "Method:                 Least Squares   F-statistic:                     264.1\n",
       "Date:                Sat, 10 May 2025   Prob (F-statistic):           7.45e-57\n",
       "Time:                        16:11:28   Log-Likelihood:                -18118.\n",
       "No. Observations:                2837   AIC:                         3.624e+04\n",
       "Df Residuals:                    2835   BIC:                         3.625e+04\n",
       "Df Model:                           1                                         \n",
       "Covariance Type:            nonrobust                                         \n",
       "==============================================================================\n",
       "                 coef    std err          t      P>|t|      [0.025      0.975]\n",
       "------------------------------------------------------------------------------\n",
       "const         90.7715      4.287     21.175      0.000      82.366      99.177\n",
       "Discount    -377.2381     23.212    -16.252      0.000    -422.752    -331.724\n",
       "==============================================================================\n",
       "Omnibus:                     2460.998   Durbin-Watson:                   1.935\n",
       "Prob(Omnibus):                  0.000   Jarque-Bera (JB):           228343.790\n",
       "Skew:                           3.629   Prob(JB):                         0.00\n",
       "Kurtosis:                      46.348   Cond. No.                         8.78\n",
       "==============================================================================\n",
       "\n",
       "Notes:\n",
       "[1] Standard Errors assume that the covariance matrix of the errors is correctly specified.\n",
       "\"\"\""
      ]
     },
     "execution_count": 61,
     "metadata": {},
     "output_type": "execute_result"
    }
   ],
   "source": [
    "model.summary()"
   ]
  },
  {
   "cell_type": "markdown",
   "metadata": {},
   "source": [
    "### 최적 할인율 상한선 그래프"
   ]
  },
  {
   "cell_type": "code",
   "execution_count": 62,
   "metadata": {},
   "outputs": [
    {
     "name": "stderr",
     "output_type": "stream",
     "text": [
      "C:\\Users\\xodbs\\AppData\\Local\\Temp\\ipykernel_14284\\2781203004.py:2: SettingWithCopyWarning:\n",
      "\n",
      "\n",
      "A value is trying to be set on a copy of a slice from a DataFrame.\n",
      "Try using .loc[row_indexer,col_indexer] = value instead\n",
      "\n",
      "See the caveats in the documentation: https://pandas.pydata.org/pandas-docs/stable/user_guide/indexing.html#returning-a-view-versus-a-copy\n",
      "\n",
      "C:\\Users\\xodbs\\AppData\\Local\\Temp\\ipykernel_14284\\2781203004.py:18: FutureWarning:\n",
      "\n",
      "Series.__getitem__ treating keys as positions is deprecated. In a future version, integer keys will always be treated as labels (consistent with DataFrame behavior). To access a value by position, use `ser.iloc[pos]`\n",
      "\n",
      "C:\\Users\\xodbs\\AppData\\Local\\Temp\\ipykernel_14284\\2781203004.py:19: FutureWarning:\n",
      "\n",
      "Series.__getitem__ treating keys as positions is deprecated. In a future version, integer keys will always be treated as labels (consistent with DataFrame behavior). To access a value by position, use `ser.iloc[pos]`\n",
      "\n"
     ]
    },
    {
     "data": {
      "application/vnd.plotly.v1+json": {
       "config": {
        "plotlyServerURL": "https://plot.ly"
       },
       "data": [
        {
         "cliponaxis": false,
         "hovertemplate": "평균 할인율 (%)=%{x}<br>이익률 (%)=%{y}<br>Year-Quarter=%{text}<extra></extra>",
         "legendgroup": "",
         "marker": {
          "color": "#636efa",
          "size": 10,
          "symbol": "circle"
         },
         "mode": "markers+text",
         "name": "",
         "orientation": "v",
         "showlegend": false,
         "text": [
          "2011-1Q",
          "2011-2Q",
          "2011-3Q",
          "2011-4Q",
          "2012-1Q",
          "2012-2Q",
          "2012-3Q",
          "2012-4Q",
          "2013-1Q",
          "2013-2Q",
          "2013-3Q",
          "2013-4Q",
          "2014-1Q",
          "2014-2Q",
          "2014-3Q",
          "2014-4Q"
         ],
         "textfont": {
          "size": 12
         },
         "textposition": "top center",
         "type": "scatter",
         "x": [
          12.205882352941176,
          13.981481481481481,
          13.761467889908257,
          13.23943661971831,
          17.181818181818183,
          12.415730337078651,
          12.569444444444445,
          14.300518134715025,
          9.91150442477876,
          15.660377358490566,
          11.85022026431718,
          18.106995884773664,
          15.36144578313253,
          14.738675958188153,
          15.714285714285714,
          14.34640522875817
         ],
         "xaxis": "x",
         "y": [
          14.177605528576764,
          20.164634321292283,
          4.247620932626078,
          13.534773873467548,
          8.133375547978568,
          20.538986181663173,
          7.699705026751022,
          11.336137122263906,
          12.449463920009638,
          11.78702988412279,
          12.689581033949935,
          7.64848182419752,
          8.051120573733751,
          13.364037696755005,
          6.109834885358792,
          10.99073586712916
         ],
         "yaxis": "y"
        },
        {
         "cliponaxis": false,
         "hovertemplate": "<b>OLS trendline</b><br>Profit Margin = -0.906375 * Discount_ratio + 24.1982<br>R<sup>2</sup>=0.173003<br><br>평균 할인율 (%)=%{x}<br>이익률 (%)=%{y} <b>(trend)</b><extra></extra>",
         "legendgroup": "",
         "line": {
          "color": "red"
         },
         "marker": {
          "color": "#636efa",
          "size": 10,
          "symbol": "circle"
         },
         "mode": "lines",
         "name": "",
         "showlegend": false,
         "textfont": {
          "size": 12
         },
         "textposition": "top center",
         "type": "scatter",
         "x": [
          9.91150442477876,
          11.85022026431718,
          12.205882352941176,
          12.415730337078651,
          12.569444444444445,
          13.23943661971831,
          13.761467889908257,
          13.981481481481481,
          14.300518134715025,
          14.34640522875817,
          14.738675958188153,
          15.36144578313253,
          15.660377358490566,
          15.714285714285714,
          17.181818181818183,
          18.106995884773664
         ],
         "xaxis": "x",
         "y": [
          15.214637417395936,
          13.457433505683358,
          13.135070217246644,
          12.944869213535258,
          12.805546562303974,
          12.19828228602491,
          11.725126101242068,
          11.525711243294424,
          11.236544340332953,
          11.194953417359457,
          10.839408965641962,
          10.274945855488925,
          10.004001696040262,
          9.955140500528607,
          8.625005500895432,
          7.786447396862151
         ],
         "yaxis": "y"
        }
       ],
       "layout": {
        "annotations": [
         {
          "showarrow": false,
          "text": "최소 목표 이익률 만족 할인율 ≈ 14.08%",
          "x": 14.084105628676905,
          "xanchor": "left",
          "xref": "x",
          "y": 1,
          "yanchor": "top",
          "yref": "y domain"
         }
        ],
        "legend": {
         "tracegroupgap": 0
        },
        "shapes": [
         {
          "line": {
           "color": "green",
           "dash": "dot"
          },
          "type": "line",
          "x0": 14.084105628676905,
          "x1": 14.084105628676905,
          "xref": "x",
          "y0": 0,
          "y1": 1,
          "yref": "y domain"
         }
        ],
        "template": {
         "data": {
          "bar": [
           {
            "error_x": {
             "color": "#2a3f5f"
            },
            "error_y": {
             "color": "#2a3f5f"
            },
            "marker": {
             "line": {
              "color": "#E5ECF6",
              "width": 0.5
             },
             "pattern": {
              "fillmode": "overlay",
              "size": 10,
              "solidity": 0.2
             }
            },
            "type": "bar"
           }
          ],
          "barpolar": [
           {
            "marker": {
             "line": {
              "color": "#E5ECF6",
              "width": 0.5
             },
             "pattern": {
              "fillmode": "overlay",
              "size": 10,
              "solidity": 0.2
             }
            },
            "type": "barpolar"
           }
          ],
          "carpet": [
           {
            "aaxis": {
             "endlinecolor": "#2a3f5f",
             "gridcolor": "white",
             "linecolor": "white",
             "minorgridcolor": "white",
             "startlinecolor": "#2a3f5f"
            },
            "baxis": {
             "endlinecolor": "#2a3f5f",
             "gridcolor": "white",
             "linecolor": "white",
             "minorgridcolor": "white",
             "startlinecolor": "#2a3f5f"
            },
            "type": "carpet"
           }
          ],
          "choropleth": [
           {
            "colorbar": {
             "outlinewidth": 0,
             "ticks": ""
            },
            "type": "choropleth"
           }
          ],
          "contour": [
           {
            "colorbar": {
             "outlinewidth": 0,
             "ticks": ""
            },
            "colorscale": [
             [
              0,
              "#0d0887"
             ],
             [
              0.1111111111111111,
              "#46039f"
             ],
             [
              0.2222222222222222,
              "#7201a8"
             ],
             [
              0.3333333333333333,
              "#9c179e"
             ],
             [
              0.4444444444444444,
              "#bd3786"
             ],
             [
              0.5555555555555556,
              "#d8576b"
             ],
             [
              0.6666666666666666,
              "#ed7953"
             ],
             [
              0.7777777777777778,
              "#fb9f3a"
             ],
             [
              0.8888888888888888,
              "#fdca26"
             ],
             [
              1,
              "#f0f921"
             ]
            ],
            "type": "contour"
           }
          ],
          "contourcarpet": [
           {
            "colorbar": {
             "outlinewidth": 0,
             "ticks": ""
            },
            "type": "contourcarpet"
           }
          ],
          "heatmap": [
           {
            "colorbar": {
             "outlinewidth": 0,
             "ticks": ""
            },
            "colorscale": [
             [
              0,
              "#0d0887"
             ],
             [
              0.1111111111111111,
              "#46039f"
             ],
             [
              0.2222222222222222,
              "#7201a8"
             ],
             [
              0.3333333333333333,
              "#9c179e"
             ],
             [
              0.4444444444444444,
              "#bd3786"
             ],
             [
              0.5555555555555556,
              "#d8576b"
             ],
             [
              0.6666666666666666,
              "#ed7953"
             ],
             [
              0.7777777777777778,
              "#fb9f3a"
             ],
             [
              0.8888888888888888,
              "#fdca26"
             ],
             [
              1,
              "#f0f921"
             ]
            ],
            "type": "heatmap"
           }
          ],
          "heatmapgl": [
           {
            "colorbar": {
             "outlinewidth": 0,
             "ticks": ""
            },
            "colorscale": [
             [
              0,
              "#0d0887"
             ],
             [
              0.1111111111111111,
              "#46039f"
             ],
             [
              0.2222222222222222,
              "#7201a8"
             ],
             [
              0.3333333333333333,
              "#9c179e"
             ],
             [
              0.4444444444444444,
              "#bd3786"
             ],
             [
              0.5555555555555556,
              "#d8576b"
             ],
             [
              0.6666666666666666,
              "#ed7953"
             ],
             [
              0.7777777777777778,
              "#fb9f3a"
             ],
             [
              0.8888888888888888,
              "#fdca26"
             ],
             [
              1,
              "#f0f921"
             ]
            ],
            "type": "heatmapgl"
           }
          ],
          "histogram": [
           {
            "marker": {
             "pattern": {
              "fillmode": "overlay",
              "size": 10,
              "solidity": 0.2
             }
            },
            "type": "histogram"
           }
          ],
          "histogram2d": [
           {
            "colorbar": {
             "outlinewidth": 0,
             "ticks": ""
            },
            "colorscale": [
             [
              0,
              "#0d0887"
             ],
             [
              0.1111111111111111,
              "#46039f"
             ],
             [
              0.2222222222222222,
              "#7201a8"
             ],
             [
              0.3333333333333333,
              "#9c179e"
             ],
             [
              0.4444444444444444,
              "#bd3786"
             ],
             [
              0.5555555555555556,
              "#d8576b"
             ],
             [
              0.6666666666666666,
              "#ed7953"
             ],
             [
              0.7777777777777778,
              "#fb9f3a"
             ],
             [
              0.8888888888888888,
              "#fdca26"
             ],
             [
              1,
              "#f0f921"
             ]
            ],
            "type": "histogram2d"
           }
          ],
          "histogram2dcontour": [
           {
            "colorbar": {
             "outlinewidth": 0,
             "ticks": ""
            },
            "colorscale": [
             [
              0,
              "#0d0887"
             ],
             [
              0.1111111111111111,
              "#46039f"
             ],
             [
              0.2222222222222222,
              "#7201a8"
             ],
             [
              0.3333333333333333,
              "#9c179e"
             ],
             [
              0.4444444444444444,
              "#bd3786"
             ],
             [
              0.5555555555555556,
              "#d8576b"
             ],
             [
              0.6666666666666666,
              "#ed7953"
             ],
             [
              0.7777777777777778,
              "#fb9f3a"
             ],
             [
              0.8888888888888888,
              "#fdca26"
             ],
             [
              1,
              "#f0f921"
             ]
            ],
            "type": "histogram2dcontour"
           }
          ],
          "mesh3d": [
           {
            "colorbar": {
             "outlinewidth": 0,
             "ticks": ""
            },
            "type": "mesh3d"
           }
          ],
          "parcoords": [
           {
            "line": {
             "colorbar": {
              "outlinewidth": 0,
              "ticks": ""
             }
            },
            "type": "parcoords"
           }
          ],
          "pie": [
           {
            "automargin": true,
            "type": "pie"
           }
          ],
          "scatter": [
           {
            "fillpattern": {
             "fillmode": "overlay",
             "size": 10,
             "solidity": 0.2
            },
            "type": "scatter"
           }
          ],
          "scatter3d": [
           {
            "line": {
             "colorbar": {
              "outlinewidth": 0,
              "ticks": ""
             }
            },
            "marker": {
             "colorbar": {
              "outlinewidth": 0,
              "ticks": ""
             }
            },
            "type": "scatter3d"
           }
          ],
          "scattercarpet": [
           {
            "marker": {
             "colorbar": {
              "outlinewidth": 0,
              "ticks": ""
             }
            },
            "type": "scattercarpet"
           }
          ],
          "scattergeo": [
           {
            "marker": {
             "colorbar": {
              "outlinewidth": 0,
              "ticks": ""
             }
            },
            "type": "scattergeo"
           }
          ],
          "scattergl": [
           {
            "marker": {
             "colorbar": {
              "outlinewidth": 0,
              "ticks": ""
             }
            },
            "type": "scattergl"
           }
          ],
          "scattermapbox": [
           {
            "marker": {
             "colorbar": {
              "outlinewidth": 0,
              "ticks": ""
             }
            },
            "type": "scattermapbox"
           }
          ],
          "scatterpolar": [
           {
            "marker": {
             "colorbar": {
              "outlinewidth": 0,
              "ticks": ""
             }
            },
            "type": "scatterpolar"
           }
          ],
          "scatterpolargl": [
           {
            "marker": {
             "colorbar": {
              "outlinewidth": 0,
              "ticks": ""
             }
            },
            "type": "scatterpolargl"
           }
          ],
          "scatterternary": [
           {
            "marker": {
             "colorbar": {
              "outlinewidth": 0,
              "ticks": ""
             }
            },
            "type": "scatterternary"
           }
          ],
          "surface": [
           {
            "colorbar": {
             "outlinewidth": 0,
             "ticks": ""
            },
            "colorscale": [
             [
              0,
              "#0d0887"
             ],
             [
              0.1111111111111111,
              "#46039f"
             ],
             [
              0.2222222222222222,
              "#7201a8"
             ],
             [
              0.3333333333333333,
              "#9c179e"
             ],
             [
              0.4444444444444444,
              "#bd3786"
             ],
             [
              0.5555555555555556,
              "#d8576b"
             ],
             [
              0.6666666666666666,
              "#ed7953"
             ],
             [
              0.7777777777777778,
              "#fb9f3a"
             ],
             [
              0.8888888888888888,
              "#fdca26"
             ],
             [
              1,
              "#f0f921"
             ]
            ],
            "type": "surface"
           }
          ],
          "table": [
           {
            "cells": {
             "fill": {
              "color": "#EBF0F8"
             },
             "line": {
              "color": "white"
             }
            },
            "header": {
             "fill": {
              "color": "#C8D4E3"
             },
             "line": {
              "color": "white"
             }
            },
            "type": "table"
           }
          ]
         },
         "layout": {
          "annotationdefaults": {
           "arrowcolor": "#2a3f5f",
           "arrowhead": 0,
           "arrowwidth": 1
          },
          "autotypenumbers": "strict",
          "coloraxis": {
           "colorbar": {
            "outlinewidth": 0,
            "ticks": ""
           }
          },
          "colorscale": {
           "diverging": [
            [
             0,
             "#8e0152"
            ],
            [
             0.1,
             "#c51b7d"
            ],
            [
             0.2,
             "#de77ae"
            ],
            [
             0.3,
             "#f1b6da"
            ],
            [
             0.4,
             "#fde0ef"
            ],
            [
             0.5,
             "#f7f7f7"
            ],
            [
             0.6,
             "#e6f5d0"
            ],
            [
             0.7,
             "#b8e186"
            ],
            [
             0.8,
             "#7fbc41"
            ],
            [
             0.9,
             "#4d9221"
            ],
            [
             1,
             "#276419"
            ]
           ],
           "sequential": [
            [
             0,
             "#0d0887"
            ],
            [
             0.1111111111111111,
             "#46039f"
            ],
            [
             0.2222222222222222,
             "#7201a8"
            ],
            [
             0.3333333333333333,
             "#9c179e"
            ],
            [
             0.4444444444444444,
             "#bd3786"
            ],
            [
             0.5555555555555556,
             "#d8576b"
            ],
            [
             0.6666666666666666,
             "#ed7953"
            ],
            [
             0.7777777777777778,
             "#fb9f3a"
            ],
            [
             0.8888888888888888,
             "#fdca26"
            ],
            [
             1,
             "#f0f921"
            ]
           ],
           "sequentialminus": [
            [
             0,
             "#0d0887"
            ],
            [
             0.1111111111111111,
             "#46039f"
            ],
            [
             0.2222222222222222,
             "#7201a8"
            ],
            [
             0.3333333333333333,
             "#9c179e"
            ],
            [
             0.4444444444444444,
             "#bd3786"
            ],
            [
             0.5555555555555556,
             "#d8576b"
            ],
            [
             0.6666666666666666,
             "#ed7953"
            ],
            [
             0.7777777777777778,
             "#fb9f3a"
            ],
            [
             0.8888888888888888,
             "#fdca26"
            ],
            [
             1,
             "#f0f921"
            ]
           ]
          },
          "colorway": [
           "#636efa",
           "#EF553B",
           "#00cc96",
           "#ab63fa",
           "#FFA15A",
           "#19d3f3",
           "#FF6692",
           "#B6E880",
           "#FF97FF",
           "#FECB52"
          ],
          "font": {
           "color": "#2a3f5f"
          },
          "geo": {
           "bgcolor": "white",
           "lakecolor": "white",
           "landcolor": "#E5ECF6",
           "showlakes": true,
           "showland": true,
           "subunitcolor": "white"
          },
          "hoverlabel": {
           "align": "left"
          },
          "hovermode": "closest",
          "mapbox": {
           "style": "light"
          },
          "paper_bgcolor": "white",
          "plot_bgcolor": "#E5ECF6",
          "polar": {
           "angularaxis": {
            "gridcolor": "white",
            "linecolor": "white",
            "ticks": ""
           },
           "bgcolor": "#E5ECF6",
           "radialaxis": {
            "gridcolor": "white",
            "linecolor": "white",
            "ticks": ""
           }
          },
          "scene": {
           "xaxis": {
            "backgroundcolor": "#E5ECF6",
            "gridcolor": "white",
            "gridwidth": 2,
            "linecolor": "white",
            "showbackground": true,
            "ticks": "",
            "zerolinecolor": "white"
           },
           "yaxis": {
            "backgroundcolor": "#E5ECF6",
            "gridcolor": "white",
            "gridwidth": 2,
            "linecolor": "white",
            "showbackground": true,
            "ticks": "",
            "zerolinecolor": "white"
           },
           "zaxis": {
            "backgroundcolor": "#E5ECF6",
            "gridcolor": "white",
            "gridwidth": 2,
            "linecolor": "white",
            "showbackground": true,
            "ticks": "",
            "zerolinecolor": "white"
           }
          },
          "shapedefaults": {
           "line": {
            "color": "#2a3f5f"
           }
          },
          "ternary": {
           "aaxis": {
            "gridcolor": "white",
            "linecolor": "white",
            "ticks": ""
           },
           "baxis": {
            "gridcolor": "white",
            "linecolor": "white",
            "ticks": ""
           },
           "bgcolor": "#E5ECF6",
           "caxis": {
            "gridcolor": "white",
            "linecolor": "white",
            "ticks": ""
           }
          },
          "title": {
           "x": 0.05
          },
          "xaxis": {
           "automargin": true,
           "gridcolor": "white",
           "linecolor": "white",
           "ticks": "",
           "title": {
            "standoff": 15
           },
           "zerolinecolor": "white",
           "zerolinewidth": 2
          },
          "yaxis": {
           "automargin": true,
           "gridcolor": "white",
           "linecolor": "white",
           "ticks": "",
           "title": {
            "standoff": 15
           },
           "zerolinecolor": "white",
           "zerolinewidth": 2
          }
         }
        },
        "title": {
         "text": "호주의 분기 할인율과 이익률의 관계"
        },
        "xaxis": {
         "anchor": "y",
         "domain": [
          0,
          1
         ],
         "title": {
          "text": "평균 할인율 (%)"
         }
        },
        "yaxis": {
         "anchor": "x",
         "domain": [
          0,
          1
         ],
         "title": {
          "text": "이익률 (%)"
         }
        }
       }
      }
     },
     "metadata": {},
     "output_type": "display_data"
    }
   ],
   "source": [
    "australia_df = df[df['Country'] == 'Australia']\n",
    "australia_df['Discount_ratio'] = australia_df['Discount'] * 100\n",
    "\n",
    "discount_profit_trend = australia_df.groupby(['Year', 'Quarter']).agg({'Discount_ratio': 'mean', 'Profit': 'sum', 'Sales': 'sum'}).reset_index()\n",
    "discount_profit_trend['Profit Margin'] = discount_profit_trend['Profit'] / discount_profit_trend['Sales'] * 100\n",
    "discount_profit_trend['Year-Quarter'] = discount_profit_trend['Year'].astype(str) + '-' +discount_profit_trend['Quarter'].astype(str) + 'Q'\n",
    "\n",
    "avg_margin = discount_profit_trend['Profit Margin'].mean()\n",
    "\n",
    "\n",
    "# 회귀선\n",
    "X = discount_profit_trend['Discount_ratio']\n",
    "y = discount_profit_trend['Profit Margin']\n",
    "X_const = sm.add_constant(X)\n",
    "model = sm.OLS(y, X_const).fit()\n",
    "\n",
    "# 이익률과 회귀선이 만나는 지점 계산\n",
    "slope = model.params[1]\n",
    "intercept = model.params[0]\n",
    "optimal_discount = (avg_margin - intercept) / slope\n",
    "\n",
    "fig = px.scatter(\n",
    "    discount_profit_trend, x='Discount_ratio', y='Profit Margin', text=discount_profit_trend['Year-Quarter'],\n",
    "    title='호주의 분기 할인율과 이익률의 관계',\n",
    "    labels={'Discount_ratio': '평균 할인율 (%)', 'Profit Margin': '이익률 (%)'},\n",
    "    trendline='ols',  \n",
    "    trendline_color_override='red'\n",
    ")\n",
    "\n",
    "fig.add_vline(\n",
    "    x=optimal_discount,\n",
    "    line_dash=\"dot\",\n",
    "    line_color=\"green\",\n",
    "    annotation_text=f\"최소 목표 이익률 만족 할인율 ≈ {optimal_discount:.2f}%\",\n",
    "    annotation_position=\"top right\"\n",
    ")\n",
    "\n",
    "fig.update_traces(\n",
    "    marker=dict(size=10), textposition='top center',\n",
    "    textfont=dict(size=12),\n",
    "    cliponaxis=False) \n",
    "\n",
    "fig.show()"
   ]
  },
  {
   "cell_type": "code",
   "execution_count": 63,
   "metadata": {},
   "outputs": [
    {
     "data": {
      "text/plain": [
       "9.91150442477876"
      ]
     },
     "execution_count": 63,
     "metadata": {},
     "output_type": "execute_result"
    }
   ],
   "source": [
    "# 평균 이익률 기준선\n",
    "baseline_margin = 11.23\n",
    "\n",
    "# 조건을 만족하는 연도들\n",
    "valid_years = discount_profit_trend[discount_profit_trend['Profit Margin'] >= baseline_margin]\n",
    "\n",
    "# 하한 할인율\n",
    "lower_discount = valid_years['Discount_ratio'].min()\n",
    "\n",
    "lower_discount"
   ]
  },
  {
   "cell_type": "markdown",
   "metadata": {},
   "source": [
    "### 최적 할인율 그래프"
   ]
  },
  {
   "cell_type": "code",
   "execution_count": 64,
   "metadata": {},
   "outputs": [
    {
     "data": {
      "application/vnd.plotly.v1+json": {
       "config": {
        "plotlyServerURL": "https://plot.ly"
       },
       "data": [
        {
         "hovertemplate": "할인율 (%)=%{x}<br>이익률 (%)=%{y}<br>Year=%{text}<extra></extra>",
         "legendgroup": "",
         "marker": {
          "color": "#636EFA",
          "size": 10,
          "symbol": "circle"
         },
         "mode": "markers+text",
         "name": "",
         "orientation": "v",
         "showlegend": false,
         "text": [
          2011,
          2011,
          2011,
          2011,
          2012,
          2012,
          2012,
          2012,
          2013,
          2013,
          2013,
          2013,
          2014,
          2014,
          2014,
          2014
         ],
         "textposition": "top right",
         "type": "scatter",
         "x": [
          12.205882352941176,
          13.981481481481481,
          13.761467889908257,
          13.23943661971831,
          17.181818181818183,
          12.415730337078651,
          12.569444444444445,
          14.300518134715025,
          9.91150442477876,
          15.660377358490566,
          11.85022026431718,
          18.106995884773664,
          15.36144578313253,
          14.738675958188153,
          15.714285714285714,
          14.34640522875817
         ],
         "xaxis": "x",
         "y": [
          14.177605528576764,
          20.164634321292283,
          4.247620932626078,
          13.534773873467548,
          8.133375547978568,
          20.538986181663173,
          7.699705026751022,
          11.336137122263906,
          12.449463920009638,
          11.78702988412279,
          12.689581033949935,
          7.64848182419752,
          8.051120573733751,
          13.364037696755005,
          6.109834885358792,
          10.99073586712916
         ],
         "yaxis": "y"
        },
        {
         "hovertemplate": "<b>OLS trendline</b><br>Profit Margin = -0.906375 * Discount_ratio + 24.1982<br>R<sup>2</sup>=0.173003<br><br>할인율 (%)=%{x}<br>이익률 (%)=%{y} <b>(trend)</b><extra></extra>",
         "legendgroup": "",
         "line": {
          "color": "red"
         },
         "marker": {
          "color": "#636EFA",
          "size": 10,
          "symbol": "circle"
         },
         "mode": "lines",
         "name": "",
         "showlegend": false,
         "textposition": "top right",
         "type": "scatter",
         "x": [
          9.91150442477876,
          11.85022026431718,
          12.205882352941176,
          12.415730337078651,
          12.569444444444445,
          13.23943661971831,
          13.761467889908257,
          13.981481481481481,
          14.300518134715025,
          14.34640522875817,
          14.738675958188153,
          15.36144578313253,
          15.660377358490566,
          15.714285714285714,
          17.181818181818183,
          18.106995884773664
         ],
         "xaxis": "x",
         "y": [
          15.214637417395936,
          13.457433505683358,
          13.135070217246644,
          12.944869213535258,
          12.805546562303974,
          12.19828228602491,
          11.725126101242068,
          11.525711243294424,
          11.236544340332953,
          11.194953417359457,
          10.839408965641962,
          10.274945855488925,
          10.004001696040262,
          9.955140500528607,
          8.625005500895432,
          7.786447396862151
         ],
         "yaxis": "y"
        }
       ],
       "layout": {
        "annotations": [
         {
          "showarrow": false,
          "text": "최적 할인율 범위",
          "x": 9.91150442477876,
          "xanchor": "left",
          "xref": "x",
          "y": 1,
          "yanchor": "top",
          "yref": "y domain"
         }
        ],
        "legend": {
         "tracegroupgap": 0
        },
        "margin": {
         "t": 60
        },
        "shapes": [
         {
          "fillcolor": "green",
          "layer": "below",
          "line": {
           "width": 0
          },
          "opacity": 0.2,
          "type": "rect",
          "x0": 9.91150442477876,
          "x1": 14.08,
          "xref": "x",
          "y0": 0,
          "y1": 1,
          "yref": "y domain"
         }
        ],
        "template": {
         "data": {
          "bar": [
           {
            "error_x": {
             "color": "#2a3f5f"
            },
            "error_y": {
             "color": "#2a3f5f"
            },
            "marker": {
             "line": {
              "color": "#E5ECF6",
              "width": 0.5
             },
             "pattern": {
              "fillmode": "overlay",
              "size": 10,
              "solidity": 0.2
             }
            },
            "type": "bar"
           }
          ],
          "barpolar": [
           {
            "marker": {
             "line": {
              "color": "#E5ECF6",
              "width": 0.5
             },
             "pattern": {
              "fillmode": "overlay",
              "size": 10,
              "solidity": 0.2
             }
            },
            "type": "barpolar"
           }
          ],
          "carpet": [
           {
            "aaxis": {
             "endlinecolor": "#2a3f5f",
             "gridcolor": "white",
             "linecolor": "white",
             "minorgridcolor": "white",
             "startlinecolor": "#2a3f5f"
            },
            "baxis": {
             "endlinecolor": "#2a3f5f",
             "gridcolor": "white",
             "linecolor": "white",
             "minorgridcolor": "white",
             "startlinecolor": "#2a3f5f"
            },
            "type": "carpet"
           }
          ],
          "choropleth": [
           {
            "colorbar": {
             "outlinewidth": 0,
             "ticks": ""
            },
            "type": "choropleth"
           }
          ],
          "contour": [
           {
            "colorbar": {
             "outlinewidth": 0,
             "ticks": ""
            },
            "colorscale": [
             [
              0,
              "#0d0887"
             ],
             [
              0.1111111111111111,
              "#46039f"
             ],
             [
              0.2222222222222222,
              "#7201a8"
             ],
             [
              0.3333333333333333,
              "#9c179e"
             ],
             [
              0.4444444444444444,
              "#bd3786"
             ],
             [
              0.5555555555555556,
              "#d8576b"
             ],
             [
              0.6666666666666666,
              "#ed7953"
             ],
             [
              0.7777777777777778,
              "#fb9f3a"
             ],
             [
              0.8888888888888888,
              "#fdca26"
             ],
             [
              1,
              "#f0f921"
             ]
            ],
            "type": "contour"
           }
          ],
          "contourcarpet": [
           {
            "colorbar": {
             "outlinewidth": 0,
             "ticks": ""
            },
            "type": "contourcarpet"
           }
          ],
          "heatmap": [
           {
            "colorbar": {
             "outlinewidth": 0,
             "ticks": ""
            },
            "colorscale": [
             [
              0,
              "#0d0887"
             ],
             [
              0.1111111111111111,
              "#46039f"
             ],
             [
              0.2222222222222222,
              "#7201a8"
             ],
             [
              0.3333333333333333,
              "#9c179e"
             ],
             [
              0.4444444444444444,
              "#bd3786"
             ],
             [
              0.5555555555555556,
              "#d8576b"
             ],
             [
              0.6666666666666666,
              "#ed7953"
             ],
             [
              0.7777777777777778,
              "#fb9f3a"
             ],
             [
              0.8888888888888888,
              "#fdca26"
             ],
             [
              1,
              "#f0f921"
             ]
            ],
            "type": "heatmap"
           }
          ],
          "heatmapgl": [
           {
            "colorbar": {
             "outlinewidth": 0,
             "ticks": ""
            },
            "colorscale": [
             [
              0,
              "#0d0887"
             ],
             [
              0.1111111111111111,
              "#46039f"
             ],
             [
              0.2222222222222222,
              "#7201a8"
             ],
             [
              0.3333333333333333,
              "#9c179e"
             ],
             [
              0.4444444444444444,
              "#bd3786"
             ],
             [
              0.5555555555555556,
              "#d8576b"
             ],
             [
              0.6666666666666666,
              "#ed7953"
             ],
             [
              0.7777777777777778,
              "#fb9f3a"
             ],
             [
              0.8888888888888888,
              "#fdca26"
             ],
             [
              1,
              "#f0f921"
             ]
            ],
            "type": "heatmapgl"
           }
          ],
          "histogram": [
           {
            "marker": {
             "pattern": {
              "fillmode": "overlay",
              "size": 10,
              "solidity": 0.2
             }
            },
            "type": "histogram"
           }
          ],
          "histogram2d": [
           {
            "colorbar": {
             "outlinewidth": 0,
             "ticks": ""
            },
            "colorscale": [
             [
              0,
              "#0d0887"
             ],
             [
              0.1111111111111111,
              "#46039f"
             ],
             [
              0.2222222222222222,
              "#7201a8"
             ],
             [
              0.3333333333333333,
              "#9c179e"
             ],
             [
              0.4444444444444444,
              "#bd3786"
             ],
             [
              0.5555555555555556,
              "#d8576b"
             ],
             [
              0.6666666666666666,
              "#ed7953"
             ],
             [
              0.7777777777777778,
              "#fb9f3a"
             ],
             [
              0.8888888888888888,
              "#fdca26"
             ],
             [
              1,
              "#f0f921"
             ]
            ],
            "type": "histogram2d"
           }
          ],
          "histogram2dcontour": [
           {
            "colorbar": {
             "outlinewidth": 0,
             "ticks": ""
            },
            "colorscale": [
             [
              0,
              "#0d0887"
             ],
             [
              0.1111111111111111,
              "#46039f"
             ],
             [
              0.2222222222222222,
              "#7201a8"
             ],
             [
              0.3333333333333333,
              "#9c179e"
             ],
             [
              0.4444444444444444,
              "#bd3786"
             ],
             [
              0.5555555555555556,
              "#d8576b"
             ],
             [
              0.6666666666666666,
              "#ed7953"
             ],
             [
              0.7777777777777778,
              "#fb9f3a"
             ],
             [
              0.8888888888888888,
              "#fdca26"
             ],
             [
              1,
              "#f0f921"
             ]
            ],
            "type": "histogram2dcontour"
           }
          ],
          "mesh3d": [
           {
            "colorbar": {
             "outlinewidth": 0,
             "ticks": ""
            },
            "type": "mesh3d"
           }
          ],
          "parcoords": [
           {
            "line": {
             "colorbar": {
              "outlinewidth": 0,
              "ticks": ""
             }
            },
            "type": "parcoords"
           }
          ],
          "pie": [
           {
            "automargin": true,
            "type": "pie"
           }
          ],
          "scatter": [
           {
            "fillpattern": {
             "fillmode": "overlay",
             "size": 10,
             "solidity": 0.2
            },
            "type": "scatter"
           }
          ],
          "scatter3d": [
           {
            "line": {
             "colorbar": {
              "outlinewidth": 0,
              "ticks": ""
             }
            },
            "marker": {
             "colorbar": {
              "outlinewidth": 0,
              "ticks": ""
             }
            },
            "type": "scatter3d"
           }
          ],
          "scattercarpet": [
           {
            "marker": {
             "colorbar": {
              "outlinewidth": 0,
              "ticks": ""
             }
            },
            "type": "scattercarpet"
           }
          ],
          "scattergeo": [
           {
            "marker": {
             "colorbar": {
              "outlinewidth": 0,
              "ticks": ""
             }
            },
            "type": "scattergeo"
           }
          ],
          "scattergl": [
           {
            "marker": {
             "colorbar": {
              "outlinewidth": 0,
              "ticks": ""
             }
            },
            "type": "scattergl"
           }
          ],
          "scattermapbox": [
           {
            "marker": {
             "colorbar": {
              "outlinewidth": 0,
              "ticks": ""
             }
            },
            "type": "scattermapbox"
           }
          ],
          "scatterpolar": [
           {
            "marker": {
             "colorbar": {
              "outlinewidth": 0,
              "ticks": ""
             }
            },
            "type": "scatterpolar"
           }
          ],
          "scatterpolargl": [
           {
            "marker": {
             "colorbar": {
              "outlinewidth": 0,
              "ticks": ""
             }
            },
            "type": "scatterpolargl"
           }
          ],
          "scatterternary": [
           {
            "marker": {
             "colorbar": {
              "outlinewidth": 0,
              "ticks": ""
             }
            },
            "type": "scatterternary"
           }
          ],
          "surface": [
           {
            "colorbar": {
             "outlinewidth": 0,
             "ticks": ""
            },
            "colorscale": [
             [
              0,
              "#0d0887"
             ],
             [
              0.1111111111111111,
              "#46039f"
             ],
             [
              0.2222222222222222,
              "#7201a8"
             ],
             [
              0.3333333333333333,
              "#9c179e"
             ],
             [
              0.4444444444444444,
              "#bd3786"
             ],
             [
              0.5555555555555556,
              "#d8576b"
             ],
             [
              0.6666666666666666,
              "#ed7953"
             ],
             [
              0.7777777777777778,
              "#fb9f3a"
             ],
             [
              0.8888888888888888,
              "#fdca26"
             ],
             [
              1,
              "#f0f921"
             ]
            ],
            "type": "surface"
           }
          ],
          "table": [
           {
            "cells": {
             "fill": {
              "color": "#EBF0F8"
             },
             "line": {
              "color": "white"
             }
            },
            "header": {
             "fill": {
              "color": "#C8D4E3"
             },
             "line": {
              "color": "white"
             }
            },
            "type": "table"
           }
          ]
         },
         "layout": {
          "annotationdefaults": {
           "arrowcolor": "#2a3f5f",
           "arrowhead": 0,
           "arrowwidth": 1
          },
          "autotypenumbers": "strict",
          "coloraxis": {
           "colorbar": {
            "outlinewidth": 0,
            "ticks": ""
           }
          },
          "colorscale": {
           "diverging": [
            [
             0,
             "#8e0152"
            ],
            [
             0.1,
             "#c51b7d"
            ],
            [
             0.2,
             "#de77ae"
            ],
            [
             0.3,
             "#f1b6da"
            ],
            [
             0.4,
             "#fde0ef"
            ],
            [
             0.5,
             "#f7f7f7"
            ],
            [
             0.6,
             "#e6f5d0"
            ],
            [
             0.7,
             "#b8e186"
            ],
            [
             0.8,
             "#7fbc41"
            ],
            [
             0.9,
             "#4d9221"
            ],
            [
             1,
             "#276419"
            ]
           ],
           "sequential": [
            [
             0,
             "#0d0887"
            ],
            [
             0.1111111111111111,
             "#46039f"
            ],
            [
             0.2222222222222222,
             "#7201a8"
            ],
            [
             0.3333333333333333,
             "#9c179e"
            ],
            [
             0.4444444444444444,
             "#bd3786"
            ],
            [
             0.5555555555555556,
             "#d8576b"
            ],
            [
             0.6666666666666666,
             "#ed7953"
            ],
            [
             0.7777777777777778,
             "#fb9f3a"
            ],
            [
             0.8888888888888888,
             "#fdca26"
            ],
            [
             1,
             "#f0f921"
            ]
           ],
           "sequentialminus": [
            [
             0,
             "#0d0887"
            ],
            [
             0.1111111111111111,
             "#46039f"
            ],
            [
             0.2222222222222222,
             "#7201a8"
            ],
            [
             0.3333333333333333,
             "#9c179e"
            ],
            [
             0.4444444444444444,
             "#bd3786"
            ],
            [
             0.5555555555555556,
             "#d8576b"
            ],
            [
             0.6666666666666666,
             "#ed7953"
            ],
            [
             0.7777777777777778,
             "#fb9f3a"
            ],
            [
             0.8888888888888888,
             "#fdca26"
            ],
            [
             1,
             "#f0f921"
            ]
           ]
          },
          "colorway": [
           "#636efa",
           "#EF553B",
           "#00cc96",
           "#ab63fa",
           "#FFA15A",
           "#19d3f3",
           "#FF6692",
           "#B6E880",
           "#FF97FF",
           "#FECB52"
          ],
          "font": {
           "color": "#2a3f5f"
          },
          "geo": {
           "bgcolor": "white",
           "lakecolor": "white",
           "landcolor": "#E5ECF6",
           "showlakes": true,
           "showland": true,
           "subunitcolor": "white"
          },
          "hoverlabel": {
           "align": "left"
          },
          "hovermode": "closest",
          "mapbox": {
           "style": "light"
          },
          "paper_bgcolor": "white",
          "plot_bgcolor": "#E5ECF6",
          "polar": {
           "angularaxis": {
            "gridcolor": "white",
            "linecolor": "white",
            "ticks": ""
           },
           "bgcolor": "#E5ECF6",
           "radialaxis": {
            "gridcolor": "white",
            "linecolor": "white",
            "ticks": ""
           }
          },
          "scene": {
           "xaxis": {
            "backgroundcolor": "#E5ECF6",
            "gridcolor": "white",
            "gridwidth": 2,
            "linecolor": "white",
            "showbackground": true,
            "ticks": "",
            "zerolinecolor": "white"
           },
           "yaxis": {
            "backgroundcolor": "#E5ECF6",
            "gridcolor": "white",
            "gridwidth": 2,
            "linecolor": "white",
            "showbackground": true,
            "ticks": "",
            "zerolinecolor": "white"
           },
           "zaxis": {
            "backgroundcolor": "#E5ECF6",
            "gridcolor": "white",
            "gridwidth": 2,
            "linecolor": "white",
            "showbackground": true,
            "ticks": "",
            "zerolinecolor": "white"
           }
          },
          "shapedefaults": {
           "line": {
            "color": "#2a3f5f"
           }
          },
          "ternary": {
           "aaxis": {
            "gridcolor": "white",
            "linecolor": "white",
            "ticks": ""
           },
           "baxis": {
            "gridcolor": "white",
            "linecolor": "white",
            "ticks": ""
           },
           "bgcolor": "#E5ECF6",
           "caxis": {
            "gridcolor": "white",
            "linecolor": "white",
            "ticks": ""
           }
          },
          "title": {
           "x": 0.05
          },
          "xaxis": {
           "automargin": true,
           "gridcolor": "white",
           "linecolor": "white",
           "ticks": "",
           "title": {
            "standoff": 15
           },
           "zerolinecolor": "white",
           "zerolinewidth": 2
          },
          "yaxis": {
           "automargin": true,
           "gridcolor": "white",
           "linecolor": "white",
           "ticks": "",
           "title": {
            "standoff": 15
           },
           "zerolinecolor": "white",
           "zerolinewidth": 2
          }
         }
        },
        "title": {
         "text": "호주의 할인율과 이익률 관계 및 최적 할인율 구간",
         "x": 0.5
        },
        "xaxis": {
         "anchor": "y",
         "domain": [
          0,
          1
         ],
         "title": {
          "text": "할인율 (%)"
         }
        },
        "yaxis": {
         "anchor": "x",
         "domain": [
          0,
          1
         ],
         "title": {
          "text": "이익률 (%)"
         }
        }
       }
      }
     },
     "metadata": {},
     "output_type": "display_data"
    }
   ],
   "source": [
    "X = discount_profit_trend['Discount_ratio']\n",
    "y = discount_profit_trend['Profit Margin']\n",
    "X_const = sm.add_constant(X)\n",
    "model = sm.OLS(y, X_const).fit()\n",
    "\n",
    "fig = px.scatter(\n",
    "    discount_profit_trend, \n",
    "    x='Discount_ratio', \n",
    "    y='Profit Margin', \n",
    "    text=discount_profit_trend['Year'],\n",
    "    labels={'Discount_ratio': '할인율 (%)', 'Profit Margin': '이익률 (%)'},\n",
    "    trendline='ols',\n",
    "    trendline_color_override=\"red\",\n",
    "    color_discrete_sequence=[\"#636EFA\"]\n",
    ")\n",
    "\n",
    "fig.add_vrect(\n",
    "    x0=lower_discount, x1=14.08,\n",
    "    fillcolor=\"green\", opacity=0.2,\n",
    "    layer=\"below\", line_width=0,\n",
    "    annotation_text=\"최적 할인율 범위\", annotation_position=\"top left\"\n",
    ")\n",
    "\n",
    "fig.update_layout(\n",
    "    title=dict(text=\"호주의 할인율과 이익률 관계 및 최적 할인율 구간\",\n",
    "               x=0.5)\n",
    ")\n",
    "fig.update_traces(marker=dict(size=10), textposition='top right')\n",
    "fig.show()\n"
   ]
  },
  {
   "cell_type": "code",
   "execution_count": 65,
   "metadata": {},
   "outputs": [
    {
     "data": {
      "application/vnd.plotly.v1+json": {
       "config": {
        "plotlyServerURL": "https://plot.ly"
       },
       "data": [
        {
         "hovertemplate": "Country=Australia<br>Year=%{x}<br>Profit Margin (%)=%{y}<br>Profit Margin Text=%{text}<extra></extra>",
         "legendgroup": "Australia",
         "line": {
          "color": "#636EFA",
          "dash": "solid"
         },
         "marker": {
          "size": 10,
          "symbol": "circle"
         },
         "mode": "lines+markers+text",
         "name": "Australia",
         "orientation": "v",
         "showlegend": true,
         "text": [
          "12.7%",
          "12.5%",
          "10.7%",
          "10.2%"
         ],
         "textposition": "top right",
         "type": "scatter",
         "x": [
          2011,
          2012,
          2013,
          2014
         ],
         "xaxis": "x",
         "y": [
          12.731477039815097,
          12.516533634045892,
          10.719328921441052,
          10.176685592280638
         ],
         "yaxis": "y"
        },
        {
         "hovertemplate": "Country=China<br>Year=%{x}<br>Profit Margin (%)=%{y}<br>Profit Margin Text=%{text}<extra></extra>",
         "legendgroup": "China",
         "line": {
          "color": "#EF553B",
          "dash": "solid"
         },
         "marker": {
          "size": 10,
          "symbol": "circle"
         },
         "mode": "lines+markers+text",
         "name": "China",
         "orientation": "v",
         "showlegend": true,
         "text": [
          "21.3%",
          "20.1%",
          "22.7%",
          "21.4%"
         ],
         "textposition": "top right",
         "type": "scatter",
         "x": [
          2011,
          2012,
          2013,
          2014
         ],
         "xaxis": "x",
         "y": [
          21.310963320723697,
          20.143566964080044,
          22.727773774663866,
          21.369559995433267
         ],
         "yaxis": "y"
        }
       ],
       "layout": {
        "legend": {
         "title": {
          "text": "Country"
         },
         "tracegroupgap": 0
        },
        "margin": {
         "t": 60
        },
        "plot_bgcolor": "white",
        "template": {
         "data": {
          "bar": [
           {
            "error_x": {
             "color": "#2a3f5f"
            },
            "error_y": {
             "color": "#2a3f5f"
            },
            "marker": {
             "line": {
              "color": "#E5ECF6",
              "width": 0.5
             },
             "pattern": {
              "fillmode": "overlay",
              "size": 10,
              "solidity": 0.2
             }
            },
            "type": "bar"
           }
          ],
          "barpolar": [
           {
            "marker": {
             "line": {
              "color": "#E5ECF6",
              "width": 0.5
             },
             "pattern": {
              "fillmode": "overlay",
              "size": 10,
              "solidity": 0.2
             }
            },
            "type": "barpolar"
           }
          ],
          "carpet": [
           {
            "aaxis": {
             "endlinecolor": "#2a3f5f",
             "gridcolor": "white",
             "linecolor": "white",
             "minorgridcolor": "white",
             "startlinecolor": "#2a3f5f"
            },
            "baxis": {
             "endlinecolor": "#2a3f5f",
             "gridcolor": "white",
             "linecolor": "white",
             "minorgridcolor": "white",
             "startlinecolor": "#2a3f5f"
            },
            "type": "carpet"
           }
          ],
          "choropleth": [
           {
            "colorbar": {
             "outlinewidth": 0,
             "ticks": ""
            },
            "type": "choropleth"
           }
          ],
          "contour": [
           {
            "colorbar": {
             "outlinewidth": 0,
             "ticks": ""
            },
            "colorscale": [
             [
              0,
              "#0d0887"
             ],
             [
              0.1111111111111111,
              "#46039f"
             ],
             [
              0.2222222222222222,
              "#7201a8"
             ],
             [
              0.3333333333333333,
              "#9c179e"
             ],
             [
              0.4444444444444444,
              "#bd3786"
             ],
             [
              0.5555555555555556,
              "#d8576b"
             ],
             [
              0.6666666666666666,
              "#ed7953"
             ],
             [
              0.7777777777777778,
              "#fb9f3a"
             ],
             [
              0.8888888888888888,
              "#fdca26"
             ],
             [
              1,
              "#f0f921"
             ]
            ],
            "type": "contour"
           }
          ],
          "contourcarpet": [
           {
            "colorbar": {
             "outlinewidth": 0,
             "ticks": ""
            },
            "type": "contourcarpet"
           }
          ],
          "heatmap": [
           {
            "colorbar": {
             "outlinewidth": 0,
             "ticks": ""
            },
            "colorscale": [
             [
              0,
              "#0d0887"
             ],
             [
              0.1111111111111111,
              "#46039f"
             ],
             [
              0.2222222222222222,
              "#7201a8"
             ],
             [
              0.3333333333333333,
              "#9c179e"
             ],
             [
              0.4444444444444444,
              "#bd3786"
             ],
             [
              0.5555555555555556,
              "#d8576b"
             ],
             [
              0.6666666666666666,
              "#ed7953"
             ],
             [
              0.7777777777777778,
              "#fb9f3a"
             ],
             [
              0.8888888888888888,
              "#fdca26"
             ],
             [
              1,
              "#f0f921"
             ]
            ],
            "type": "heatmap"
           }
          ],
          "heatmapgl": [
           {
            "colorbar": {
             "outlinewidth": 0,
             "ticks": ""
            },
            "colorscale": [
             [
              0,
              "#0d0887"
             ],
             [
              0.1111111111111111,
              "#46039f"
             ],
             [
              0.2222222222222222,
              "#7201a8"
             ],
             [
              0.3333333333333333,
              "#9c179e"
             ],
             [
              0.4444444444444444,
              "#bd3786"
             ],
             [
              0.5555555555555556,
              "#d8576b"
             ],
             [
              0.6666666666666666,
              "#ed7953"
             ],
             [
              0.7777777777777778,
              "#fb9f3a"
             ],
             [
              0.8888888888888888,
              "#fdca26"
             ],
             [
              1,
              "#f0f921"
             ]
            ],
            "type": "heatmapgl"
           }
          ],
          "histogram": [
           {
            "marker": {
             "pattern": {
              "fillmode": "overlay",
              "size": 10,
              "solidity": 0.2
             }
            },
            "type": "histogram"
           }
          ],
          "histogram2d": [
           {
            "colorbar": {
             "outlinewidth": 0,
             "ticks": ""
            },
            "colorscale": [
             [
              0,
              "#0d0887"
             ],
             [
              0.1111111111111111,
              "#46039f"
             ],
             [
              0.2222222222222222,
              "#7201a8"
             ],
             [
              0.3333333333333333,
              "#9c179e"
             ],
             [
              0.4444444444444444,
              "#bd3786"
             ],
             [
              0.5555555555555556,
              "#d8576b"
             ],
             [
              0.6666666666666666,
              "#ed7953"
             ],
             [
              0.7777777777777778,
              "#fb9f3a"
             ],
             [
              0.8888888888888888,
              "#fdca26"
             ],
             [
              1,
              "#f0f921"
             ]
            ],
            "type": "histogram2d"
           }
          ],
          "histogram2dcontour": [
           {
            "colorbar": {
             "outlinewidth": 0,
             "ticks": ""
            },
            "colorscale": [
             [
              0,
              "#0d0887"
             ],
             [
              0.1111111111111111,
              "#46039f"
             ],
             [
              0.2222222222222222,
              "#7201a8"
             ],
             [
              0.3333333333333333,
              "#9c179e"
             ],
             [
              0.4444444444444444,
              "#bd3786"
             ],
             [
              0.5555555555555556,
              "#d8576b"
             ],
             [
              0.6666666666666666,
              "#ed7953"
             ],
             [
              0.7777777777777778,
              "#fb9f3a"
             ],
             [
              0.8888888888888888,
              "#fdca26"
             ],
             [
              1,
              "#f0f921"
             ]
            ],
            "type": "histogram2dcontour"
           }
          ],
          "mesh3d": [
           {
            "colorbar": {
             "outlinewidth": 0,
             "ticks": ""
            },
            "type": "mesh3d"
           }
          ],
          "parcoords": [
           {
            "line": {
             "colorbar": {
              "outlinewidth": 0,
              "ticks": ""
             }
            },
            "type": "parcoords"
           }
          ],
          "pie": [
           {
            "automargin": true,
            "type": "pie"
           }
          ],
          "scatter": [
           {
            "fillpattern": {
             "fillmode": "overlay",
             "size": 10,
             "solidity": 0.2
            },
            "type": "scatter"
           }
          ],
          "scatter3d": [
           {
            "line": {
             "colorbar": {
              "outlinewidth": 0,
              "ticks": ""
             }
            },
            "marker": {
             "colorbar": {
              "outlinewidth": 0,
              "ticks": ""
             }
            },
            "type": "scatter3d"
           }
          ],
          "scattercarpet": [
           {
            "marker": {
             "colorbar": {
              "outlinewidth": 0,
              "ticks": ""
             }
            },
            "type": "scattercarpet"
           }
          ],
          "scattergeo": [
           {
            "marker": {
             "colorbar": {
              "outlinewidth": 0,
              "ticks": ""
             }
            },
            "type": "scattergeo"
           }
          ],
          "scattergl": [
           {
            "marker": {
             "colorbar": {
              "outlinewidth": 0,
              "ticks": ""
             }
            },
            "type": "scattergl"
           }
          ],
          "scattermapbox": [
           {
            "marker": {
             "colorbar": {
              "outlinewidth": 0,
              "ticks": ""
             }
            },
            "type": "scattermapbox"
           }
          ],
          "scatterpolar": [
           {
            "marker": {
             "colorbar": {
              "outlinewidth": 0,
              "ticks": ""
             }
            },
            "type": "scatterpolar"
           }
          ],
          "scatterpolargl": [
           {
            "marker": {
             "colorbar": {
              "outlinewidth": 0,
              "ticks": ""
             }
            },
            "type": "scatterpolargl"
           }
          ],
          "scatterternary": [
           {
            "marker": {
             "colorbar": {
              "outlinewidth": 0,
              "ticks": ""
             }
            },
            "type": "scatterternary"
           }
          ],
          "surface": [
           {
            "colorbar": {
             "outlinewidth": 0,
             "ticks": ""
            },
            "colorscale": [
             [
              0,
              "#0d0887"
             ],
             [
              0.1111111111111111,
              "#46039f"
             ],
             [
              0.2222222222222222,
              "#7201a8"
             ],
             [
              0.3333333333333333,
              "#9c179e"
             ],
             [
              0.4444444444444444,
              "#bd3786"
             ],
             [
              0.5555555555555556,
              "#d8576b"
             ],
             [
              0.6666666666666666,
              "#ed7953"
             ],
             [
              0.7777777777777778,
              "#fb9f3a"
             ],
             [
              0.8888888888888888,
              "#fdca26"
             ],
             [
              1,
              "#f0f921"
             ]
            ],
            "type": "surface"
           }
          ],
          "table": [
           {
            "cells": {
             "fill": {
              "color": "#EBF0F8"
             },
             "line": {
              "color": "white"
             }
            },
            "header": {
             "fill": {
              "color": "#C8D4E3"
             },
             "line": {
              "color": "white"
             }
            },
            "type": "table"
           }
          ]
         },
         "layout": {
          "annotationdefaults": {
           "arrowcolor": "#2a3f5f",
           "arrowhead": 0,
           "arrowwidth": 1
          },
          "autotypenumbers": "strict",
          "coloraxis": {
           "colorbar": {
            "outlinewidth": 0,
            "ticks": ""
           }
          },
          "colorscale": {
           "diverging": [
            [
             0,
             "#8e0152"
            ],
            [
             0.1,
             "#c51b7d"
            ],
            [
             0.2,
             "#de77ae"
            ],
            [
             0.3,
             "#f1b6da"
            ],
            [
             0.4,
             "#fde0ef"
            ],
            [
             0.5,
             "#f7f7f7"
            ],
            [
             0.6,
             "#e6f5d0"
            ],
            [
             0.7,
             "#b8e186"
            ],
            [
             0.8,
             "#7fbc41"
            ],
            [
             0.9,
             "#4d9221"
            ],
            [
             1,
             "#276419"
            ]
           ],
           "sequential": [
            [
             0,
             "#0d0887"
            ],
            [
             0.1111111111111111,
             "#46039f"
            ],
            [
             0.2222222222222222,
             "#7201a8"
            ],
            [
             0.3333333333333333,
             "#9c179e"
            ],
            [
             0.4444444444444444,
             "#bd3786"
            ],
            [
             0.5555555555555556,
             "#d8576b"
            ],
            [
             0.6666666666666666,
             "#ed7953"
            ],
            [
             0.7777777777777778,
             "#fb9f3a"
            ],
            [
             0.8888888888888888,
             "#fdca26"
            ],
            [
             1,
             "#f0f921"
            ]
           ],
           "sequentialminus": [
            [
             0,
             "#0d0887"
            ],
            [
             0.1111111111111111,
             "#46039f"
            ],
            [
             0.2222222222222222,
             "#7201a8"
            ],
            [
             0.3333333333333333,
             "#9c179e"
            ],
            [
             0.4444444444444444,
             "#bd3786"
            ],
            [
             0.5555555555555556,
             "#d8576b"
            ],
            [
             0.6666666666666666,
             "#ed7953"
            ],
            [
             0.7777777777777778,
             "#fb9f3a"
            ],
            [
             0.8888888888888888,
             "#fdca26"
            ],
            [
             1,
             "#f0f921"
            ]
           ]
          },
          "colorway": [
           "#636efa",
           "#EF553B",
           "#00cc96",
           "#ab63fa",
           "#FFA15A",
           "#19d3f3",
           "#FF6692",
           "#B6E880",
           "#FF97FF",
           "#FECB52"
          ],
          "font": {
           "color": "#2a3f5f"
          },
          "geo": {
           "bgcolor": "white",
           "lakecolor": "white",
           "landcolor": "#E5ECF6",
           "showlakes": true,
           "showland": true,
           "subunitcolor": "white"
          },
          "hoverlabel": {
           "align": "left"
          },
          "hovermode": "closest",
          "mapbox": {
           "style": "light"
          },
          "paper_bgcolor": "white",
          "plot_bgcolor": "#E5ECF6",
          "polar": {
           "angularaxis": {
            "gridcolor": "white",
            "linecolor": "white",
            "ticks": ""
           },
           "bgcolor": "#E5ECF6",
           "radialaxis": {
            "gridcolor": "white",
            "linecolor": "white",
            "ticks": ""
           }
          },
          "scene": {
           "xaxis": {
            "backgroundcolor": "#E5ECF6",
            "gridcolor": "white",
            "gridwidth": 2,
            "linecolor": "white",
            "showbackground": true,
            "ticks": "",
            "zerolinecolor": "white"
           },
           "yaxis": {
            "backgroundcolor": "#E5ECF6",
            "gridcolor": "white",
            "gridwidth": 2,
            "linecolor": "white",
            "showbackground": true,
            "ticks": "",
            "zerolinecolor": "white"
           },
           "zaxis": {
            "backgroundcolor": "#E5ECF6",
            "gridcolor": "white",
            "gridwidth": 2,
            "linecolor": "white",
            "showbackground": true,
            "ticks": "",
            "zerolinecolor": "white"
           }
          },
          "shapedefaults": {
           "line": {
            "color": "#2a3f5f"
           }
          },
          "ternary": {
           "aaxis": {
            "gridcolor": "white",
            "linecolor": "white",
            "ticks": ""
           },
           "baxis": {
            "gridcolor": "white",
            "linecolor": "white",
            "ticks": ""
           },
           "bgcolor": "#E5ECF6",
           "caxis": {
            "gridcolor": "white",
            "linecolor": "white",
            "ticks": ""
           }
          },
          "title": {
           "x": 0.05
          },
          "xaxis": {
           "automargin": true,
           "gridcolor": "white",
           "linecolor": "white",
           "ticks": "",
           "title": {
            "standoff": 15
           },
           "zerolinecolor": "white",
           "zerolinewidth": 2
          },
          "yaxis": {
           "automargin": true,
           "gridcolor": "white",
           "linecolor": "white",
           "ticks": "",
           "title": {
            "standoff": 15
           },
           "zerolinecolor": "white",
           "zerolinewidth": 2
          }
         }
        },
        "title": {
         "text": "국가별 연도별 이익률 추이",
         "x": 0.5
        },
        "xaxis": {
         "anchor": "y",
         "domain": [
          0,
          1
         ],
         "title": {
          "text": "Year"
         }
        },
        "yaxis": {
         "anchor": "x",
         "domain": [
          0,
          1
         ],
         "title": {
          "text": "Profit Margin (%)"
         }
        }
       }
      }
     },
     "metadata": {},
     "output_type": "display_data"
    }
   ],
   "source": [
    "australia_china_df = df[df['Country'].isin(['Australia', 'China']) ]\n",
    "\n",
    "discount_profit_trend = australia_china_df.groupby(['Country', 'Year']).agg({\n",
    "    'Discount': 'mean',\n",
    "    'Profit': 'sum',\n",
    "    'Sales': 'sum'\n",
    "}).reset_index()\n",
    "\n",
    "discount_profit_trend['Profit Margin'] = discount_profit_trend['Profit'] / discount_profit_trend['Sales'] *100\n",
    "discount_profit_trend['Profit Margin Text'] = discount_profit_trend['Profit Margin'].apply(lambda x: f\"{x:.1f}%\")\n",
    "\n",
    "# 그래프 그리기\n",
    "fig = px.line(\n",
    "    discount_profit_trend,\n",
    "    x='Year',\n",
    "    y='Profit Margin',\n",
    "    color='Country',\n",
    "    markers=True,\n",
    "    labels={'Profit Margin': 'Profit Margin (%)'},\n",
    "    text='Profit Margin Text',  # ← 여기 수정됨\n",
    "    color_discrete_sequence=[\"#636EFA\", \"#EF553B\"]\n",
    ")\n",
    "\n",
    "fig.update_traces(marker=dict(size=10), textposition='top right')\n",
    "fig.update_layout(\n",
    "    plot_bgcolor='white',\n",
    "    title=dict(text='국가별 연도별 이익률 추이', x=0.5),\n",
    "    yaxis_title='Profit Margin (%)'\n",
    ")\n",
    "\n",
    "fig.show()"
   ]
  },
  {
   "cell_type": "code",
   "execution_count": 66,
   "metadata": {},
   "outputs": [
    {
     "data": {
      "text/html": [
       "<div>\n",
       "<style scoped>\n",
       "    .dataframe tbody tr th:only-of-type {\n",
       "        vertical-align: middle;\n",
       "    }\n",
       "\n",
       "    .dataframe tbody tr th {\n",
       "        vertical-align: top;\n",
       "    }\n",
       "\n",
       "    .dataframe thead th {\n",
       "        text-align: right;\n",
       "    }\n",
       "</style>\n",
       "<table border=\"1\" class=\"dataframe\">\n",
       "  <thead>\n",
       "    <tr style=\"text-align: right;\">\n",
       "      <th></th>\n",
       "      <th>Category</th>\n",
       "      <th>City</th>\n",
       "      <th>Country</th>\n",
       "      <th>Customer.ID</th>\n",
       "      <th>Customer.Name</th>\n",
       "      <th>Discount</th>\n",
       "      <th>Market</th>\n",
       "      <th>记录数</th>\n",
       "      <th>Order.Date</th>\n",
       "      <th>Order.ID</th>\n",
       "      <th>...</th>\n",
       "      <th>Ship.Date</th>\n",
       "      <th>Ship.Mode</th>\n",
       "      <th>Shipping.Cost</th>\n",
       "      <th>State</th>\n",
       "      <th>Sub.Category</th>\n",
       "      <th>Year</th>\n",
       "      <th>Market2</th>\n",
       "      <th>weeknum</th>\n",
       "      <th>Quarter</th>\n",
       "      <th>Month</th>\n",
       "    </tr>\n",
       "  </thead>\n",
       "  <tbody>\n",
       "    <tr>\n",
       "      <th>3329</th>\n",
       "      <td>Office Supplies</td>\n",
       "      <td>Jieyang</td>\n",
       "      <td>China</td>\n",
       "      <td>PS-190451</td>\n",
       "      <td>Penelope Sewall</td>\n",
       "      <td>0.0</td>\n",
       "      <td>APAC</td>\n",
       "      <td>1</td>\n",
       "      <td>2011-04-16</td>\n",
       "      <td>IN-2011-74490</td>\n",
       "      <td>...</td>\n",
       "      <td>2011-04-17 00:00:00.000</td>\n",
       "      <td>First Class</td>\n",
       "      <td>4.20</td>\n",
       "      <td>Guangdong</td>\n",
       "      <td>Binders</td>\n",
       "      <td>2011</td>\n",
       "      <td>APAC</td>\n",
       "      <td>16</td>\n",
       "      <td>2</td>\n",
       "      <td>4</td>\n",
       "    </tr>\n",
       "    <tr>\n",
       "      <th>3330</th>\n",
       "      <td>Office Supplies</td>\n",
       "      <td>Jieyang</td>\n",
       "      <td>China</td>\n",
       "      <td>PS-190451</td>\n",
       "      <td>Penelope Sewall</td>\n",
       "      <td>0.0</td>\n",
       "      <td>APAC</td>\n",
       "      <td>1</td>\n",
       "      <td>2011-04-16</td>\n",
       "      <td>IN-2011-74490</td>\n",
       "      <td>...</td>\n",
       "      <td>2011-04-17 00:00:00.000</td>\n",
       "      <td>First Class</td>\n",
       "      <td>10.67</td>\n",
       "      <td>Guangdong</td>\n",
       "      <td>Envelopes</td>\n",
       "      <td>2011</td>\n",
       "      <td>APAC</td>\n",
       "      <td>16</td>\n",
       "      <td>2</td>\n",
       "      <td>4</td>\n",
       "    </tr>\n",
       "    <tr>\n",
       "      <th>3331</th>\n",
       "      <td>Office Supplies</td>\n",
       "      <td>Jieyang</td>\n",
       "      <td>China</td>\n",
       "      <td>PS-190451</td>\n",
       "      <td>Penelope Sewall</td>\n",
       "      <td>0.0</td>\n",
       "      <td>APAC</td>\n",
       "      <td>1</td>\n",
       "      <td>2011-04-16</td>\n",
       "      <td>IN-2011-74490</td>\n",
       "      <td>...</td>\n",
       "      <td>2011-04-17 00:00:00.000</td>\n",
       "      <td>First Class</td>\n",
       "      <td>36.53</td>\n",
       "      <td>Guangdong</td>\n",
       "      <td>Paper</td>\n",
       "      <td>2011</td>\n",
       "      <td>APAC</td>\n",
       "      <td>16</td>\n",
       "      <td>2</td>\n",
       "      <td>4</td>\n",
       "    </tr>\n",
       "    <tr>\n",
       "      <th>3336</th>\n",
       "      <td>Office Supplies</td>\n",
       "      <td>Taizhou</td>\n",
       "      <td>China</td>\n",
       "      <td>EM-141401</td>\n",
       "      <td>Eugene Moren</td>\n",
       "      <td>0.0</td>\n",
       "      <td>APAC</td>\n",
       "      <td>1</td>\n",
       "      <td>2011-06-03</td>\n",
       "      <td>IN-2011-50585</td>\n",
       "      <td>...</td>\n",
       "      <td>2011-06-05 00:00:00.000</td>\n",
       "      <td>Second Class</td>\n",
       "      <td>7.85</td>\n",
       "      <td>Jiangsu</td>\n",
       "      <td>Storage</td>\n",
       "      <td>2011</td>\n",
       "      <td>APAC</td>\n",
       "      <td>23</td>\n",
       "      <td>2</td>\n",
       "      <td>6</td>\n",
       "    </tr>\n",
       "    <tr>\n",
       "      <th>3342</th>\n",
       "      <td>Office Supplies</td>\n",
       "      <td>Shenyang</td>\n",
       "      <td>China</td>\n",
       "      <td>CD-127901</td>\n",
       "      <td>Cynthia Delaney</td>\n",
       "      <td>0.0</td>\n",
       "      <td>APAC</td>\n",
       "      <td>1</td>\n",
       "      <td>2011-07-20</td>\n",
       "      <td>IN-2011-44369</td>\n",
       "      <td>...</td>\n",
       "      <td>2011-07-23 00:00:00.000</td>\n",
       "      <td>First Class</td>\n",
       "      <td>8.95</td>\n",
       "      <td>Liaoning</td>\n",
       "      <td>Binders</td>\n",
       "      <td>2011</td>\n",
       "      <td>APAC</td>\n",
       "      <td>30</td>\n",
       "      <td>3</td>\n",
       "      <td>7</td>\n",
       "    </tr>\n",
       "    <tr>\n",
       "      <th>...</th>\n",
       "      <td>...</td>\n",
       "      <td>...</td>\n",
       "      <td>...</td>\n",
       "      <td>...</td>\n",
       "      <td>...</td>\n",
       "      <td>...</td>\n",
       "      <td>...</td>\n",
       "      <td>...</td>\n",
       "      <td>...</td>\n",
       "      <td>...</td>\n",
       "      <td>...</td>\n",
       "      <td>...</td>\n",
       "      <td>...</td>\n",
       "      <td>...</td>\n",
       "      <td>...</td>\n",
       "      <td>...</td>\n",
       "      <td>...</td>\n",
       "      <td>...</td>\n",
       "      <td>...</td>\n",
       "      <td>...</td>\n",
       "      <td>...</td>\n",
       "    </tr>\n",
       "    <tr>\n",
       "      <th>46089</th>\n",
       "      <td>Furniture</td>\n",
       "      <td>Sydney</td>\n",
       "      <td>Australia</td>\n",
       "      <td>AZ-107501</td>\n",
       "      <td>Annie Zypern</td>\n",
       "      <td>0.1</td>\n",
       "      <td>APAC</td>\n",
       "      <td>1</td>\n",
       "      <td>2014-10-14</td>\n",
       "      <td>IN-2014-69604</td>\n",
       "      <td>...</td>\n",
       "      <td>2014-10-20 00:00:00.000</td>\n",
       "      <td>Standard Class</td>\n",
       "      <td>24.45</td>\n",
       "      <td>New South Wales</td>\n",
       "      <td>Chairs</td>\n",
       "      <td>2014</td>\n",
       "      <td>APAC</td>\n",
       "      <td>42</td>\n",
       "      <td>4</td>\n",
       "      <td>10</td>\n",
       "    </tr>\n",
       "    <tr>\n",
       "      <th>46090</th>\n",
       "      <td>Furniture</td>\n",
       "      <td>Sydney</td>\n",
       "      <td>Australia</td>\n",
       "      <td>BE-113351</td>\n",
       "      <td>Bill Eplett</td>\n",
       "      <td>0.1</td>\n",
       "      <td>APAC</td>\n",
       "      <td>1</td>\n",
       "      <td>2014-10-25</td>\n",
       "      <td>IN-2014-41709</td>\n",
       "      <td>...</td>\n",
       "      <td>2014-10-29 00:00:00.000</td>\n",
       "      <td>Standard Class</td>\n",
       "      <td>93.30</td>\n",
       "      <td>New South Wales</td>\n",
       "      <td>Bookcases</td>\n",
       "      <td>2014</td>\n",
       "      <td>APAC</td>\n",
       "      <td>43</td>\n",
       "      <td>4</td>\n",
       "      <td>10</td>\n",
       "    </tr>\n",
       "    <tr>\n",
       "      <th>46091</th>\n",
       "      <td>Office Supplies</td>\n",
       "      <td>Sydney</td>\n",
       "      <td>Australia</td>\n",
       "      <td>BE-113351</td>\n",
       "      <td>Bill Eplett</td>\n",
       "      <td>0.1</td>\n",
       "      <td>APAC</td>\n",
       "      <td>1</td>\n",
       "      <td>2014-10-25</td>\n",
       "      <td>IN-2014-41709</td>\n",
       "      <td>...</td>\n",
       "      <td>2014-10-29 00:00:00.000</td>\n",
       "      <td>Standard Class</td>\n",
       "      <td>2.34</td>\n",
       "      <td>New South Wales</td>\n",
       "      <td>Art</td>\n",
       "      <td>2014</td>\n",
       "      <td>APAC</td>\n",
       "      <td>43</td>\n",
       "      <td>4</td>\n",
       "      <td>10</td>\n",
       "    </tr>\n",
       "    <tr>\n",
       "      <th>46092</th>\n",
       "      <td>Furniture</td>\n",
       "      <td>Sydney</td>\n",
       "      <td>Australia</td>\n",
       "      <td>IG-150851</td>\n",
       "      <td>Ivan Gibson</td>\n",
       "      <td>0.1</td>\n",
       "      <td>APAC</td>\n",
       "      <td>1</td>\n",
       "      <td>2014-10-28</td>\n",
       "      <td>IN-2014-50011</td>\n",
       "      <td>...</td>\n",
       "      <td>2014-11-04 00:00:00.000</td>\n",
       "      <td>Standard Class</td>\n",
       "      <td>61.46</td>\n",
       "      <td>New South Wales</td>\n",
       "      <td>Chairs</td>\n",
       "      <td>2014</td>\n",
       "      <td>APAC</td>\n",
       "      <td>44</td>\n",
       "      <td>4</td>\n",
       "      <td>10</td>\n",
       "    </tr>\n",
       "    <tr>\n",
       "      <th>46093</th>\n",
       "      <td>Office Supplies</td>\n",
       "      <td>Sydney</td>\n",
       "      <td>Australia</td>\n",
       "      <td>IG-150851</td>\n",
       "      <td>Ivan Gibson</td>\n",
       "      <td>0.1</td>\n",
       "      <td>APAC</td>\n",
       "      <td>1</td>\n",
       "      <td>2014-10-28</td>\n",
       "      <td>IN-2014-50011</td>\n",
       "      <td>...</td>\n",
       "      <td>2014-11-04 00:00:00.000</td>\n",
       "      <td>Standard Class</td>\n",
       "      <td>90.08</td>\n",
       "      <td>New South Wales</td>\n",
       "      <td>Appliances</td>\n",
       "      <td>2014</td>\n",
       "      <td>APAC</td>\n",
       "      <td>44</td>\n",
       "      <td>4</td>\n",
       "      <td>10</td>\n",
       "    </tr>\n",
       "  </tbody>\n",
       "</table>\n",
       "<p>4717 rows × 29 columns</p>\n",
       "</div>"
      ],
      "text/plain": [
       "              Category      City    Country Customer.ID    Customer.Name  \\\n",
       "3329   Office Supplies   Jieyang      China   PS-190451  Penelope Sewall   \n",
       "3330   Office Supplies   Jieyang      China   PS-190451  Penelope Sewall   \n",
       "3331   Office Supplies   Jieyang      China   PS-190451  Penelope Sewall   \n",
       "3336   Office Supplies   Taizhou      China   EM-141401     Eugene Moren   \n",
       "3342   Office Supplies  Shenyang      China   CD-127901  Cynthia Delaney   \n",
       "...                ...       ...        ...         ...              ...   \n",
       "46089        Furniture    Sydney  Australia   AZ-107501     Annie Zypern   \n",
       "46090        Furniture    Sydney  Australia   BE-113351      Bill Eplett   \n",
       "46091  Office Supplies    Sydney  Australia   BE-113351      Bill Eplett   \n",
       "46092        Furniture    Sydney  Australia   IG-150851      Ivan Gibson   \n",
       "46093  Office Supplies    Sydney  Australia   IG-150851      Ivan Gibson   \n",
       "\n",
       "       Discount Market  记录数 Order.Date       Order.ID  ...  \\\n",
       "3329        0.0   APAC    1 2011-04-16  IN-2011-74490  ...   \n",
       "3330        0.0   APAC    1 2011-04-16  IN-2011-74490  ...   \n",
       "3331        0.0   APAC    1 2011-04-16  IN-2011-74490  ...   \n",
       "3336        0.0   APAC    1 2011-06-03  IN-2011-50585  ...   \n",
       "3342        0.0   APAC    1 2011-07-20  IN-2011-44369  ...   \n",
       "...         ...    ...  ...        ...            ...  ...   \n",
       "46089       0.1   APAC    1 2014-10-14  IN-2014-69604  ...   \n",
       "46090       0.1   APAC    1 2014-10-25  IN-2014-41709  ...   \n",
       "46091       0.1   APAC    1 2014-10-25  IN-2014-41709  ...   \n",
       "46092       0.1   APAC    1 2014-10-28  IN-2014-50011  ...   \n",
       "46093       0.1   APAC    1 2014-10-28  IN-2014-50011  ...   \n",
       "\n",
       "                     Ship.Date       Ship.Mode Shipping.Cost            State  \\\n",
       "3329   2011-04-17 00:00:00.000     First Class          4.20        Guangdong   \n",
       "3330   2011-04-17 00:00:00.000     First Class         10.67        Guangdong   \n",
       "3331   2011-04-17 00:00:00.000     First Class         36.53        Guangdong   \n",
       "3336   2011-06-05 00:00:00.000    Second Class          7.85          Jiangsu   \n",
       "3342   2011-07-23 00:00:00.000     First Class          8.95         Liaoning   \n",
       "...                        ...             ...           ...              ...   \n",
       "46089  2014-10-20 00:00:00.000  Standard Class         24.45  New South Wales   \n",
       "46090  2014-10-29 00:00:00.000  Standard Class         93.30  New South Wales   \n",
       "46091  2014-10-29 00:00:00.000  Standard Class          2.34  New South Wales   \n",
       "46092  2014-11-04 00:00:00.000  Standard Class         61.46  New South Wales   \n",
       "46093  2014-11-04 00:00:00.000  Standard Class         90.08  New South Wales   \n",
       "\n",
       "       Sub.Category  Year  Market2  weeknum Quarter Month  \n",
       "3329        Binders  2011     APAC       16       2     4  \n",
       "3330      Envelopes  2011     APAC       16       2     4  \n",
       "3331          Paper  2011     APAC       16       2     4  \n",
       "3336        Storage  2011     APAC       23       2     6  \n",
       "3342        Binders  2011     APAC       30       3     7  \n",
       "...             ...   ...      ...      ...     ...   ...  \n",
       "46089        Chairs  2014     APAC       42       4    10  \n",
       "46090     Bookcases  2014     APAC       43       4    10  \n",
       "46091           Art  2014     APAC       43       4    10  \n",
       "46092        Chairs  2014     APAC       44       4    10  \n",
       "46093    Appliances  2014     APAC       44       4    10  \n",
       "\n",
       "[4717 rows x 29 columns]"
      ]
     },
     "execution_count": 66,
     "metadata": {},
     "output_type": "execute_result"
    }
   ],
   "source": [
    "australia_china_df"
   ]
  }
 ],
 "metadata": {
  "kernelspec": {
   "display_name": "Python 3",
   "language": "python",
   "name": "python3"
  },
  "language_info": {
   "codemirror_mode": {
    "name": "ipython",
    "version": 3
   },
   "file_extension": ".py",
   "mimetype": "text/x-python",
   "name": "python",
   "nbconvert_exporter": "python",
   "pygments_lexer": "ipython3",
   "version": "3.12.10"
  }
 },
 "nbformat": 4,
 "nbformat_minor": 2
}
